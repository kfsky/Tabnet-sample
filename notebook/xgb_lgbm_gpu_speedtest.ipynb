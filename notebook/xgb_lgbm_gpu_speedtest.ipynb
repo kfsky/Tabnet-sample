{
 "cells": [
  {
   "cell_type": "code",
   "execution_count": 3,
   "metadata": {},
   "outputs": [],
   "source": [
    "import xgboost as xgb\n",
    "\n",
    "\n",
    "from sklearn.datasets import make_moons\n",
    "from sklearn.datasets import fetch_covtype\n",
    "\n",
    "X, y = fetch_covtype(return_X_y=True)"
   ]
  },
  {
   "cell_type": "code",
   "execution_count": 6,
   "metadata": {},
   "outputs": [
    {
     "name": "stdout",
     "output_type": "stream",
     "text": [
      "Requirement already satisfied: matplotlib in /home/penguin/conda/lib/python3.7/site-packages (3.5.1)\n",
      "Requirement already satisfied: pillow>=6.2.0 in /home/penguin/conda/lib/python3.7/site-packages (from matplotlib) (6.2.1)\n",
      "Requirement already satisfied: kiwisolver>=1.0.1 in /home/penguin/conda/lib/python3.7/site-packages (from matplotlib) (1.3.1)\n",
      "Requirement already satisfied: fonttools>=4.22.0 in /home/penguin/conda/lib/python3.7/site-packages (from matplotlib) (4.28.4)\n",
      "Requirement already satisfied: pyparsing>=2.2.1 in /home/penguin/conda/lib/python3.7/site-packages (from matplotlib) (2.4.7)\n",
      "Requirement already satisfied: numpy>=1.17 in /home/penguin/conda/lib/python3.7/site-packages (from matplotlib) (1.20.2)\n",
      "Requirement already satisfied: cycler>=0.10 in /home/penguin/conda/lib/python3.7/site-packages (from matplotlib) (0.10.0)\n",
      "Requirement already satisfied: packaging>=20.0 in /home/penguin/conda/lib/python3.7/site-packages (from matplotlib) (21.0)\n",
      "Requirement already satisfied: python-dateutil>=2.7 in /home/penguin/conda/lib/python3.7/site-packages (from matplotlib) (2.8.1)\n",
      "Requirement already satisfied: six in /home/penguin/conda/lib/python3.7/site-packages (from cycler>=0.10->matplotlib) (1.16.0)\n"
     ]
    }
   ],
   "source": [
    "# lightgbmが動かない\n",
    "!pip install --upgrade matplotlib"
   ]
  },
  {
   "cell_type": "code",
   "execution_count": 10,
   "metadata": {},
   "outputs": [
    {
     "ename": "AttributeError",
     "evalue": "module 'matplotlib._api' has no attribute 'caching_module_getattr'",
     "output_type": "error",
     "traceback": [
      "\u001b[0;31m---------------------------------------------------------------------------\u001b[0m",
      "\u001b[0;31mAttributeError\u001b[0m                            Traceback (most recent call last)",
      "\u001b[0;32m/tmp/ipykernel_38/611512547.py\u001b[0m in \u001b[0;36m<module>\u001b[0;34m\u001b[0m\n\u001b[0;32m----> 1\u001b[0;31m \u001b[0;32mimport\u001b[0m \u001b[0mmatplotlib\u001b[0m\u001b[0;34m.\u001b[0m\u001b[0mpyplot\u001b[0m \u001b[0;32mas\u001b[0m \u001b[0mplt\u001b[0m\u001b[0;34m\u001b[0m\u001b[0;34m\u001b[0m\u001b[0m\n\u001b[0m\u001b[1;32m      2\u001b[0m \u001b[0mmatplotlib\u001b[0m\u001b[0;34m.\u001b[0m\u001b[0m__version__\u001b[0m\u001b[0;34m\u001b[0m\u001b[0;34m\u001b[0m\u001b[0m\n\u001b[1;32m      3\u001b[0m \u001b[0;31m#from lightgbm import LGBMModel\u001b[0m\u001b[0;34m\u001b[0m\u001b[0;34m\u001b[0m\u001b[0;34m\u001b[0m\u001b[0m\n",
      "\u001b[0;32m~/conda/lib/python3.7/site-packages/matplotlib/__init__.py\u001b[0m in \u001b[0;36m<module>\u001b[0;34m\u001b[0m\n\u001b[1;32m    177\u001b[0m \u001b[0;34m\u001b[0m\u001b[0m\n\u001b[1;32m    178\u001b[0m \u001b[0;34m\u001b[0m\u001b[0m\n\u001b[0;32m--> 179\u001b[0;31m \u001b[0;34m@\u001b[0m\u001b[0m_api\u001b[0m\u001b[0;34m.\u001b[0m\u001b[0mcaching_module_getattr\u001b[0m\u001b[0;34m\u001b[0m\u001b[0;34m\u001b[0m\u001b[0m\n\u001b[0m\u001b[1;32m    180\u001b[0m \u001b[0;32mclass\u001b[0m \u001b[0m__getattr__\u001b[0m\u001b[0;34m:\u001b[0m\u001b[0;34m\u001b[0m\u001b[0;34m\u001b[0m\u001b[0m\n\u001b[1;32m    181\u001b[0m     \u001b[0m__version__\u001b[0m \u001b[0;34m=\u001b[0m \u001b[0mproperty\u001b[0m\u001b[0;34m(\u001b[0m\u001b[0;32mlambda\u001b[0m \u001b[0mself\u001b[0m\u001b[0;34m:\u001b[0m \u001b[0m_get_version\u001b[0m\u001b[0;34m(\u001b[0m\u001b[0;34m)\u001b[0m\u001b[0;34m)\u001b[0m\u001b[0;34m\u001b[0m\u001b[0;34m\u001b[0m\u001b[0m\n",
      "\u001b[0;31mAttributeError\u001b[0m: module 'matplotlib._api' has no attribute 'caching_module_getattr'"
     ]
    }
   ],
   "source": [
    "import matplotlib\n",
    "matplotlib.__version__\n",
    "#from lightgbm import LGBMModel"
   ]
  },
  {
   "cell_type": "code",
   "execution_count": 11,
   "metadata": {},
   "outputs": [],
   "source": [
    "def get_xgb_params(mode='cpu'):\n",
    "    params = {}\n",
    "    if mode is 'cpu':\n",
    "        params['device'] = 'cpu'\n",
    "        params['updater'] = 'grow_histmaker,prune'\n",
    "    else:   # gpu\n",
    "        params['device'] = 'gpu'\n",
    "        params['gpu_id'] = 0\n",
    "        params['updater'] = 'grow_gpu_hist'\n",
    "\n",
    "    params['max_depth'] = 5\n",
    "    params['learning_rate'] = 0.2\n",
    "    params['objective'] = 'multi:softmax'\n",
    "    params['n_estimators'] = 200\n",
    "    params['n_jobs'] = -1\n",
    "    params['verbose'] = 10\n",
    "\n",
    "    return params\n",
    "\n",
    "def get_lgbm_params(is_cpu=True):\n",
    "    '''\n",
    "      LightGBM (classifier) parameters\n",
    "    '''\n",
    "    params = {}\n",
    "    if is_cpu:\n",
    "        params['device'] = 'cpu'\n",
    "    else:\n",
    "        params['device'] = 'gpu'\n",
    "    params['max_bin'] = 63\n",
    "    params['num_leaves'] = 64 \n",
    "    params['learning_rate'] = 0.1\n",
    "    params['objective'] = 'multiclass'\n",
    "    params['n_estimators'] = 200\n",
    "    params['nthread'] = -1\n",
    "\n",
    "    return params"
   ]
  },
  {
   "cell_type": "code",
   "execution_count": 12,
   "metadata": {},
   "outputs": [
    {
     "name": "stderr",
     "output_type": "stream",
     "text": [
      "/home/penguin/conda/lib/python3.7/site-packages/xgboost/sklearn.py:1146: UserWarning: The use of label encoder in XGBClassifier is deprecated and will be removed in a future release. To remove this warning, do the following: 1) Pass option use_label_encoder=False when constructing XGBClassifier object; and 2) Encode your labels (y) as integers starting with 0, i.e. 0, 1, 2, ..., [num_class - 1].\n",
      "  warnings.warn(label_encoder_deprecation_msg, UserWarning)\n"
     ]
    },
    {
     "name": "stdout",
     "output_type": "stream",
     "text": [
      "[15:09:23] WARNING: ../src/gbm/gbtree.cc:82: DANGER AHEAD: You have manually specified `updater` parameter. The `tree_method` parameter will be ignored. Incorrect sequence of updaters will produce undefined behavior. For common uses, we recommend using `tree_method` parameter instead.\n",
      "[15:09:23] WARNING: ../src/learner.cc:223: No visible GPU is found, setting `gpu_id` to -1\n",
      "[15:09:23] WARNING: ../src/learner.cc:573: \n",
      "Parameters: { \"device\", \"verbose\" } might not be used.\n",
      "\n",
      "  This may not be accurate due to some parameters are only used in language bindings but\n",
      "  passed down to XGBoost core.  Or some parameters are not used but slip through this\n",
      "  verification. Please open an issue if you find above cases.\n",
      "\n",
      "\n"
     ]
    },
    {
     "ename": "XGBoostError",
     "evalue": "[15:09:23] ../src/tree/updater_gpu_hist.cu:793: Exception in gpu_hist: [15:09:23] ../src/tree/updater_gpu_hist.cu:802: Check failed: device_ >= 0 (-1 vs. 0) : Must have at least one device\nStack trace:\n  [bt] (0) /home/penguin/conda/lib/python3.7/site-packages/xgboost/lib/libxgboost.so(+0x9133f) [0x7f38667e833f]\n  [bt] (1) /home/penguin/conda/lib/python3.7/site-packages/xgboost/lib/libxgboost.so(+0x4df643) [0x7f3866c36643]\n  [bt] (2) /home/penguin/conda/lib/python3.7/site-packages/xgboost/lib/libxgboost.so(+0x4e9404) [0x7f3866c40404]\n  [bt] (3) /home/penguin/conda/lib/python3.7/site-packages/xgboost/lib/libxgboost.so(+0x18c862) [0x7f38668e3862]\n  [bt] (4) /home/penguin/conda/lib/python3.7/site-packages/xgboost/lib/libxgboost.so(+0x18ead8) [0x7f38668e5ad8]\n  [bt] (5) /home/penguin/conda/lib/python3.7/site-packages/xgboost/lib/libxgboost.so(+0x1b9b93) [0x7f3866910b93]\n  [bt] (6) /home/penguin/conda/lib/python3.7/site-packages/xgboost/lib/libxgboost.so(XGBoosterUpdateOneIter+0x50) [0x7f38667d7ed0]\n  [bt] (7) /home/penguin/conda/lib/python3.7/lib-dynload/../../libffi.so.7(+0x69dd) [0x7f38ced289dd]\n  [bt] (8) /home/penguin/conda/lib/python3.7/lib-dynload/../../libffi.so.7(+0x6067) [0x7f38ced28067]\n\n\n\nStack trace:\n  [bt] (0) /home/penguin/conda/lib/python3.7/site-packages/xgboost/lib/libxgboost.so(+0x9133f) [0x7f38667e833f]\n  [bt] (1) /home/penguin/conda/lib/python3.7/site-packages/xgboost/lib/libxgboost.so(+0x4e9a88) [0x7f3866c40a88]\n  [bt] (2) /home/penguin/conda/lib/python3.7/site-packages/xgboost/lib/libxgboost.so(+0x18c862) [0x7f38668e3862]\n  [bt] (3) /home/penguin/conda/lib/python3.7/site-packages/xgboost/lib/libxgboost.so(+0x18ead8) [0x7f38668e5ad8]\n  [bt] (4) /home/penguin/conda/lib/python3.7/site-packages/xgboost/lib/libxgboost.so(+0x1b9b93) [0x7f3866910b93]\n  [bt] (5) /home/penguin/conda/lib/python3.7/site-packages/xgboost/lib/libxgboost.so(XGBoosterUpdateOneIter+0x50) [0x7f38667d7ed0]\n  [bt] (6) /home/penguin/conda/lib/python3.7/lib-dynload/../../libffi.so.7(+0x69dd) [0x7f38ced289dd]\n  [bt] (7) /home/penguin/conda/lib/python3.7/lib-dynload/../../libffi.so.7(+0x6067) [0x7f38ced28067]\n  [bt] (8) /home/penguin/conda/lib/python3.7/lib-dynload/_ctypes.cpython-37m-x86_64-linux-gnu.so(_ctypes_callproc+0x896) [0x7f38cde54496]\n\n",
     "output_type": "error",
     "traceback": [
      "\u001b[0;31m---------------------------------------------------------------------------\u001b[0m",
      "\u001b[0;31mXGBoostError\u001b[0m                              Traceback (most recent call last)",
      "\u001b[0;32m<timed exec>\u001b[0m in \u001b[0;36m<module>\u001b[0;34m\u001b[0m\n",
      "\u001b[0;32m~/conda/lib/python3.7/site-packages/xgboost/core.py\u001b[0m in \u001b[0;36minner_f\u001b[0;34m(*args, **kwargs)\u001b[0m\n\u001b[1;32m    434\u001b[0m         \u001b[0;32mfor\u001b[0m \u001b[0mk\u001b[0m\u001b[0;34m,\u001b[0m \u001b[0marg\u001b[0m \u001b[0;32min\u001b[0m \u001b[0mzip\u001b[0m\u001b[0;34m(\u001b[0m\u001b[0msig\u001b[0m\u001b[0;34m.\u001b[0m\u001b[0mparameters\u001b[0m\u001b[0;34m,\u001b[0m \u001b[0margs\u001b[0m\u001b[0;34m)\u001b[0m\u001b[0;34m:\u001b[0m\u001b[0;34m\u001b[0m\u001b[0;34m\u001b[0m\u001b[0m\n\u001b[1;32m    435\u001b[0m             \u001b[0mkwargs\u001b[0m\u001b[0;34m[\u001b[0m\u001b[0mk\u001b[0m\u001b[0;34m]\u001b[0m \u001b[0;34m=\u001b[0m \u001b[0marg\u001b[0m\u001b[0;34m\u001b[0m\u001b[0;34m\u001b[0m\u001b[0m\n\u001b[0;32m--> 436\u001b[0;31m         \u001b[0;32mreturn\u001b[0m \u001b[0mf\u001b[0m\u001b[0;34m(\u001b[0m\u001b[0;34m**\u001b[0m\u001b[0mkwargs\u001b[0m\u001b[0;34m)\u001b[0m\u001b[0;34m\u001b[0m\u001b[0;34m\u001b[0m\u001b[0m\n\u001b[0m\u001b[1;32m    437\u001b[0m \u001b[0;34m\u001b[0m\u001b[0m\n\u001b[1;32m    438\u001b[0m     \u001b[0;32mreturn\u001b[0m \u001b[0minner_f\u001b[0m\u001b[0;34m\u001b[0m\u001b[0;34m\u001b[0m\u001b[0m\n",
      "\u001b[0;32m~/conda/lib/python3.7/site-packages/xgboost/sklearn.py\u001b[0m in \u001b[0;36mfit\u001b[0;34m(self, X, y, sample_weight, base_margin, eval_set, eval_metric, early_stopping_rounds, verbose, xgb_model, sample_weight_eval_set, base_margin_eval_set, feature_weights, callbacks)\u001b[0m\n\u001b[1;32m   1185\u001b[0m             \u001b[0mverbose_eval\u001b[0m\u001b[0;34m=\u001b[0m\u001b[0mverbose\u001b[0m\u001b[0;34m,\u001b[0m\u001b[0;34m\u001b[0m\u001b[0;34m\u001b[0m\u001b[0m\n\u001b[1;32m   1186\u001b[0m             \u001b[0mxgb_model\u001b[0m\u001b[0;34m=\u001b[0m\u001b[0mmodel\u001b[0m\u001b[0;34m,\u001b[0m\u001b[0;34m\u001b[0m\u001b[0;34m\u001b[0m\u001b[0m\n\u001b[0;32m-> 1187\u001b[0;31m             \u001b[0mcallbacks\u001b[0m\u001b[0;34m=\u001b[0m\u001b[0mcallbacks\u001b[0m\u001b[0;34m,\u001b[0m\u001b[0;34m\u001b[0m\u001b[0;34m\u001b[0m\u001b[0m\n\u001b[0m\u001b[1;32m   1188\u001b[0m         )\n\u001b[1;32m   1189\u001b[0m \u001b[0;34m\u001b[0m\u001b[0m\n",
      "\u001b[0;32m~/conda/lib/python3.7/site-packages/xgboost/training.py\u001b[0m in \u001b[0;36mtrain\u001b[0;34m(params, dtrain, num_boost_round, evals, obj, feval, maximize, early_stopping_rounds, evals_result, verbose_eval, xgb_model, callbacks)\u001b[0m\n\u001b[1;32m    195\u001b[0m                           \u001b[0mevals_result\u001b[0m\u001b[0;34m=\u001b[0m\u001b[0mevals_result\u001b[0m\u001b[0;34m,\u001b[0m\u001b[0;34m\u001b[0m\u001b[0;34m\u001b[0m\u001b[0m\n\u001b[1;32m    196\u001b[0m                           \u001b[0mmaximize\u001b[0m\u001b[0;34m=\u001b[0m\u001b[0mmaximize\u001b[0m\u001b[0;34m,\u001b[0m\u001b[0;34m\u001b[0m\u001b[0;34m\u001b[0m\u001b[0m\n\u001b[0;32m--> 197\u001b[0;31m                           early_stopping_rounds=early_stopping_rounds)\n\u001b[0m\u001b[1;32m    198\u001b[0m     \u001b[0;32mreturn\u001b[0m \u001b[0mbst\u001b[0m\u001b[0;34m\u001b[0m\u001b[0;34m\u001b[0m\u001b[0m\n\u001b[1;32m    199\u001b[0m \u001b[0;34m\u001b[0m\u001b[0m\n",
      "\u001b[0;32m~/conda/lib/python3.7/site-packages/xgboost/training.py\u001b[0m in \u001b[0;36m_train_internal\u001b[0;34m(params, dtrain, num_boost_round, evals, obj, feval, xgb_model, callbacks, evals_result, maximize, verbose_eval, early_stopping_rounds)\u001b[0m\n\u001b[1;32m     79\u001b[0m         \u001b[0;32mif\u001b[0m \u001b[0mcallbacks\u001b[0m\u001b[0;34m.\u001b[0m\u001b[0mbefore_iteration\u001b[0m\u001b[0;34m(\u001b[0m\u001b[0mbst\u001b[0m\u001b[0;34m,\u001b[0m \u001b[0mi\u001b[0m\u001b[0;34m,\u001b[0m \u001b[0mdtrain\u001b[0m\u001b[0;34m,\u001b[0m \u001b[0mevals\u001b[0m\u001b[0;34m)\u001b[0m\u001b[0;34m:\u001b[0m\u001b[0;34m\u001b[0m\u001b[0;34m\u001b[0m\u001b[0m\n\u001b[1;32m     80\u001b[0m             \u001b[0;32mbreak\u001b[0m\u001b[0;34m\u001b[0m\u001b[0;34m\u001b[0m\u001b[0m\n\u001b[0;32m---> 81\u001b[0;31m         \u001b[0mbst\u001b[0m\u001b[0;34m.\u001b[0m\u001b[0mupdate\u001b[0m\u001b[0;34m(\u001b[0m\u001b[0mdtrain\u001b[0m\u001b[0;34m,\u001b[0m \u001b[0mi\u001b[0m\u001b[0;34m,\u001b[0m \u001b[0mobj\u001b[0m\u001b[0;34m)\u001b[0m\u001b[0;34m\u001b[0m\u001b[0;34m\u001b[0m\u001b[0m\n\u001b[0m\u001b[1;32m     82\u001b[0m         \u001b[0;32mif\u001b[0m \u001b[0mcallbacks\u001b[0m\u001b[0;34m.\u001b[0m\u001b[0mafter_iteration\u001b[0m\u001b[0;34m(\u001b[0m\u001b[0mbst\u001b[0m\u001b[0;34m,\u001b[0m \u001b[0mi\u001b[0m\u001b[0;34m,\u001b[0m \u001b[0mdtrain\u001b[0m\u001b[0;34m,\u001b[0m \u001b[0mevals\u001b[0m\u001b[0;34m)\u001b[0m\u001b[0;34m:\u001b[0m\u001b[0;34m\u001b[0m\u001b[0;34m\u001b[0m\u001b[0m\n\u001b[1;32m     83\u001b[0m             \u001b[0;32mbreak\u001b[0m\u001b[0;34m\u001b[0m\u001b[0;34m\u001b[0m\u001b[0m\n",
      "\u001b[0;32m~/conda/lib/python3.7/site-packages/xgboost/core.py\u001b[0m in \u001b[0;36mupdate\u001b[0;34m(self, dtrain, iteration, fobj)\u001b[0m\n\u001b[1;32m   1499\u001b[0m             _check_call(_LIB.XGBoosterUpdateOneIter(self.handle,\n\u001b[1;32m   1500\u001b[0m                                                     \u001b[0mctypes\u001b[0m\u001b[0;34m.\u001b[0m\u001b[0mc_int\u001b[0m\u001b[0;34m(\u001b[0m\u001b[0miteration\u001b[0m\u001b[0;34m)\u001b[0m\u001b[0;34m,\u001b[0m\u001b[0;34m\u001b[0m\u001b[0;34m\u001b[0m\u001b[0m\n\u001b[0;32m-> 1501\u001b[0;31m                                                     dtrain.handle))\n\u001b[0m\u001b[1;32m   1502\u001b[0m         \u001b[0;32melse\u001b[0m\u001b[0;34m:\u001b[0m\u001b[0;34m\u001b[0m\u001b[0;34m\u001b[0m\u001b[0m\n\u001b[1;32m   1503\u001b[0m             \u001b[0mpred\u001b[0m \u001b[0;34m=\u001b[0m \u001b[0mself\u001b[0m\u001b[0;34m.\u001b[0m\u001b[0mpredict\u001b[0m\u001b[0;34m(\u001b[0m\u001b[0mdtrain\u001b[0m\u001b[0;34m,\u001b[0m \u001b[0moutput_margin\u001b[0m\u001b[0;34m=\u001b[0m\u001b[0;32mTrue\u001b[0m\u001b[0;34m,\u001b[0m \u001b[0mtraining\u001b[0m\u001b[0;34m=\u001b[0m\u001b[0;32mTrue\u001b[0m\u001b[0;34m)\u001b[0m\u001b[0;34m\u001b[0m\u001b[0;34m\u001b[0m\u001b[0m\n",
      "\u001b[0;32m~/conda/lib/python3.7/site-packages/xgboost/core.py\u001b[0m in \u001b[0;36m_check_call\u001b[0;34m(ret)\u001b[0m\n\u001b[1;32m    208\u001b[0m     \"\"\"\n\u001b[1;32m    209\u001b[0m     \u001b[0;32mif\u001b[0m \u001b[0mret\u001b[0m \u001b[0;34m!=\u001b[0m \u001b[0;36m0\u001b[0m\u001b[0;34m:\u001b[0m\u001b[0;34m\u001b[0m\u001b[0;34m\u001b[0m\u001b[0m\n\u001b[0;32m--> 210\u001b[0;31m         \u001b[0;32mraise\u001b[0m \u001b[0mXGBoostError\u001b[0m\u001b[0;34m(\u001b[0m\u001b[0mpy_str\u001b[0m\u001b[0;34m(\u001b[0m\u001b[0m_LIB\u001b[0m\u001b[0;34m.\u001b[0m\u001b[0mXGBGetLastError\u001b[0m\u001b[0;34m(\u001b[0m\u001b[0;34m)\u001b[0m\u001b[0;34m)\u001b[0m\u001b[0;34m)\u001b[0m\u001b[0;34m\u001b[0m\u001b[0;34m\u001b[0m\u001b[0m\n\u001b[0m\u001b[1;32m    211\u001b[0m \u001b[0;34m\u001b[0m\u001b[0m\n\u001b[1;32m    212\u001b[0m \u001b[0;34m\u001b[0m\u001b[0m\n",
      "\u001b[0;31mXGBoostError\u001b[0m: [15:09:23] ../src/tree/updater_gpu_hist.cu:793: Exception in gpu_hist: [15:09:23] ../src/tree/updater_gpu_hist.cu:802: Check failed: device_ >= 0 (-1 vs. 0) : Must have at least one device\nStack trace:\n  [bt] (0) /home/penguin/conda/lib/python3.7/site-packages/xgboost/lib/libxgboost.so(+0x9133f) [0x7f38667e833f]\n  [bt] (1) /home/penguin/conda/lib/python3.7/site-packages/xgboost/lib/libxgboost.so(+0x4df643) [0x7f3866c36643]\n  [bt] (2) /home/penguin/conda/lib/python3.7/site-packages/xgboost/lib/libxgboost.so(+0x4e9404) [0x7f3866c40404]\n  [bt] (3) /home/penguin/conda/lib/python3.7/site-packages/xgboost/lib/libxgboost.so(+0x18c862) [0x7f38668e3862]\n  [bt] (4) /home/penguin/conda/lib/python3.7/site-packages/xgboost/lib/libxgboost.so(+0x18ead8) [0x7f38668e5ad8]\n  [bt] (5) /home/penguin/conda/lib/python3.7/site-packages/xgboost/lib/libxgboost.so(+0x1b9b93) [0x7f3866910b93]\n  [bt] (6) /home/penguin/conda/lib/python3.7/site-packages/xgboost/lib/libxgboost.so(XGBoosterUpdateOneIter+0x50) [0x7f38667d7ed0]\n  [bt] (7) /home/penguin/conda/lib/python3.7/lib-dynload/../../libffi.so.7(+0x69dd) [0x7f38ced289dd]\n  [bt] (8) /home/penguin/conda/lib/python3.7/lib-dynload/../../libffi.so.7(+0x6067) [0x7f38ced28067]\n\n\n\nStack trace:\n  [bt] (0) /home/penguin/conda/lib/python3.7/site-packages/xgboost/lib/libxgboost.so(+0x9133f) [0x7f38667e833f]\n  [bt] (1) /home/penguin/conda/lib/python3.7/site-packages/xgboost/lib/libxgboost.so(+0x4e9a88) [0x7f3866c40a88]\n  [bt] (2) /home/penguin/conda/lib/python3.7/site-packages/xgboost/lib/libxgboost.so(+0x18c862) [0x7f38668e3862]\n  [bt] (3) /home/penguin/conda/lib/python3.7/site-packages/xgboost/lib/libxgboost.so(+0x18ead8) [0x7f38668e5ad8]\n  [bt] (4) /home/penguin/conda/lib/python3.7/site-packages/xgboost/lib/libxgboost.so(+0x1b9b93) [0x7f3866910b93]\n  [bt] (5) /home/penguin/conda/lib/python3.7/site-packages/xgboost/lib/libxgboost.so(XGBoosterUpdateOneIter+0x50) [0x7f38667d7ed0]\n  [bt] (6) /home/penguin/conda/lib/python3.7/lib-dynload/../../libffi.so.7(+0x69dd) [0x7f38ced289dd]\n  [bt] (7) /home/penguin/conda/lib/python3.7/lib-dynload/../../libffi.so.7(+0x6067) [0x7f38ced28067]\n  [bt] (8) /home/penguin/conda/lib/python3.7/lib-dynload/_ctypes.cpython-37m-x86_64-linux-gnu.so(_ctypes_callproc+0x896) [0x7f38cde54496]\n\n"
     ]
    }
   ],
   "source": [
    "%%time\n",
    "\n",
    "clf = xgb.XGBClassifier(**get_xgb_params('gpu'))\n",
    "clf.fit(X, y, verbose=20, eval_set=[(X, y)])"
   ]
  },
  {
   "cell_type": "code",
   "execution_count": 4,
   "metadata": {},
   "outputs": [
    {
     "name": "stdout",
     "output_type": "stream",
     "text": [
      "[03:20:22] WARNING: /opt/conda/conda-bld/xgboost_1560800456086/work/src/learner.cc:194: DANGER AHEAD: You have manually specified `updater` parameter. The `tree_method` parameter will be ignored. Incorrect sequence of updaters will produce undefined behavior. For common uses, we recommend using `tree_method` parameter instead.\n",
      "[0]\tvalidation_0-merror:0.272473\n",
      "[20]\tvalidation_0-merror:0.234214\n",
      "[40]\tvalidation_0-merror:0.214113\n",
      "[60]\tvalidation_0-merror:0.200615\n",
      "[80]\tvalidation_0-merror:0.189691\n",
      "[100]\tvalidation_0-merror:0.177194\n",
      "[120]\tvalidation_0-merror:0.168516\n",
      "[140]\tvalidation_0-merror:0.157856\n",
      "[160]\tvalidation_0-merror:0.14957\n",
      "[180]\tvalidation_0-merror:0.142038\n",
      "[199]\tvalidation_0-merror:0.136443\n",
      "CPU times: user 1h 56min 44s, sys: 31.3 s, total: 1h 57min 15s\n",
      "Wall time: 15min 48s\n"
     ]
    },
    {
     "data": {
      "text/plain": [
       "XGBClassifier(device='cpu', learning_rate=0.2, max_depth=5, n_estimators=200,\n",
       "              n_jobs=-1, objective='multi:softprob',\n",
       "              updater='grow_histmaker,prune', verbose=10)"
      ]
     },
     "execution_count": 4,
     "metadata": {},
     "output_type": "execute_result"
    }
   ],
   "source": [
    "%%time\n",
    "\n",
    "clf = xgb.XGBClassifier(**get_xgb_params('cpu'))\n",
    "clf.fit(X, y, verbose=20, eval_set=[(X, y)])"
   ]
  },
  {
   "cell_type": "code",
   "execution_count": 5,
   "metadata": {},
   "outputs": [
    {
     "name": "stdout",
     "output_type": "stream",
     "text": [
      "[LightGBM] [Warning] num_threads is set with nthread=-1, will be overridden by n_jobs=-1. Current value: num_threads=-1\n",
      "[20]\ttraining's multi_logloss: 0.532748\n",
      "[40]\ttraining's multi_logloss: 0.418493\n",
      "[60]\ttraining's multi_logloss: 0.367881\n",
      "[80]\ttraining's multi_logloss: 0.335999\n",
      "[100]\ttraining's multi_logloss: 0.313731\n",
      "[120]\ttraining's multi_logloss: 0.296864\n",
      "[140]\ttraining's multi_logloss: 0.283511\n",
      "[160]\ttraining's multi_logloss: 0.271042\n",
      "[180]\ttraining's multi_logloss: 0.259678\n",
      "[200]\ttraining's multi_logloss: 0.249684\n",
      "CPU times: user 3min 28s, sys: 2.33 s, total: 3min 30s\n",
      "Wall time: 28.8 s\n"
     ]
    },
    {
     "data": {
      "text/plain": [
       "LGBMClassifier(device='cpu', max_bin=63, n_estimators=200, nthread=-1,\n",
       "               num_leaves=64, objective='multiclass')"
      ]
     },
     "execution_count": 5,
     "metadata": {},
     "output_type": "execute_result"
    }
   ],
   "source": [
    "%%time\n",
    "\n",
    "clf = lgbm.LGBMClassifier(**get_lgbm_params(is_cpu=True))\n",
    "clf.fit(X, y, verbose=20, eval_set=[(X, y)])"
   ]
  },
  {
   "cell_type": "code",
   "execution_count": 6,
   "metadata": {},
   "outputs": [
    {
     "name": "stdout",
     "output_type": "stream",
     "text": [
      "[20]\ttraining's multi_logloss: 0.532748\n",
      "[40]\ttraining's multi_logloss: 0.418564\n",
      "[60]\ttraining's multi_logloss: 0.368933\n",
      "[80]\ttraining's multi_logloss: 0.337784\n",
      "[100]\ttraining's multi_logloss: 0.313959\n",
      "[120]\ttraining's multi_logloss: 0.295792\n",
      "[140]\ttraining's multi_logloss: 0.281183\n",
      "[160]\ttraining's multi_logloss: 0.268481\n",
      "[180]\ttraining's multi_logloss: 0.258151\n",
      "[200]\ttraining's multi_logloss: 0.248241\n",
      "CPU times: user 3min 33s, sys: 4.04 s, total: 3min 37s\n",
      "Wall time: 32 s\n"
     ]
    },
    {
     "data": {
      "text/plain": [
       "LGBMClassifier(device='gpu', max_bin=63, n_estimators=200, nthread=-1,\n",
       "               num_leaves=64, objective='multiclass')"
      ]
     },
     "execution_count": 6,
     "metadata": {},
     "output_type": "execute_result"
    }
   ],
   "source": [
    "%%time\n",
    "\n",
    "clf = lgbm.LGBMClassifier(**get_lgbm_params(is_cpu=False))\n",
    "clf.fit(X, y, verbose=20, eval_set=[(X, y)])"
   ]
  },
  {
   "cell_type": "code",
   "execution_count": null,
   "metadata": {},
   "outputs": [],
   "source": []
  }
 ],
 "metadata": {
  "kernelspec": {
   "display_name": "Python 3 (ipykernel)",
   "language": "python",
   "name": "python3"
  },
  "language_info": {
   "codemirror_mode": {
    "name": "ipython",
    "version": 3
   },
   "file_extension": ".py",
   "mimetype": "text/x-python",
   "name": "python",
   "nbconvert_exporter": "python",
   "pygments_lexer": "ipython3",
   "version": "3.7.10"
  }
 },
 "nbformat": 4,
 "nbformat_minor": 4
}
