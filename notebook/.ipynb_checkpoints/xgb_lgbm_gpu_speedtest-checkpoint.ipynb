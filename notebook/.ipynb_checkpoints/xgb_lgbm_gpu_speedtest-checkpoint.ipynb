{
 "cells": [
  {
   "cell_type": "code",
   "execution_count": 1,
   "metadata": {},
   "outputs": [],
   "source": [
    "import xgboost as xgb\n",
    "import lightgbm as lgbm\n",
    "\n",
    "from sklearn.datasets import make_moons\n",
    "from sklearn.datasets import fetch_covtype\n",
    "\n",
    "X, y = fetch_covtype(return_X_y=True)"
   ]
  },
  {
   "cell_type": "code",
   "execution_count": 2,
   "metadata": {},
   "outputs": [],
   "source": [
    "def get_xgb_params(mode='cpu'):\n",
    "    params = {}\n",
    "    if mode is 'cpu':\n",
    "        params['device'] = 'cpu'\n",
    "        params['updater'] = 'grow_histmaker,prune'\n",
    "    else:   # gpu\n",
    "        params['device'] = 'gpu'\n",
    "        params['gpu_id'] = 0\n",
    "        params['updater'] = 'grow_gpu_hist'\n",
    "\n",
    "    params['max_depth'] = 5\n",
    "    params['learning_rate'] = 0.2\n",
    "    params['objective'] = 'multi:softmax'\n",
    "    params['n_estimators'] = 200\n",
    "    params['n_jobs'] = -1\n",
    "    params['verbose'] = 10\n",
    "\n",
    "    return params\n",
    "\n",
    "def get_lgbm_params(is_cpu=True):\n",
    "    '''\n",
    "      LightGBM (classifier) parameters\n",
    "    '''\n",
    "    params = {}\n",
    "    if is_cpu:\n",
    "        params['device'] = 'cpu'\n",
    "    else:\n",
    "        params['device'] = 'gpu'\n",
    "    params['max_bin'] = 63\n",
    "    params['num_leaves'] = 64 \n",
    "    params['learning_rate'] = 0.1\n",
    "    params['objective'] = 'multiclass'\n",
    "    params['n_estimators'] = 200\n",
    "    params['nthread'] = -1\n",
    "\n",
    "    return params"
   ]
  },
  {
   "cell_type": "code",
   "execution_count": 3,
   "metadata": {},
   "outputs": [
    {
     "name": "stdout",
     "output_type": "stream",
     "text": [
      "[03:18:56] WARNING: /opt/conda/conda-bld/xgboost_1560800456086/work/src/learner.cc:194: DANGER AHEAD: You have manually specified `updater` parameter. The `tree_method` parameter will be ignored. Incorrect sequence of updaters will produce undefined behavior. For common uses, we recommend using `tree_method` parameter instead.\n",
      "[0]\tvalidation_0-merror:0.272549\n",
      "[20]\tvalidation_0-merror:0.234962\n",
      "[40]\tvalidation_0-merror:0.215977\n",
      "[60]\tvalidation_0-merror:0.203514\n",
      "[80]\tvalidation_0-merror:0.190728\n",
      "[100]\tvalidation_0-merror:0.179394\n",
      "[120]\tvalidation_0-merror:0.170342\n",
      "[140]\tvalidation_0-merror:0.160231\n",
      "[160]\tvalidation_0-merror:0.154035\n",
      "[180]\tvalidation_0-merror:0.144708\n",
      "[199]\tvalidation_0-merror:0.137715\n",
      "CPU times: user 11min 2s, sys: 9.14 s, total: 11min 11s\n",
      "Wall time: 1min 26s\n"
     ]
    },
    {
     "data": {
      "text/plain": [
       "XGBClassifier(device='gpu', gpu_id=0, learning_rate=0.2, max_depth=5,\n",
       "              n_estimators=200, n_jobs=-1, objective='multi:softprob',\n",
       "              updater='grow_gpu_hist', verbose=10)"
      ]
     },
     "execution_count": 3,
     "metadata": {},
     "output_type": "execute_result"
    }
   ],
   "source": [
    "%%time\n",
    "\n",
    "clf = xgb.XGBClassifier(**get_xgb_params('gpu'))\n",
    "clf.fit(X, y, verbose=20, eval_set=[(X, y)])"
   ]
  },
  {
   "cell_type": "code",
   "execution_count": 4,
   "metadata": {},
   "outputs": [
    {
     "name": "stdout",
     "output_type": "stream",
     "text": [
      "[03:20:22] WARNING: /opt/conda/conda-bld/xgboost_1560800456086/work/src/learner.cc:194: DANGER AHEAD: You have manually specified `updater` parameter. The `tree_method` parameter will be ignored. Incorrect sequence of updaters will produce undefined behavior. For common uses, we recommend using `tree_method` parameter instead.\n",
      "[0]\tvalidation_0-merror:0.272473\n",
      "[20]\tvalidation_0-merror:0.234214\n",
      "[40]\tvalidation_0-merror:0.214113\n",
      "[60]\tvalidation_0-merror:0.200615\n",
      "[80]\tvalidation_0-merror:0.189691\n",
      "[100]\tvalidation_0-merror:0.177194\n",
      "[120]\tvalidation_0-merror:0.168516\n",
      "[140]\tvalidation_0-merror:0.157856\n",
      "[160]\tvalidation_0-merror:0.14957\n",
      "[180]\tvalidation_0-merror:0.142038\n",
      "[199]\tvalidation_0-merror:0.136443\n",
      "CPU times: user 1h 56min 44s, sys: 31.3 s, total: 1h 57min 15s\n",
      "Wall time: 15min 48s\n"
     ]
    },
    {
     "data": {
      "text/plain": [
       "XGBClassifier(device='cpu', learning_rate=0.2, max_depth=5, n_estimators=200,\n",
       "              n_jobs=-1, objective='multi:softprob',\n",
       "              updater='grow_histmaker,prune', verbose=10)"
      ]
     },
     "execution_count": 4,
     "metadata": {},
     "output_type": "execute_result"
    }
   ],
   "source": [
    "%%time\n",
    "\n",
    "clf = xgb.XGBClassifier(**get_xgb_params('cpu'))\n",
    "clf.fit(X, y, verbose=20, eval_set=[(X, y)])"
   ]
  },
  {
   "cell_type": "code",
   "execution_count": 5,
   "metadata": {},
   "outputs": [
    {
     "name": "stdout",
     "output_type": "stream",
     "text": [
      "[LightGBM] [Warning] num_threads is set with nthread=-1, will be overridden by n_jobs=-1. Current value: num_threads=-1\n",
      "[20]\ttraining's multi_logloss: 0.532748\n",
      "[40]\ttraining's multi_logloss: 0.418493\n",
      "[60]\ttraining's multi_logloss: 0.367881\n",
      "[80]\ttraining's multi_logloss: 0.335999\n",
      "[100]\ttraining's multi_logloss: 0.313731\n",
      "[120]\ttraining's multi_logloss: 0.296864\n",
      "[140]\ttraining's multi_logloss: 0.283511\n",
      "[160]\ttraining's multi_logloss: 0.271042\n",
      "[180]\ttraining's multi_logloss: 0.259678\n",
      "[200]\ttraining's multi_logloss: 0.249684\n",
      "CPU times: user 3min 28s, sys: 2.33 s, total: 3min 30s\n",
      "Wall time: 28.8 s\n"
     ]
    },
    {
     "data": {
      "text/plain": [
       "LGBMClassifier(device='cpu', max_bin=63, n_estimators=200, nthread=-1,\n",
       "               num_leaves=64, objective='multiclass')"
      ]
     },
     "execution_count": 5,
     "metadata": {},
     "output_type": "execute_result"
    }
   ],
   "source": [
    "%%time\n",
    "\n",
    "clf = lgbm.LGBMClassifier(**get_lgbm_params(is_cpu=True))\n",
    "clf.fit(X, y, verbose=20, eval_set=[(X, y)])"
   ]
  },
  {
   "cell_type": "code",
   "execution_count": 6,
   "metadata": {},
   "outputs": [
    {
     "name": "stdout",
     "output_type": "stream",
     "text": [
      "[20]\ttraining's multi_logloss: 0.532748\n",
      "[40]\ttraining's multi_logloss: 0.418564\n",
      "[60]\ttraining's multi_logloss: 0.368933\n",
      "[80]\ttraining's multi_logloss: 0.337784\n",
      "[100]\ttraining's multi_logloss: 0.313959\n",
      "[120]\ttraining's multi_logloss: 0.295792\n",
      "[140]\ttraining's multi_logloss: 0.281183\n",
      "[160]\ttraining's multi_logloss: 0.268481\n",
      "[180]\ttraining's multi_logloss: 0.258151\n",
      "[200]\ttraining's multi_logloss: 0.248241\n",
      "CPU times: user 3min 33s, sys: 4.04 s, total: 3min 37s\n",
      "Wall time: 32 s\n"
     ]
    },
    {
     "data": {
      "text/plain": [
       "LGBMClassifier(device='gpu', max_bin=63, n_estimators=200, nthread=-1,\n",
       "               num_leaves=64, objective='multiclass')"
      ]
     },
     "execution_count": 6,
     "metadata": {},
     "output_type": "execute_result"
    }
   ],
   "source": [
    "%%time\n",
    "\n",
    "clf = lgbm.LGBMClassifier(**get_lgbm_params(is_cpu=False))\n",
    "clf.fit(X, y, verbose=20, eval_set=[(X, y)])"
   ]
  },
  {
   "cell_type": "code",
   "execution_count": null,
   "metadata": {},
   "outputs": [],
   "source": []
  }
 ],
 "metadata": {
  "kernelspec": {
   "display_name": "Python 3",
   "language": "python",
   "name": "python3"
  },
  "language_info": {
   "codemirror_mode": {
    "name": "ipython",
    "version": 3
   },
   "file_extension": ".py",
   "mimetype": "text/x-python",
   "name": "python",
   "nbconvert_exporter": "python",
   "pygments_lexer": "ipython3",
   "version": "3.7.7"
  }
 },
 "nbformat": 4,
 "nbformat_minor": 2
}
