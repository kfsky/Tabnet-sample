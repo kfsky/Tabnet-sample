{
  "nbformat": 4,
  "nbformat_minor": 0,
  "metadata": {
    "colab": {
      "name": "TabNet_sample.ipynb",
      "provenance": [],
      "collapsed_sections": [
        "EWahgyvYTG4G"
      ],
      "machine_shape": "hm"
    },
    "kernelspec": {
      "display_name": "Python 3",
      "name": "python3"
    },
    "accelerator": "GPU"
  },
  "cells": [
    {
      "cell_type": "markdown",
      "source": [
        "# atumaCup10th でサンプルデータがあったので、それを確認"
      ],
      "metadata": {
        "id": "VyISrtxk-YE_"
      }
    },
    {
      "cell_type": "markdown",
      "metadata": {
        "id": "B2bzU8TN0FEZ"
      },
      "source": [
        "# import etc"
      ]
    },
    {
      "cell_type": "code",
      "metadata": {
        "colab": {
          "base_uri": "https://localhost:8080/"
        },
        "id": "hujb2rVUral_",
        "outputId": "33cb8fe2-ebc3-4ff0-c02b-66619ac185b0"
      },
      "source": [
        "# ライブラリのインストール\n",
        "!pip install pytorch-tabnet\n",
        "!git clone https://github.com/facebookresearch/fastText.git\n",
        "!pip install fastText\n",
        "!rm -rf fastText\n",
        "!pip install category_encoders"
      ],
      "execution_count": 1,
      "outputs": [
        {
          "output_type": "stream",
          "name": "stdout",
          "text": [
            "Collecting pytorch-tabnet\n",
            "  Downloading pytorch_tabnet-3.1.1-py3-none-any.whl (39 kB)\n",
            "Requirement already satisfied: scipy>1.4 in /usr/local/lib/python3.7/dist-packages (from pytorch-tabnet) (1.4.1)\n",
            "Requirement already satisfied: scikit_learn>0.21 in /usr/local/lib/python3.7/dist-packages (from pytorch-tabnet) (1.0.1)\n",
            "Requirement already satisfied: numpy<2.0,>=1.17 in /usr/local/lib/python3.7/dist-packages (from pytorch-tabnet) (1.19.5)\n",
            "Requirement already satisfied: tqdm<5.0,>=4.36 in /usr/local/lib/python3.7/dist-packages (from pytorch-tabnet) (4.62.3)\n",
            "Requirement already satisfied: torch<2.0,>=1.2 in /usr/local/lib/python3.7/dist-packages (from pytorch-tabnet) (1.10.0+cu111)\n",
            "Requirement already satisfied: joblib>=0.11 in /usr/local/lib/python3.7/dist-packages (from scikit_learn>0.21->pytorch-tabnet) (1.1.0)\n",
            "Requirement already satisfied: threadpoolctl>=2.0.0 in /usr/local/lib/python3.7/dist-packages (from scikit_learn>0.21->pytorch-tabnet) (3.0.0)\n",
            "Requirement already satisfied: typing-extensions in /usr/local/lib/python3.7/dist-packages (from torch<2.0,>=1.2->pytorch-tabnet) (3.10.0.2)\n",
            "Installing collected packages: pytorch-tabnet\n",
            "Successfully installed pytorch-tabnet-3.1.1\n",
            "Cloning into 'fastText'...\n",
            "remote: Enumerating objects: 3854, done.\u001b[K\n",
            "remote: Total 3854 (delta 0), reused 0 (delta 0), pack-reused 3854\u001b[K\n",
            "Receiving objects: 100% (3854/3854), 8.22 MiB | 16.55 MiB/s, done.\n",
            "Resolving deltas: 100% (2417/2417), done.\n",
            "Collecting fastText\n",
            "  Downloading fasttext-0.9.2.tar.gz (68 kB)\n",
            "\u001b[K     |████████████████████████████████| 68 kB 5.1 MB/s \n",
            "\u001b[?25hCollecting pybind11>=2.2\n",
            "  Using cached pybind11-2.8.1-py2.py3-none-any.whl (208 kB)\n",
            "Requirement already satisfied: setuptools>=0.7.0 in /usr/local/lib/python3.7/dist-packages (from fastText) (57.4.0)\n",
            "Requirement already satisfied: numpy in /usr/local/lib/python3.7/dist-packages (from fastText) (1.19.5)\n",
            "Building wheels for collected packages: fastText\n",
            "  Building wheel for fastText (setup.py) ... \u001b[?25l\u001b[?25hdone\n",
            "  Created wheel for fastText: filename=fasttext-0.9.2-cp37-cp37m-linux_x86_64.whl size=3127063 sha256=5f5c694eef0918d2709bac6e2d8c6a3250e55a3683f08ee49f90b662d6bb2406\n",
            "  Stored in directory: /root/.cache/pip/wheels/4e/ca/bf/b020d2be95f7641801a6597a29c8f4f19e38f9c02a345bab9b\n",
            "Successfully built fastText\n",
            "Installing collected packages: pybind11, fastText\n",
            "Successfully installed fastText-0.9.2 pybind11-2.8.1\n",
            "Collecting category_encoders\n",
            "  Downloading category_encoders-2.3.0-py2.py3-none-any.whl (82 kB)\n",
            "\u001b[K     |████████████████████████████████| 82 kB 472 kB/s \n",
            "\u001b[?25hRequirement already satisfied: patsy>=0.5.1 in /usr/local/lib/python3.7/dist-packages (from category_encoders) (0.5.2)\n",
            "Requirement already satisfied: numpy>=1.14.0 in /usr/local/lib/python3.7/dist-packages (from category_encoders) (1.19.5)\n",
            "Requirement already satisfied: scikit-learn>=0.20.0 in /usr/local/lib/python3.7/dist-packages (from category_encoders) (1.0.1)\n",
            "Requirement already satisfied: pandas>=0.21.1 in /usr/local/lib/python3.7/dist-packages (from category_encoders) (1.1.5)\n",
            "Requirement already satisfied: scipy>=1.0.0 in /usr/local/lib/python3.7/dist-packages (from category_encoders) (1.4.1)\n",
            "Requirement already satisfied: statsmodels>=0.9.0 in /usr/local/lib/python3.7/dist-packages (from category_encoders) (0.10.2)\n",
            "Requirement already satisfied: python-dateutil>=2.7.3 in /usr/local/lib/python3.7/dist-packages (from pandas>=0.21.1->category_encoders) (2.8.2)\n",
            "Requirement already satisfied: pytz>=2017.2 in /usr/local/lib/python3.7/dist-packages (from pandas>=0.21.1->category_encoders) (2018.9)\n",
            "Requirement already satisfied: six in /usr/local/lib/python3.7/dist-packages (from patsy>=0.5.1->category_encoders) (1.15.0)\n",
            "Requirement already satisfied: joblib>=0.11 in /usr/local/lib/python3.7/dist-packages (from scikit-learn>=0.20.0->category_encoders) (1.1.0)\n",
            "Requirement already satisfied: threadpoolctl>=2.0.0 in /usr/local/lib/python3.7/dist-packages (from scikit-learn>=0.20.0->category_encoders) (3.0.0)\n",
            "Installing collected packages: category-encoders\n",
            "Successfully installed category-encoders-2.3.0\n"
          ]
        }
      ]
    },
    {
      "cell_type": "code",
      "metadata": {
        "id": "V-Mu-Q8krk5o",
        "colab": {
          "base_uri": "https://localhost:8080/"
        },
        "outputId": "303bc2f5-68f7-4ef4-c400-66a117d71a56"
      },
      "source": [
        "import os, warnings, re, datetime, random\n",
        "from typing import Union, List, Optional\n",
        "from requests import get\n",
        "from tqdm import tqdm\n",
        "\n",
        "import pandas as pd\n",
        "import numpy as np\n",
        "import matplotlib.pyplot as plt\n",
        "import seaborn as sns\n",
        "from colorsys import rgb_to_hsv\n",
        "\n",
        "from sklearn.preprocessing import LabelEncoder, QuantileTransformer\n",
        "import category_encoders as ce\n",
        "from sklearn.metrics import mean_squared_error\n",
        "\n",
        "from fasttext import load_model\n",
        "from gensim.models import word2vec\n",
        "import hashlib\n",
        "\n",
        "import torch\n",
        "from torch import nn\n",
        "import torch.optim as optim\n",
        "import torch.nn.functional as F\n",
        "from torch.optim.lr_scheduler import ReduceLROnPlateau\n",
        "\n",
        "from pytorch_tabnet.pretraining import TabNetPretrainer #事前学習\n",
        "from pytorch_tabnet.tab_model import TabNetRegressor\n",
        "\n",
        "tqdm.pandas()\n",
        "plt.style.use('ggplot')\n",
        "warnings.filterwarnings('ignore')\n",
        "pd.set_option('display.max_columns', 1000)\n",
        "pd.set_option('display.max_rows', 300)"
      ],
      "execution_count": 2,
      "outputs": [
        {
          "output_type": "stream",
          "name": "stderr",
          "text": [
            "/usr/local/lib/python3.7/dist-packages/statsmodels/tools/_testing.py:19: FutureWarning: pandas.util.testing is deprecated. Use the functions in the public API at pandas.testing instead.\n",
            "  import pandas.util.testing as tm\n"
          ]
        }
      ]
    },
    {
      "cell_type": "code",
      "source": [
        "from google.colab import drive\n",
        "drive.mount('/content/drive')"
      ],
      "metadata": {
        "colab": {
          "base_uri": "https://localhost:8080/"
        },
        "id": "Szl-I0wz-rGt",
        "outputId": "1981e6b0-49e6-46be-fd0a-c77e1169e8ae"
      },
      "execution_count": 6,
      "outputs": [
        {
          "output_type": "stream",
          "name": "stdout",
          "text": [
            "Mounted at /content/drive\n"
          ]
        }
      ]
    },
    {
      "cell_type": "code",
      "metadata": {
        "colab": {
          "base_uri": "https://localhost:8080/"
        },
        "id": "2q-QsjItrssu",
        "outputId": "ba39167b-8564-4957-df47-9225aa24a97f"
      },
      "source": [
        "# 実行前にドライブマウントする\n",
        "%cd /content/drive/MyDrive/Input/Tabnet/notebook"
      ],
      "execution_count": 8,
      "outputs": [
        {
          "output_type": "stream",
          "name": "stdout",
          "text": [
            "/content/drive/MyDrive/Input/Tabnet/notebook\n"
          ]
        }
      ]
    },
    {
      "cell_type": "code",
      "metadata": {
        "id": "UfYXyEv7r0K2"
      },
      "source": [
        "# config\n",
        "NOTEBOOK_NAME = get('http://172.28.0.2:9000/api/sessions').json()[0]['name'].replace('.ipynb', '')\n",
        "DATA_DIR = '../input' # csvを保存してあるディレクトリ\n",
        "TARGET_COL = 'likes'\n",
        "SEED = 0\n",
        "FOLD = 5"
      ],
      "execution_count": 9,
      "outputs": []
    },
    {
      "cell_type": "code",
      "metadata": {
        "id": "cblrr8IDsAQ-"
      },
      "source": [
        "train_raw = pd.read_csv(os.path.join(DATA_DIR, 'train.csv'))\n",
        "test_raw = pd.read_csv(os.path.join(DATA_DIR, 'test.csv'))\n",
        "df_raw = pd.concat([train_raw, test_raw], ignore_index=True)"
      ],
      "execution_count": 11,
      "outputs": []
    },
    {
      "cell_type": "markdown",
      "metadata": {
        "id": "IF_e3LMH9EEW"
      },
      "source": [
        "# Preprocess&FeatureEngineering"
      ]
    },
    {
      "cell_type": "markdown",
      "metadata": {
        "id": "gFiXLF2j0vF1"
      },
      "source": [
        "[初心者講座#2](https://www.guruguru.science/competitions/16/discussions/95b7f8ec-a741-444f-933a-94c33b9e66be/)で紹介されているBlockによる特徴作成をベースにしています。"
      ]
    },
    {
      "cell_type": "code",
      "metadata": {
        "id": "1NqJAJ6G9Pg8"
      },
      "source": [
        "class BaseBlock(object):\n",
        "    def fit(self, input_df, y=None):\n",
        "        return self.transform(input_df)\n",
        "    \n",
        "    def transform(self, input_df):\n",
        "        raise NotImplementedError"
      ],
      "execution_count": 12,
      "outputs": []
    },
    {
      "cell_type": "code",
      "metadata": {
        "id": "0ZMSPhvVSFei"
      },
      "source": [
        "def left_join(left, right, on='object_id'):\n",
        "    if isinstance(left, pd.DataFrame):\n",
        "        left = left[on]\n",
        "    return pd.merge(left, right, on=on, how='left').drop(columns=[on])"
      ],
      "execution_count": 13,
      "outputs": []
    },
    {
      "cell_type": "markdown",
      "metadata": {
        "id": "vzv0Jdt1_S-V"
      },
      "source": [
        "## メタ情報"
      ]
    },
    {
      "cell_type": "markdown",
      "metadata": {
        "id": "1hfkWZqD1JfN"
      },
      "source": [
        "### `object_id`と`name`からなるメタ情報\n",
        "\n",
        "上記の2列のみからなる以下の各ファイルです。\n",
        "- hirstorical_person.csv\n",
        "- material.csv\n",
        "- object_collection.csv\n",
        "- technique.csv\n",
        "- production_place.csv\n",
        "\n",
        "これらは[Word2Vecによる特徴量化](https://www.guruguru.science/competitions/16/discussions/2fafef06-5a26-4d33-b535-a94cc9549ac4/)を行います。その際、これらのファイル以外の情報（例えば、train.csvやtest.csvの`dating_period`情報など）も一緒に文章の一部と見立ててWord2Vecで処理できる様に、同じ形式のpd.DataFrameを用意しておきます。"
      ]
    },
    {
      "cell_type": "markdown",
      "metadata": {
        "id": "7wSTSf5r24xe"
      },
      "source": [
        "#### `object_id` + `name`形式のpd.DataFrameの用意"
      ]
    },
    {
      "cell_type": "code",
      "metadata": {
        "id": "gCnnxPNDuF48"
      },
      "source": [
        "# 読み込むだけ\n",
        "historical_person = pd.read_csv(os.path.join(DATA_DIR, 'historical_person.csv'))\n",
        "material = pd.read_csv(os.path.join(DATA_DIR, 'material.csv'))\n",
        "object_collection = pd.read_csv(os.path.join(DATA_DIR, 'object_collection.csv'))\n",
        "technique = pd.read_csv(os.path.join(DATA_DIR, 'technique.csv'))\n",
        "production_place = pd.read_csv(os.path.join(DATA_DIR, 'production_place.csv'))\n",
        "\n",
        "# principal_makerから作成\n",
        "principal_maker = pd.read_csv(os.path.join(DATA_DIR, 'principal_maker.csv'))\n",
        "principal_maker_occupation = pd.read_csv(os.path.join(DATA_DIR, 'principal_maker_occupation.csv'))\n",
        "makers = principal_maker[['object_id', 'maker_name']].rename(columns={'maker_name': 'name'})\n",
        "occupation = principal_maker.merge(principal_maker_occupation, on='id', how='left')[['object_id', 'name']].dropna().reset_index(drop=True)\n",
        "qualification = principal_maker[['object_id', 'qualification']].rename(columns={'qualification': 'name'}).dropna().reset_index(drop=True)\n",
        "\n",
        "# df_rawから作成\n",
        "def get_object_name_df(col):\n",
        "    return df_raw[['object_id', col]].rename(columns={col: 'name'})\n",
        "\n",
        "acquisition_method = get_object_name_df('acquisition_method')\n",
        "period = get_object_name_df('dating_period')"
      ],
      "execution_count": 14,
      "outputs": []
    },
    {
      "cell_type": "markdown",
      "metadata": {
        "id": "_EPc8IWD3Yst"
      },
      "source": [
        "#### Block（分散表現を取得）"
      ]
    },
    {
      "cell_type": "code",
      "metadata": {
        "id": "o_w2gJ5ZK7r2"
      },
      "source": [
        "# https://www.guruguru.science/competitions/16/discussions/4a6f5f84-8491-4324-ba69-dec49dc648cd/\n",
        "os.environ[\"PYTHONHASHSEED\"] = \"0\"\n",
        "\n",
        "def hashfxn(x):\n",
        "    return int(hashlib.md5(str(x).encode()).hexdigest(), 16)"
      ],
      "execution_count": 15,
      "outputs": []
    },
    {
      "cell_type": "code",
      "metadata": {
        "id": "eGjwk_tASMZq"
      },
      "source": [
        "class ToVecBlock(BaseBlock):\n",
        "    \"\"\"word2vecでベクトル化する\n",
        "    Args:\n",
        "        df_dict(dict): 複数DataFrameを辞書にしておくとconcatして処理\n",
        "        window(int): 学習時のwindowサイズ\n",
        "\n",
        "    \"\"\"\n",
        "    def __init__(self, df_dict, window=1):\n",
        "        self.df_dict = df_dict\n",
        "        self.window = window\n",
        "    \n",
        "    def fit(self, input_df, y=None):\n",
        "        df = pd.concat([self.df_dict[key] for key in self.df_dict], axis=0).reset_index(drop=True)\n",
        "        df['name'] = df['name'].astype(str)\n",
        "        \n",
        "        model_size = min(50, df['name'].nunique() // 4)\n",
        "        df_group = df.groupby(\"object_id\")[\"name\"].apply(list).reset_index()\n",
        "\n",
        "        # Word2Vecの学習\n",
        "        w2v_model = word2vec.Word2Vec(df_group[\"name\"].values.tolist(),\n",
        "                                      size=model_size,\n",
        "                                      min_count=1,\n",
        "                                      window=self.window,\n",
        "                                      iter=100,\n",
        "                                      seed=SEED,\n",
        "                                      hashfxn=hashfxn)\n",
        "\n",
        "        # 各文章ごとにそれぞれの単語をベクトル表現に直し、平均をとって文章ベクトルにする\n",
        "        sentence_vectors = df_group[\"name\"].apply(\n",
        "            lambda x: np.mean([w2v_model.wv[e] for e in x], axis=0))\n",
        "        sentence_vectors = np.vstack([x for x in sentence_vectors])\n",
        "        self.sentence_vector_df = pd.DataFrame(sentence_vectors,\n",
        "                                               columns=[f\"{'_'.join(self.df_dict)}_w2v_{self.window}_{i}\"\n",
        "                                                        for i in range(model_size)])\n",
        "        self.sentence_vector_df.index = df_group[\"object_id\"]\n",
        "            \n",
        "        return self.transform(input_df)\n",
        "    \n",
        "    def transform(self, input_df):\n",
        "        return left_join(input_df, self.sentence_vector_df) "
      ],
      "execution_count": 16,
      "outputs": []
    },
    {
      "cell_type": "markdown",
      "metadata": {
        "id": "FeXyg6_ATEOs"
      },
      "source": [
        "### その他のメタ情報\n",
        "個別対応"
      ]
    },
    {
      "cell_type": "markdown",
      "metadata": {
        "id": "EWahgyvYTG4G"
      },
      "source": [
        "#### color\n",
        "- paletteがあれば使わなくて良いでしょ、たぶん…"
      ]
    },
    {
      "cell_type": "markdown",
      "metadata": {
        "id": "gmNUhhhHTGzs"
      },
      "source": [
        "#### palette\n",
        "- とりあえず色々集計して特徴量化\n",
        "- hsvに変換した方が明度輝度も出せるので良さそう"
      ]
    },
    {
      "cell_type": "code",
      "metadata": {
        "id": "ljenLhP4SMWu",
        "colab": {
          "base_uri": "https://localhost:8080/"
        },
        "outputId": "8b7a034d-f4f9-482f-877a-e33fafe72bb3"
      },
      "source": [
        "%%time\n",
        "palette = pd.read_csv(os.path.join(DATA_DIR, 'palette.csv'))\n",
        "\n",
        "# （相対）輝度\n",
        "# https://note.com/twentynine/n/nd79c8dd275d9\n",
        "def luminance(r, g, b):\n",
        "    s = np.array([r, g, b]) / 255\n",
        "    t = np.where(s < 0.003928, s / 12.92, ((s + 0.055) / 1.055) ** 2.4)\n",
        "    v = np.array([0.2126, 0.7152, 0.0722])\n",
        "    output = np.dot(t, v)\n",
        "    return output\n",
        "\n",
        "# hueが循環型なのでcos/sin変換を掛ける関数を用意しておく\n",
        "def encode(input_df, col):\n",
        "    \"\"\"cos/sin変換を掛ける関数\"\"\"\n",
        "    output_df = input_df.copy()\n",
        "    output_df[col + '_cos'] = np.cos(2 * np.pi * output_df[col] / output_df[col].max())\n",
        "    output_df[col + '_sin'] = np.sin(2 * np.pi * output_df[col] / output_df[col].max())\n",
        "    return output_df\n",
        "\n",
        "# （相対）輝度\n",
        "palette['luminance'] = palette.apply(lambda x: luminance(x['color_r'], x['color_g'], x['color_b']), axis=1)\n",
        "\n",
        "# HSV\n",
        "hsv = palette.apply(lambda x: rgb_to_hsv(x['color_r'], x['color_g'], x['color_b']), axis=1).apply(pd.Series)\n",
        "hsv.columns = ['hue', 'saturation', 'value']\n",
        "\n",
        "# 結合&cos/sin変換\n",
        "colors = pd.concat([hsv, palette], axis=1)\n",
        "colors['hue'] *= 360 # 分かりやすさのためスケールを戻す（0-1で正規化されている）\n",
        "colors['saturation'] *= 255 # 分かりやすさのためスケールを戻す（0-1で正規化されている）\n",
        "colors = encode(colors, 'hue')\n",
        "colors = colors[['object_id', 'ratio', 'color_r', 'color_g', 'color_b', 'hue', 'hue_cos', 'hue_sin', 'saturation', 'value', 'luminance']]"
      ],
      "execution_count": 17,
      "outputs": [
        {
          "output_type": "stream",
          "name": "stdout",
          "text": [
            "CPU times: user 2min 11s, sys: 11.9 s, total: 2min 23s\n",
            "Wall time: 2min 12s\n"
          ]
        }
      ]
    },
    {
      "cell_type": "code",
      "metadata": {
        "id": "dhXdMgsX18KR"
      },
      "source": [
        "class MaxColorsBlock(BaseBlock):\n",
        "    \"\"\"ratioが最大のcolors特徴量\n",
        "    Args:\n",
        "        colors_df: `object_id`と`ratio`が必須で後は色に関する特徴があるDataFrame\n",
        "        \n",
        "    \"\"\"\n",
        "    \n",
        "    def __init__(self, colors_df=colors):\n",
        "        self.colors_df = colors_df.copy()\n",
        "        \n",
        "    def fit(self, input_df):\n",
        "        max_colors = self.colors_df.groupby('object_id')['ratio'].max().reset_index()\n",
        "        max_colors = pd.merge(max_colors, self.colors_df, on=['object_id','ratio'], how='left')\n",
        "        self.max_colors = max_colors.loc[max_colors[\"object_id\"].drop_duplicates().index.tolist()].reset_index(drop=True)\n",
        "        return self.transform(input_df)\n",
        "    \n",
        "    def transform(self, input_df):\n",
        "        output_df = left_join(input_df, self.max_colors).add_prefix('max_ratio_')\n",
        "        return output_df"
      ],
      "execution_count": 18,
      "outputs": []
    },
    {
      "cell_type": "code",
      "metadata": {
        "id": "XoUkkBhd18E0"
      },
      "source": [
        "class MeanColorsBlock(BaseBlock):\n",
        "    \"\"\"ratioで加重平均をとったcolors特徴量\n",
        "    Args:\n",
        "        colors_df: `object_id`と`ratio`が必須で後は色に関する特徴があるDataFrame\n",
        "\n",
        "    \"\"\"\n",
        "    def __init__(self, colors_df=colors):\n",
        "        self.colors_df = colors_df.copy()\n",
        "        \n",
        "    def fit(self, input_df):\n",
        "        cols = [c for c in list(colors) if (c != 'object_id')&(c != 'ratio')]\n",
        "        for c in cols:\n",
        "            self.colors_df[c] = self.colors_df[c] * self.colors_df['ratio']\n",
        "        self.mean_colors = self.colors_df.groupby('object_id').sum().reset_index()\n",
        "        return self.transform(input_df)\n",
        "    \n",
        "    def transform(self, input_df):\n",
        "        output_df = left_join(input_df, self.mean_colors).add_prefix('weighted_ave_')\n",
        "        return output_df.drop('weighted_ave_ratio', axis=1)"
      ],
      "execution_count": 19,
      "outputs": []
    },
    {
      "cell_type": "code",
      "metadata": {
        "id": "Jae37Ysi17-k"
      },
      "source": [
        "class StdColorsBlock(BaseBlock):\n",
        "    \"\"\"標準偏差\n",
        "    Args:\n",
        "        weighted: Trueならratioで加重した上で計算する、Falseならratioを加味しない\n",
        "        colors_df: `object_id`と`ratio`が必須で後は色に関する特徴があるDataFrame\n",
        "\n",
        "    \"\"\"\n",
        "    def __init__(self, weighted=True, colors_df=colors):\n",
        "        self.weighted = weighted\n",
        "        self.colors_df = colors_df.copy()\n",
        "    \n",
        "    def transform(self, input_df):\n",
        "        if self.weighted:\n",
        "            cols = [c for c in list(colors) if (c != 'object_id')&(c != 'ratio')]\n",
        "            for c in cols:\n",
        "                self.colors_df[c] = self.colors_df[c] * self.colors_df['ratio']\n",
        "        std_colors = self.colors_df.groupby('object_id').std()\n",
        "        output_df = left_join(input_df, std_colors)\n",
        "        if self.weighted:\n",
        "            output_df = output_df.add_prefix('weighted_std_')\n",
        "        else:\n",
        "            output_df = output_df.add_prefix('std_')\n",
        "        return output_df"
      ],
      "execution_count": 20,
      "outputs": []
    },
    {
      "cell_type": "code",
      "metadata": {
        "id": "uNI8WsAa1_6b"
      },
      "source": [
        "class RelativeLuminanceBlock(BaseBlock):\n",
        "    \"\"\"相対輝度\n",
        "    Args:\n",
        "        thres: ratio累計をどこで切って相対輝度を求めるか\n",
        "        colors_df: `object_id`と`ratio`が必須で後は色に関する特徴があるDataFrame\n",
        "    Ref:\n",
        "        https://calculator.jp/science/contrast/\n",
        "    \"\"\"\n",
        "    def __init__(self, thres=0.5, colors_df=colors):\n",
        "        self.thres = thres\n",
        "        self.colors_df = colors.copy()\n",
        "    \n",
        "    def fit(self, input_df):\n",
        "        # object_id毎に、輝度昇順に並び替える\n",
        "        _df = self.colors_df[['object_id', 'ratio', 'luminance']].sort_values(['object_id', 'luminance']).reset_index(drop=True)\n",
        "        \n",
        "        # ratioの累計和を取り、thresより大きければ1,小さければ0\n",
        "        # より明るい方が1、暗い方が0\n",
        "        _df['ratio_cumsum'] = (_df.groupby('object_id')['ratio'].cumsum() > self.thres).astype(int)\n",
        "        \n",
        "        # 平均で良いのかは諸説…加重和の方が良い気もするが果たして\n",
        "        brighter = _df[_df['ratio_cumsum']==1].groupby(['object_id'])['luminance'].mean() + 0.05\n",
        "        darker = _df[_df['ratio_cumsum']==0].groupby(['object_id'])['luminance'].mean() + 0.05\n",
        "        \n",
        "        _df = (brighter / darker).reset_index()\n",
        "        _df.columns = ['object_id', 'relative_luminance']\n",
        "        _df['contrast'] = _df['relative_luminance'].apply(self._contrast)\n",
        "        self.relative_luminance = _df\n",
        "        return self.transform(input_df)\n",
        "    \n",
        "    def transform(self, input_df):\n",
        "        return left_join(input_df, self.relative_luminance).add_suffix(f\"_{self.thres}\")\n",
        "    \n",
        "    def _contrast(self, x):\n",
        "        if x < 0.1428:\n",
        "            return 2\n",
        "        elif x < 0.222:\n",
        "            return 1\n",
        "        elif x < 4.5:\n",
        "            return 0\n",
        "        elif x < 7:\n",
        "            return 1\n",
        "        else:\n",
        "            return 2"
      ],
      "execution_count": 21,
      "outputs": []
    },
    {
      "cell_type": "code",
      "metadata": {
        "id": "VCFRGePL1_2x"
      },
      "source": [
        "class SaturationBrightnessBlock(BaseBlock):\n",
        "    \"\"\"色味以外、彩度と明度にだけ注目してそれぞれのビニングした値の組み合わせの面積\n",
        "       色味よりも大事そうな気がする\n",
        "    Args:\n",
        "        colors_df: `object_id`と`ratio`が必須で後は色に関する特徴があるDataFrame\n",
        "    \n",
        "    \"\"\"\n",
        "    def __init__(self, colors_df=colors):\n",
        "        self.colors_df = colors.copy()\n",
        "        \n",
        "    def fit(self, input_df):\n",
        "        _df = self.colors_df[['object_id', 'ratio', 'saturation', 'value']]\n",
        "        _df['brightness'] = _df['value'].apply(self._bin_brightness)\n",
        "        _df['colorfulness'] = _df['saturation'].apply(self._bin_saturation)\n",
        "        _df = pd.pivot_table(data=_df,\n",
        "                             values='ratio',\n",
        "                             index='object_id',\n",
        "                             columns=['brightness', 'colorfulness'],\n",
        "                             aggfunc='sum',\n",
        "                             fill_value=0)\n",
        "        _df.columns = [\"_\".join(c) for c in _df.columns]\n",
        "        self.pivot = _df\n",
        "        return self.transform(input_df)\n",
        "    \n",
        "    def transform(self, input_df):\n",
        "        return left_join(input_df, self.pivot)\n",
        "    \n",
        "    # ビニング用、区切り方は四分位数で決めた\n",
        "    def _bin_brightness(self, x):\n",
        "        if x < 87:\n",
        "            return 'dark'\n",
        "        elif x < 135:\n",
        "            return 'medium dark'\n",
        "        elif x < 183:\n",
        "            return 'medium blight'\n",
        "        else:\n",
        "            return 'blight'\n",
        "    \n",
        "    def _bin_saturation(self, x):\n",
        "        if x < 58:\n",
        "            return 'dull'\n",
        "        elif x < 86:\n",
        "            return 'medium dull'\n",
        "        elif x < 141:\n",
        "            return 'medium vivid'\n",
        "        else:\n",
        "            return 'vivid'"
      ],
      "execution_count": 22,
      "outputs": []
    },
    {
      "cell_type": "markdown",
      "metadata": {
        "id": "G8nSTv3nLbHG"
      },
      "source": [
        "####  principal_maker\n",
        "maker.csvの情報とくっつけて`object_id`と`principal_maker（maker_name）`でtrain/testとmergeできるようにしておく\n",
        "- `object_id`-`princpal_maker`の情報が複数行に分かれている場合、ローデータを見て重要そうな情報を残す（手作業修正）\n",
        "- 使用するmaker.csvの情報は`date_of_death`のみ\n",
        "    - 年と日が混ざっているので年の情報にしておく\n",
        "    - あとで`dating_sorting_date`との差を取る。\n",
        "- その他の情報は意味があると思えなかったためそのまま使わず、NaNの数を特徴量化（仮説：NaNが少ない＝情報が多い＝有名な人＝`likes`が大きい）"
      ]
    },
    {
      "cell_type": "code",
      "metadata": {
        "id": "N9hM9oYcLa3e"
      },
      "source": [
        "maker = pd.read_csv(os.path.join(DATA_DIR, 'maker.csv'))\n",
        "principal_maker = pd.read_csv(os.path.join(DATA_DIR, 'principal_maker.csv'))"
      ],
      "execution_count": 23,
      "outputs": []
    },
    {
      "cell_type": "code",
      "metadata": {
        "id": "aK9JiWWRMmwi"
      },
      "source": [
        "# principal_maker.csvの必要な箇所だけ抜き出し\n",
        "maker_info = principal_maker[['object_id', 'qualification', 'roles', 'maker_name']].copy().rename(columns={'maker_name': 'principal_maker'})\n",
        "\n",
        "# [`object_id`, `principal_maker`]の組み合わせが複数あるところを直接修正\n",
        "# 修正方法はrawデータみてそれらしく\n",
        "maker_info.loc[2991, 'roles'] = 'print maker'\n",
        "maker_info.loc[3710, 'roles'] = 'print maker'\n",
        "maker_info.loc[10484, 'roles'] = 'print maker'\n",
        "\n",
        "drop_row_idxs = pd.Index([2240, 2427, 2992, 3711, 4952, 7282, 7877, 9121, 10163, 10483,\n",
        "                 11677, 12675, 14867, 15221, 15610, 16884, 18130, 19754, 20442,\n",
        "                 20772, 23364])\n",
        "\n",
        "maker_info = maker_info.drop(drop_row_idxs).reset_index(drop=True)\n",
        "\n",
        "# maker.csvの情報を結合\n",
        "maker['maker_null_count'] = maker.isnull().sum(axis=1)\n",
        "maker['year_of_death'] = maker['date_of_death'].str[:4].astype(float)\n",
        "\n",
        "maker_info = maker_info.merge(maker[['name', 'maker_null_count', 'year_of_death']],\n",
        "                             left_on='principal_maker', right_on='name', how='left').drop('name', axis=1)"
      ],
      "execution_count": 24,
      "outputs": []
    },
    {
      "cell_type": "markdown",
      "metadata": {
        "id": "tiuxO1TTnqHT"
      },
      "source": [
        "#### historical_person\n",
        "OneHotEncodingなどの方法には高カーディナリティ過ぎるので、「何人いたか」と「登場回数の合計」のみを特徴量にする"
      ]
    },
    {
      "cell_type": "code",
      "metadata": {
        "id": "09SM06pZMmo0"
      },
      "source": [
        "historical = pd.read_csv(os.path.join(DATA_DIR, 'historical_person.csv'))"
      ],
      "execution_count": 25,
      "outputs": []
    },
    {
      "cell_type": "code",
      "metadata": {
        "id": "FUHUVlCEMmll"
      },
      "source": [
        "class HistoricalFeatureBlock(BaseBlock):\n",
        "    def __init__(self, historical_df=historical):\n",
        "        self.historical_df = historical.copy()\n",
        "        \n",
        "    def transform(self, input_df):\n",
        "        self.historical_df['historical_count'] = self.historical_df['name'].map(self.historical_df['name'].value_counts())\n",
        "        meta_df = self.historical_df.groupby('object_id').agg({\n",
        "                        'name': 'nunique',\n",
        "                        'historical_count': 'sum'}).reset_index()\n",
        "        meta_df.rename(columns={'name': 'historical_nunique'}, inplace=True)\n",
        "        return left_join(input_df, meta_df)"
      ],
      "execution_count": 26,
      "outputs": []
    },
    {
      "cell_type": "markdown",
      "metadata": {
        "id": "8xNuyF7KCSh9"
      },
      "source": [
        "## Blocks\n",
        "その他、train.csv / test.csvの情報を処理するBlock"
      ]
    },
    {
      "cell_type": "code",
      "metadata": {
        "id": "lu8EFzkHCaiN"
      },
      "source": [
        "class RawBlock(BaseBlock):\n",
        "    \"\"\"input_dfの指定列をそのまま返す\"\"\"\n",
        "    def __init__(self,\n",
        "                 column: Union[str, List],\n",
        "                 ):\n",
        "        self.column = [column] if isinstance(column, str) else column\n",
        "  \n",
        "    def transform(self, input_df):\n",
        "        return input_df[self.column].copy()"
      ],
      "execution_count": 27,
      "outputs": []
    },
    {
      "cell_type": "code",
      "metadata": {
        "id": "6brCTkW8C154"
      },
      "source": [
        "class CountEncodingBlock(BaseBlock):\n",
        "    \"\"\"For CountEncoding\"\"\"\n",
        "    def __init__(self,\n",
        "                 column: Union[str, List],\n",
        "                 whole_df: pd.DataFrame = None,\n",
        "                 handle_unknown: Optional[Union[int, str]] = None,\n",
        "                 handle_missing: str = 'count',\n",
        "                 min_group_size: Optional[int] = None,):\n",
        "        \"\"\"\n",
        "        Args:\n",
        "            column(str,list): encode column(s)\n",
        "            whole_df(DataFrame): 入力するとwhole_dfにfit.Noneのままならtrainにfit.\n",
        "            handle_unknown(str,int): fit時に無かった値がtransformで出てきたらどうするか\n",
        "                                    None: default.nanに変換する\n",
        "                                    'error': raise ValueError\n",
        "                                    'return_nan': nanに変換する\n",
        "                                    int: 入力値に変換する\n",
        "            handle_missing(str): nanをどう変換するか\n",
        "                                'count': default.一つのカテゴリとして変換する\n",
        "                                'error': raise ValueError\n",
        "                                'return_nan': nanに変換する\n",
        "            min_group_size(int): 入力数以下のカウントとなるカテゴリはまとめてカウントする\n",
        "        reference:\n",
        "            https://contrib.scikit-learn.org/category_encoders/count.html\n",
        "\n",
        "        \"\"\"\n",
        "        self.column = column\n",
        "        self.whole_df = whole_df\n",
        "        self.handle_unknown = handle_unknown\n",
        "        self.handle_missing = handle_missing\n",
        "        self.min_group_size = min_group_size\n",
        "        self.encoder = None\n",
        "        \n",
        "    def fit(self, input_df):\n",
        "        self.encoder = ce.CountEncoder(cols=self.column,\n",
        "                                       handle_unknown=self.handle_unknown,\n",
        "                                       handle_missing=self.handle_missing,\n",
        "                                       min_group_size=self.min_group_size\n",
        "                                       )\n",
        "        if self.whole_df is None:\n",
        "            self.encoder.fit(input_df[self.column])\n",
        "        else:\n",
        "            self.encoder.fit(self.whole_df[self.column])\n",
        "        return self.transform(input_df)\n",
        "    \n",
        "    def transform(self, input_df):\n",
        "        output_df = self.encoder.transform(input_df[self.column]).add_prefix('CE_')\n",
        "        return output_df"
      ],
      "execution_count": 28,
      "outputs": []
    },
    {
      "cell_type": "code",
      "metadata": {
        "id": "hGIyC2G6DHas"
      },
      "source": [
        "class TargetEncodingBlock(BaseBlock):\n",
        "    \"\"\"For TargetMeanEncoding with CV\"\"\"\n",
        "    def __init__(self,\n",
        "                 column: Union[str, List],\n",
        "                 target: str,\n",
        "                 cv: List,\n",
        "                 handle_missing: str = 'return_nan',\n",
        "                 smoothing: float = 1.0,\n",
        "                 min_samples_leaf:int = 1):\n",
        "        \"\"\"\n",
        "        Args:\n",
        "            column(str/list): encode column(s)\n",
        "            target(str): target\n",
        "            cv(list): cross validation split\n",
        "            handle_missing(str): nanをどう変換するか\n",
        "                                 'value': ひとつのカテゴリとしてエンコード対象に加える\n",
        "                                 'error': raise ValueError. nanが無かった場合はreturn_nanと同様の処理\n",
        "                                 'return_nan': default.エンコード対象から除外する\n",
        "            smoothing(float): smoothingの強さ.overfitを避けるため出現数が少ないカテゴリは全体の平均に近づける.\n",
        "                              ざっくり説明: どんなに大きくしてもそのカテゴリの平均と全体の平均の中間地点で落ち着く.\n",
        "            min_samples_leaf(int): こちらもsmoothingの強さ.ざっくり説明: 大きいと全体平均に一気に近づく.\n",
        "        NOTE:\n",
        "            smoothingの影響をほぼゼロにしたければ、smoothing=1にしてmin_samples_leafを-np.infにすれば良い\n",
        "         \n",
        "        \"\"\"\n",
        "        self.column = [column] if isinstance(column, str) else column\n",
        "        self.target = target\n",
        "        self.cv = cv\n",
        "        self.handle_missing = handle_missing\n",
        "        self.smoothing = smoothing\n",
        "        self.min_samples_leaf = min_samples_leaf\n",
        "        self.train_df = None\n",
        "        \n",
        "    def fit(self, input_df):\n",
        "        self.train_df = input_df.copy()\n",
        "        output_df = pd.DataFrame()\n",
        "        for c in self.column:\n",
        "            tmp = np.repeat(np.nan, input_df.shape[0])\n",
        "            for idx_1, idx_2 in self.cv:\n",
        "                mapping = self._get_mapping(input_df.iloc[idx_1], c)\n",
        "                if self.handle_missing == 'value':\n",
        "                    tmp[idx_2] = input_df[c].fillna('NaN').iloc[idx_2].map(mapping)\n",
        "                else:\n",
        "                    tmp[idx_2] = input_df[c].iloc[idx_2].map(mapping)\n",
        "            output_df[f'TE_{c}_{self.target}'] = tmp\n",
        "        return output_df\n",
        "    \n",
        "    def transform(self, input_df):\n",
        "        output_df = pd.DataFrame()\n",
        "        for c in self.column:\n",
        "            mapping = self._get_mapping(self.train_df, c)\n",
        "            if self.handle_missing == 'value':\n",
        "                output_df[f'TE_{c}_{self.target}'] = input_df[c].fillna('NaN').map(mapping)\n",
        "            else:\n",
        "                output_df[f'TE_{c}_{self.target}'] = input_df[c].map(mapping)\n",
        "        return output_df\n",
        "        \n",
        "    def _get_mapping(self, input_df, col):\n",
        "        if self.handle_missing == 'value':\n",
        "            _df = pd.DataFrame({col: input_df[col].fillna('NaN'), 'target': input_df[self.target]})\n",
        "        elif self.handle_missing == 'return_nan':\n",
        "            _df = pd.DataFrame({col: input_df[col], 'target': input_df[self.target]})\n",
        "        else:\n",
        "            if input_df[self.column].isnull().any().any():\n",
        "                raise ValueError('Columns to be encoded can not contain null')\n",
        "            else:\n",
        "                _df = pd.DataFrame({col: input_df[col], 'target': input_df[self.target]})\n",
        "            \n",
        "        prior = _df['target'].mean()\n",
        "        stats = _df['target'].groupby(_df[col]).agg(['count', 'mean'])\n",
        "        smoove = 1 / (1 + np.exp(-(stats['count'] - self.min_samples_leaf) / self.smoothing))\n",
        "        mapping = prior * (1 - smoove) + stats['mean'] * smoove\n",
        "\n",
        "        return mapping"
      ],
      "execution_count": 29,
      "outputs": []
    },
    {
      "cell_type": "code",
      "metadata": {
        "id": "PKhaaHtc3Twy"
      },
      "source": [
        "class PortfolioBlock(BaseBlock):\n",
        "    \"\"\"レコード or 特徴量間で集計した数値の比率を特徴量化する\"\"\"\n",
        "    def __init__(self,\n",
        "                 column: Union[str, List],\n",
        "                 key: Union[str, List],\n",
        "                 axis: int=1):\n",
        "        \"\"\"\n",
        "        Args:\n",
        "            column(str/list): 割合を求めたい列\n",
        "            key(str/list): 集計するための列\n",
        "            axis(int): [0, 1]を入力\n",
        "                1:横方向に集計（key毎に正規化）\n",
        "                    複数の数値列に対して、keyで集計した時の各列の割合.\n",
        "                    columnが1つしかない場合はすべて1.0になってしまうのでError.\n",
        "                0:縦方向に集計（column毎に正規化）\n",
        "                    1つの数値列に対して、keyで集計した時のkeyの値別の割合.\n",
        "        \"\"\"\n",
        "        self.column = [column] if isinstance(column, str) else column\n",
        "        self.key = [key] if isinstance(key, str) else key\n",
        "        self.axis = axis\n",
        "        self.meta_df = None\n",
        "        \n",
        "        if (len(self.column)==1)&(self.axis==1):\n",
        "            raise ValueError(\n",
        "                'When `axis` is 1, the number of elements in `column` must be greater than 1.'\n",
        "            )\n",
        "    \n",
        "    def fit(self, input_df):\n",
        "        _df = input_df.groupby(self.key)[self.column].sum()\n",
        "        \n",
        "        if self.axis:\n",
        "            _df = (_df.T / _df.sum(axis=1)).T\n",
        "            \n",
        "        else:\n",
        "            _df = (_df / _df.sum(axis=0))\n",
        "            \n",
        "        self.meta_df = _df.reset_index()\n",
        "        return self.transform(input_df)\n",
        "    \n",
        "    def transform(self, input_df):\n",
        "        output_df = pd.merge(input_df[self.key], self.meta_df,\n",
        "                          on=self.key, how='left').drop(columns=self.key)\n",
        "        output_df = output_df.add_prefix(f'PF@{\"+\".join(self.key)}_')\n",
        "        return output_df"
      ],
      "execution_count": 30,
      "outputs": []
    },
    {
      "cell_type": "markdown",
      "metadata": {
        "id": "8ZvJeLca8skP"
      },
      "source": [
        "言語判定\n",
        "\n",
        "https://www.guruguru.science/competitions/16/discussions/f463dac2-4233-42d2-8629-ca99a9689987/"
      ]
    },
    {
      "cell_type": "code",
      "metadata": {
        "id": "Dy7dyJ4H8r6a"
      },
      "source": [
        "class LangBlock(BaseBlock):\n",
        "    def __init__(self, column):\n",
        "        self.column = column\n",
        "        self.model = load_model(os.path.join(DATA_DIR,'lid.176.bin'))\n",
        "\n",
        "    def transform(self, input_df):\n",
        "        output_df = pd.DataFrame()\n",
        "        output_df[f'{self.column}_lang'] = input_df[self.column].fillna('').map(\n",
        "            lambda x: self.model.predict(x.replace('\\n', ''))[0][0])\n",
        "        output_df[f'{self.column}_lang'] = output_df[f'{self.column}_lang'].str.replace('__label__', '')\n",
        "        return output_df"
      ],
      "execution_count": 31,
      "outputs": []
    },
    {
      "cell_type": "markdown",
      "metadata": {
        "id": "tlSK0fXZd_s0"
      },
      "source": [
        "サイズ\n",
        "\n",
        "https://www.guruguru.science/competitions/16/discussions/556029f7-484d-40d4-ad6a-9d86337487e2/"
      ]
    },
    {
      "cell_type": "code",
      "metadata": {
        "id": "_w7-80BkeDZD"
      },
      "source": [
        "class SizeBlock(BaseBlock):\n",
        "    def transform(self, input_df):\n",
        "        output_df = pd.DataFrame()\n",
        "        for axis in ['h', 'w', 't', 'd']:\n",
        "            column_name = f'size_{axis}'\n",
        "            size_info = input_df['sub_title'].str.extract(r'{} (\\d*|\\d*\\.\\d*)(cm|mm)'.format(axis)) # 正規表現を使ってサイズを抽出\n",
        "            size_info = size_info.rename(columns={0: column_name, 1: 'unit'})\n",
        "            size_info[column_name] = size_info[column_name].replace('', np.nan).astype(float) # dtypeがobjectになってるのでfloatに直す\n",
        "            size_info[column_name] = size_info.apply(lambda row: row[column_name] * 10 if row['unit'] == 'cm' else row[column_name], axis=1) # 　単位をmmに統一する\n",
        "            output_df[column_name] = size_info[column_name] # input_dfにくっつける\n",
        "        output_df['size'] = output_df['size_h'] * output_df['size_w']\n",
        "        return output_df"
      ],
      "execution_count": 32,
      "outputs": []
    },
    {
      "cell_type": "markdown",
      "metadata": {
        "id": "liDIiZkzIs_a"
      },
      "source": [
        "テキストの長さ\n",
        "\n",
        "https://www.guruguru.science/competitions/16/discussions/185c7dc6-5e3a-49c6-9c30-41bf007cc694/"
      ]
    },
    {
      "cell_type": "code",
      "metadata": {
        "id": "oKelXuEpIsus"
      },
      "source": [
        "class StringLength(BaseBlock):\n",
        "    def __init__(self, column):\n",
        "        self.column = [column] if isinstance(column, str) else column\n",
        "    \n",
        "    def transform(self, input_df):\n",
        "        output_df = pd.DataFrame()\n",
        "        \n",
        "        for c in self.column:\n",
        "            output_df[c] = input_df[c].str.len()\n",
        "        \n",
        "        return output_df.add_prefix('StringLength_')"
      ],
      "execution_count": 33,
      "outputs": []
    },
    {
      "cell_type": "markdown",
      "metadata": {
        "id": "e5NMEqDREYrl"
      },
      "source": [
        "# Process"
      ]
    },
    {
      "cell_type": "code",
      "metadata": {
        "id": "Hpf4XmAuGvQL"
      },
      "source": [
        "from contextlib import contextmanager\n",
        "from time import time\n",
        "from tqdm import tqdm\n",
        "\n",
        "@contextmanager\n",
        "def timer(logger=None, format_str='{:.3f}[s]', prefix=None, suffix=None):\n",
        "    if prefix: format_str = str(prefix) + format_str\n",
        "    if suffix: format_str = format_str + str(suffix)\n",
        "    start = time()\n",
        "    yield\n",
        "    d = time() - start\n",
        "    out_str = format_str.format(d)\n",
        "    if logger:\n",
        "        logger.info(out_str)\n",
        "    else:\n",
        "        print(out_str)\n",
        "        \n",
        "def get_function(block, is_train):\n",
        "    s = mapping = {\n",
        "        True:'fit',\n",
        "        False:'transform'\n",
        "    }.get(is_train)\n",
        "    return getattr(block, s)\n",
        "\n",
        "def to_feature(input_df, blocks, is_train=False):\n",
        "    \"\"\"\n",
        "    DataFrameからblocksの処理により新しい特徴量を作る（input_dfとは別物をReturn）\n",
        "\t\n",
        "    \"\"\"\n",
        "    output_df = pd.DataFrame()\n",
        "    \n",
        "    for block in tqdm(blocks, total=len(blocks)):\n",
        "        func = get_function(block, is_train)\n",
        "        \n",
        "        with timer(prefix='create ' + str(block) + ' '):\n",
        "            _df = func(input_df)\n",
        "            \n",
        "        assert len(_df) == len(input_df), func.__name__\n",
        "        output_df = pd.concat([output_df, _df], axis=1)\n",
        "        \n",
        "    return output_df"
      ],
      "execution_count": 34,
      "outputs": []
    },
    {
      "cell_type": "markdown",
      "metadata": {
        "id": "4A3AuNgpEcZI"
      },
      "source": [
        "## merge\n",
        "ここで[BERT特徴](https://www.guruguru.science/competitions/16/discussions/fb792c87-6bad-445d-aa34-b4118fc378c1/)を結合していましたが別のnotebookでcsvにしたのを読み込んでいたのでここでは省略しています。"
      ]
    },
    {
      "cell_type": "code",
      "metadata": {
        "id": "mIlziXNK7OlW"
      },
      "source": [
        "def merge_and_simple_fe(input_df):\n",
        "    output_df = input_df.copy()\n",
        "    # ============================================================\n",
        "    # merge\n",
        "    # ============================================================\n",
        "    # maker_info\n",
        "    output_df = output_df.merge(maker_info, on=['object_id', 'principal_maker'], how='left')\n",
        "    \n",
        "    # ============================================================\n",
        "    # simple_fe\n",
        "    # ============================================================\n",
        "    # 製作期間\n",
        "    output_df['production_period'] = output_df['dating_year_late'] - output_df['dating_year_early']\n",
        "\n",
        "    # 没年と製作年の差\n",
        "    output_df['late_to_death'] = output_df['year_of_death'] - input_df['dating_year_late']\n",
        "\n",
        "    # acquisition_dateを年数のみ、floatに\n",
        "    output_df['acquisition_date'] = output_df['acquisition_date'].str[:4].astype(float)\n",
        "\n",
        "    return output_df"
      ],
      "execution_count": 35,
      "outputs": []
    },
    {
      "cell_type": "code",
      "metadata": {
        "id": "Z5LycPYFKwKH"
      },
      "source": [
        "df_merged = merge_and_simple_fe(df_raw)\n",
        "train_merged = df_merged[:len(train_raw)].reset_index(drop=True)\n",
        "test_merged = df_merged[len(train_raw):].reset_index(drop=True)"
      ],
      "execution_count": 36,
      "outputs": []
    },
    {
      "cell_type": "code",
      "metadata": {
        "id": "TMVBp_cmHrI5"
      },
      "source": [
        "assert len(test_merged) == len(test_raw)"
      ],
      "execution_count": 37,
      "outputs": []
    },
    {
      "cell_type": "markdown",
      "metadata": {
        "id": "0w6KXS538HLK"
      },
      "source": [
        "## Process①データフレームの作成"
      ]
    },
    {
      "cell_type": "code",
      "metadata": {
        "id": "_WSYNkEaH0jr"
      },
      "source": [
        "raw_cols = df_merged.drop('likes', axis=1).select_dtypes('number').columns # 数値変数\n",
        "raw_cats = ['acquisition_method', 'copyright_holder'] # Embedding処理する\n",
        "sl_cols = ['description', 'more_title', 'sub_title', 'title', 'long_title'] # StringLengthBlock\n",
        "ce_cols = ['art_series_id', 'acquisition_credit_line', 'dating_presenting_date']\n",
        "te_cols = ['acquisition_method', 'dating_period'] # TargetEncoding\n",
        "pf_keys = ['dating_period', 'dating_sorting_date'] # Portfolio\n",
        "vec_df_dict = [{'material': material,\n",
        "            'object': object_collection,\n",
        "            'tech': technique,\n",
        "            'makers': makers,\n",
        "            'place': production_place,\n",
        "            'acquisition': acquisition_method,\n",
        "            'period': period,\n",
        "            'occupation': occupation,\n",
        "            'qualification': qualification},\n",
        "            {'material': material},\n",
        "            {'object': object_collection},\n",
        "            {'tech': technique},\n",
        "            {'makers': makers},\n",
        "            {'place': production_place},\n",
        "            {'makers': makers,\n",
        "             'occupation': occupation,\n",
        "             'qualification': qualification},\n",
        "            {'material': material,\n",
        "             'object': object_collection,\n",
        "             'tech': technique,\n",
        "             'place': production_place,\n",
        "             'period': period,\n",
        "            }]"
      ],
      "execution_count": 38,
      "outputs": []
    },
    {
      "cell_type": "code",
      "metadata": {
        "id": "Vg78A0YeJXaZ"
      },
      "source": [
        "from sklearn.model_selection import StratifiedKFold\n",
        "\n",
        "num_bins = np.int(1 + np.log2(len(train_raw)))\n",
        "bins = pd.cut(train_raw[TARGET_COL],\n",
        "                bins = num_bins,\n",
        "                labels=False\n",
        "                )\n",
        "skf = StratifiedKFold(n_splits=FOLD, shuffle=True, random_state=SEED)\n",
        "cv = list(skf.split(X=train_raw, y=bins.values))"
      ],
      "execution_count": 39,
      "outputs": []
    },
    {
      "cell_type": "code",
      "metadata": {
        "id": "qVFygfMnHJhz"
      },
      "source": [
        "blocks = [\n",
        "    RawBlock(raw_cols),\n",
        "    #RawBlock(raw_cats),\n",
        "    #CountEncodingBlock(ce_cols, df_merged),\n",
        "    StringLength(sl_cols),\n",
        "    SizeBlock(),\n",
        "    TargetEncodingBlock(te_cols, TARGET_COL, cv),\n",
        "    *[PortfolioBlock(TARGET_COL, c, axis=0) for c in pf_keys],\n",
        "    *[ToVecBlock(d, w) for d in vec_df_dict for w in range(1, 5)],\n",
        "    MaxColorsBlock(),\n",
        "    MeanColorsBlock(),\n",
        "    StdColorsBlock(weighted=True),\n",
        "    StdColorsBlock(weighted=False),\n",
        "    RelativeLuminanceBlock(thres=0.5),\n",
        "    RelativeLuminanceBlock(thres=0.25),\n",
        "    RelativeLuminanceBlock(thres=0.75),\n",
        "    SaturationBrightnessBlock(),\n",
        "    HistoricalFeatureBlock(),\n",
        "]"
      ],
      "execution_count": 53,
      "outputs": []
    },
    {
      "cell_type": "code",
      "source": [
        "raw_cols"
      ],
      "metadata": {
        "colab": {
          "base_uri": "https://localhost:8080/"
        },
        "id": "fsRW6hEkA2z0",
        "outputId": "ad3f8024-7e35-480a-dd15-f6a07268df52"
      },
      "execution_count": 54,
      "outputs": [
        {
          "output_type": "execute_result",
          "data": {
            "text/plain": [
              "Index(['acquisition_date', 'dating_sorting_date', 'dating_period',\n",
              "       'dating_year_early', 'dating_year_late', 'maker_null_count',\n",
              "       'year_of_death', 'production_period', 'late_to_death'],\n",
              "      dtype='object')"
            ]
          },
          "metadata": {},
          "execution_count": 54
        }
      ]
    },
    {
      "cell_type": "code",
      "metadata": {
        "colab": {
          "base_uri": "https://localhost:8080/"
        },
        "id": "2l9uFuTFOWvj",
        "outputId": "80aab680-ed79-4a14-9895-0b8b10174511"
      },
      "source": [
        "train = to_feature(train_merged, blocks, is_train=True)\n",
        "test = to_feature(test_merged, blocks)"
      ],
      "execution_count": 55,
      "outputs": [
        {
          "output_type": "stream",
          "name": "stderr",
          "text": [
            "\r  0%|          | 0/47 [00:00<?, ?it/s]"
          ]
        },
        {
          "output_type": "stream",
          "name": "stdout",
          "text": [
            "create <__main__.RawBlock object at 0x7f29069cc7d0> 0.002[s]\n",
            "create <__main__.StringLength object at 0x7f29069cc790> 0.026[s]\n"
          ]
        },
        {
          "output_type": "stream",
          "name": "stderr",
          "text": [
            " 11%|█         | 5/47 [00:00<00:05,  7.24it/s]"
          ]
        },
        {
          "output_type": "stream",
          "name": "stdout",
          "text": [
            "create <__main__.SizeBlock object at 0x7f29069cc810> 0.613[s]\n",
            "create <__main__.TargetEncodingBlock object at 0x7f29069cc890> 0.094[s]\n",
            "create <__main__.PortfolioBlock object at 0x7f29069cc910> 0.008[s]\n",
            "create <__main__.PortfolioBlock object at 0x7f29069cc950> 0.010[s]\n"
          ]
        },
        {
          "output_type": "stream",
          "name": "stderr",
          "text": [
            "\r 15%|█▍        | 7/47 [00:09<01:19,  1.98s/it]"
          ]
        },
        {
          "output_type": "stream",
          "name": "stdout",
          "text": [
            "create <__main__.ToVecBlock object at 0x7f29069cc990> 9.206[s]\n"
          ]
        },
        {
          "output_type": "stream",
          "name": "stderr",
          "text": [
            "\r 17%|█▋        | 8/47 [00:19<02:25,  3.73s/it]"
          ]
        },
        {
          "output_type": "stream",
          "name": "stdout",
          "text": [
            "create <__main__.ToVecBlock object at 0x7f29069cc9d0> 9.701[s]\n"
          ]
        },
        {
          "output_type": "stream",
          "name": "stderr",
          "text": [
            "\r 19%|█▉        | 9/47 [00:29<03:16,  5.17s/it]"
          ]
        },
        {
          "output_type": "stream",
          "name": "stdout",
          "text": [
            "create <__main__.ToVecBlock object at 0x7f29069cca10> 9.606[s]\n"
          ]
        },
        {
          "output_type": "stream",
          "name": "stderr",
          "text": [
            "\r 21%|██▏       | 10/47 [00:39<03:54,  6.35s/it]"
          ]
        },
        {
          "output_type": "stream",
          "name": "stdout",
          "text": [
            "create <__main__.ToVecBlock object at 0x7f29069cca50> 9.713[s]\n"
          ]
        },
        {
          "output_type": "stream",
          "name": "stderr",
          "text": [
            "\r 23%|██▎       | 11/47 [00:42<03:22,  5.63s/it]"
          ]
        },
        {
          "output_type": "stream",
          "name": "stdout",
          "text": [
            "create <__main__.ToVecBlock object at 0x7f29069cca90> 3.684[s]\n"
          ]
        },
        {
          "output_type": "stream",
          "name": "stderr",
          "text": [
            "\r 26%|██▌       | 12/47 [00:46<02:58,  5.11s/it]"
          ]
        },
        {
          "output_type": "stream",
          "name": "stdout",
          "text": [
            "create <__main__.ToVecBlock object at 0x7f29069ccb10> 3.743[s]\n"
          ]
        },
        {
          "output_type": "stream",
          "name": "stderr",
          "text": [
            "\r 28%|██▊       | 13/47 [00:50<02:40,  4.73s/it]"
          ]
        },
        {
          "output_type": "stream",
          "name": "stdout",
          "text": [
            "create <__main__.ToVecBlock object at 0x7f29069ccb50> 3.772[s]\n"
          ]
        },
        {
          "output_type": "stream",
          "name": "stderr",
          "text": [
            "\r 30%|██▉       | 14/47 [00:54<02:26,  4.45s/it]"
          ]
        },
        {
          "output_type": "stream",
          "name": "stdout",
          "text": [
            "create <__main__.ToVecBlock object at 0x7f29069ccb90> 3.748[s]\n"
          ]
        },
        {
          "output_type": "stream",
          "name": "stderr",
          "text": [
            "\r 32%|███▏      | 15/47 [00:56<02:01,  3.80s/it]"
          ]
        },
        {
          "output_type": "stream",
          "name": "stdout",
          "text": [
            "create <__main__.ToVecBlock object at 0x7f29069ccbd0> 2.222[s]\n"
          ]
        },
        {
          "output_type": "stream",
          "name": "stderr",
          "text": [
            "\r 34%|███▍      | 16/47 [00:58<01:43,  3.33s/it]"
          ]
        },
        {
          "output_type": "stream",
          "name": "stdout",
          "text": [
            "create <__main__.ToVecBlock object at 0x7f29069ccad0> 2.173[s]\n"
          ]
        },
        {
          "output_type": "stream",
          "name": "stderr",
          "text": [
            "\r 36%|███▌      | 17/47 [01:00<01:29,  2.98s/it]"
          ]
        },
        {
          "output_type": "stream",
          "name": "stdout",
          "text": [
            "create <__main__.ToVecBlock object at 0x7f29069ccc10> 2.146[s]\n"
          ]
        },
        {
          "output_type": "stream",
          "name": "stderr",
          "text": [
            "\r 38%|███▊      | 18/47 [01:02<01:19,  2.74s/it]"
          ]
        },
        {
          "output_type": "stream",
          "name": "stdout",
          "text": [
            "create <__main__.ToVecBlock object at 0x7f29069ccc50> 2.162[s]\n"
          ]
        },
        {
          "output_type": "stream",
          "name": "stderr",
          "text": [
            "\r 40%|████      | 19/47 [01:05<01:16,  2.74s/it]"
          ]
        },
        {
          "output_type": "stream",
          "name": "stdout",
          "text": [
            "create <__main__.ToVecBlock object at 0x7f29069ccc90> 2.723[s]\n"
          ]
        },
        {
          "output_type": "stream",
          "name": "stderr",
          "text": [
            "\r 43%|████▎     | 20/47 [01:08<01:14,  2.74s/it]"
          ]
        },
        {
          "output_type": "stream",
          "name": "stdout",
          "text": [
            "create <__main__.ToVecBlock object at 0x7f29069cccd0> 2.738[s]\n"
          ]
        },
        {
          "output_type": "stream",
          "name": "stderr",
          "text": [
            "\r 45%|████▍     | 21/47 [01:10<01:11,  2.73s/it]"
          ]
        },
        {
          "output_type": "stream",
          "name": "stdout",
          "text": [
            "create <__main__.ToVecBlock object at 0x7f29069ccd10> 2.690[s]\n"
          ]
        },
        {
          "output_type": "stream",
          "name": "stderr",
          "text": [
            "\r 47%|████▋     | 22/47 [01:13<01:07,  2.72s/it]"
          ]
        },
        {
          "output_type": "stream",
          "name": "stdout",
          "text": [
            "create <__main__.ToVecBlock object at 0x7f29069ccd50> 2.674[s]\n"
          ]
        },
        {
          "output_type": "stream",
          "name": "stderr",
          "text": [
            "\r 49%|████▉     | 23/47 [01:19<01:24,  3.52s/it]"
          ]
        },
        {
          "output_type": "stream",
          "name": "stdout",
          "text": [
            "create <__main__.ToVecBlock object at 0x7f29069ccd90> 5.365[s]\n"
          ]
        },
        {
          "output_type": "stream",
          "name": "stderr",
          "text": [
            "\r 51%|█████     | 24/47 [01:24<01:33,  4.06s/it]"
          ]
        },
        {
          "output_type": "stream",
          "name": "stdout",
          "text": [
            "create <__main__.ToVecBlock object at 0x7f29069ccdd0> 5.320[s]\n"
          ]
        },
        {
          "output_type": "stream",
          "name": "stderr",
          "text": [
            "\r 53%|█████▎    | 25/47 [01:29<01:37,  4.43s/it]"
          ]
        },
        {
          "output_type": "stream",
          "name": "stdout",
          "text": [
            "create <__main__.ToVecBlock object at 0x7f29069cce10> 5.276[s]\n"
          ]
        },
        {
          "output_type": "stream",
          "name": "stderr",
          "text": [
            "\r 55%|█████▌    | 26/47 [01:34<01:38,  4.69s/it]"
          ]
        },
        {
          "output_type": "stream",
          "name": "stdout",
          "text": [
            "create <__main__.ToVecBlock object at 0x7f29069cce50> 5.255[s]\n"
          ]
        },
        {
          "output_type": "stream",
          "name": "stderr",
          "text": [
            "\r 57%|█████▋    | 27/47 [01:37<01:20,  4.02s/it]"
          ]
        },
        {
          "output_type": "stream",
          "name": "stdout",
          "text": [
            "create <__main__.ToVecBlock object at 0x7f29069cce90> 2.457[s]\n"
          ]
        },
        {
          "output_type": "stream",
          "name": "stderr",
          "text": [
            "\r 60%|█████▉    | 28/47 [01:40<01:08,  3.62s/it]"
          ]
        },
        {
          "output_type": "stream",
          "name": "stdout",
          "text": [
            "create <__main__.ToVecBlock object at 0x7f29069cced0> 2.651[s]\n"
          ]
        },
        {
          "output_type": "stream",
          "name": "stderr",
          "text": [
            "\r 62%|██████▏   | 29/47 [01:42<00:59,  3.29s/it]"
          ]
        },
        {
          "output_type": "stream",
          "name": "stdout",
          "text": [
            "create <__main__.ToVecBlock object at 0x7f29069ccf10> 2.497[s]\n"
          ]
        },
        {
          "output_type": "stream",
          "name": "stderr",
          "text": [
            "\r 64%|██████▍   | 30/47 [01:45<00:52,  3.10s/it]"
          ]
        },
        {
          "output_type": "stream",
          "name": "stdout",
          "text": [
            "create <__main__.ToVecBlock object at 0x7f29069ccf50> 2.623[s]\n"
          ]
        },
        {
          "output_type": "stream",
          "name": "stderr",
          "text": [
            "\r 66%|██████▌   | 31/47 [01:51<01:02,  3.92s/it]"
          ]
        },
        {
          "output_type": "stream",
          "name": "stdout",
          "text": [
            "create <__main__.ToVecBlock object at 0x7f29069ccf90> 5.798[s]\n"
          ]
        },
        {
          "output_type": "stream",
          "name": "stderr",
          "text": [
            "\r 68%|██████▊   | 32/47 [01:57<01:07,  4.52s/it]"
          ]
        },
        {
          "output_type": "stream",
          "name": "stdout",
          "text": [
            "create <__main__.ToVecBlock object at 0x7f29069ccfd0> 5.895[s]\n"
          ]
        },
        {
          "output_type": "stream",
          "name": "stderr",
          "text": [
            "\r 70%|███████   | 33/47 [02:02<01:09,  4.94s/it]"
          ]
        },
        {
          "output_type": "stream",
          "name": "stdout",
          "text": [
            "create <__main__.ToVecBlock object at 0x7f290673b050> 5.891[s]\n"
          ]
        },
        {
          "output_type": "stream",
          "name": "stderr",
          "text": [
            "\r 72%|███████▏  | 34/47 [02:08<01:08,  5.25s/it]"
          ]
        },
        {
          "output_type": "stream",
          "name": "stdout",
          "text": [
            "create <__main__.ToVecBlock object at 0x7f290673b090> 5.919[s]\n"
          ]
        },
        {
          "output_type": "stream",
          "name": "stderr",
          "text": [
            "\r 74%|███████▍  | 35/47 [02:14<01:04,  5.34s/it]"
          ]
        },
        {
          "output_type": "stream",
          "name": "stdout",
          "text": [
            "create <__main__.ToVecBlock object at 0x7f290673b0d0> 5.529[s]\n"
          ]
        },
        {
          "output_type": "stream",
          "name": "stderr",
          "text": [
            "\r 77%|███████▋  | 36/47 [02:20<01:00,  5.47s/it]"
          ]
        },
        {
          "output_type": "stream",
          "name": "stdout",
          "text": [
            "create <__main__.ToVecBlock object at 0x7f290673b110> 5.718[s]\n"
          ]
        },
        {
          "output_type": "stream",
          "name": "stderr",
          "text": [
            "\r 79%|███████▊  | 37/47 [02:26<00:55,  5.59s/it]"
          ]
        },
        {
          "output_type": "stream",
          "name": "stdout",
          "text": [
            "create <__main__.ToVecBlock object at 0x7f290673b150> 5.829[s]\n"
          ]
        },
        {
          "output_type": "stream",
          "name": "stderr",
          "text": [
            "\r 81%|████████  | 38/47 [02:31<00:50,  5.64s/it]"
          ]
        },
        {
          "output_type": "stream",
          "name": "stdout",
          "text": [
            "create <__main__.ToVecBlock object at 0x7f290673b190> 5.712[s]\n"
          ]
        },
        {
          "output_type": "stream",
          "name": "stderr",
          "text": [
            " 85%|████████▌ | 40/47 [02:32<00:20,  2.89s/it]"
          ]
        },
        {
          "output_type": "stream",
          "name": "stdout",
          "text": [
            "create <__main__.MaxColorsBlock object at 0x7f29069cc8d0> 0.377[s]\n",
            "create <__main__.MeanColorsBlock object at 0x7f29069dc590> 0.129[s]\n"
          ]
        },
        {
          "output_type": "stream",
          "name": "stderr",
          "text": [
            " 89%|████████▉ | 42/47 [02:32<00:07,  1.50s/it]"
          ]
        },
        {
          "output_type": "stream",
          "name": "stdout",
          "text": [
            "create <__main__.StdColorsBlock object at 0x7f2906f04f50> 0.162[s]\n",
            "create <__main__.StdColorsBlock object at 0x7f29069dc710> 0.135[s]\n"
          ]
        },
        {
          "output_type": "stream",
          "name": "stderr",
          "text": [
            "\r 91%|█████████▏| 43/47 [02:33<00:04,  1.18s/it]"
          ]
        },
        {
          "output_type": "stream",
          "name": "stdout",
          "text": [
            "create <__main__.RelativeLuminanceBlock object at 0x7f2906f1d750> 0.412[s]\n"
          ]
        },
        {
          "output_type": "stream",
          "name": "stderr",
          "text": [
            "\r 94%|█████████▎| 44/47 [02:33<00:02,  1.04it/s]"
          ]
        },
        {
          "output_type": "stream",
          "name": "stdout",
          "text": [
            "create <__main__.RelativeLuminanceBlock object at 0x7f2906f1d7d0> 0.415[s]\n"
          ]
        },
        {
          "output_type": "stream",
          "name": "stderr",
          "text": [
            "\r 96%|█████████▌| 45/47 [02:34<00:01,  1.26it/s]"
          ]
        },
        {
          "output_type": "stream",
          "name": "stdout",
          "text": [
            "create <__main__.RelativeLuminanceBlock object at 0x7f29069ce1d0> 0.396[s]\n"
          ]
        },
        {
          "output_type": "stream",
          "name": "stderr",
          "text": [
            "100%|██████████| 47/47 [02:34<00:00,  3.29s/it]\n"
          ]
        },
        {
          "output_type": "stream",
          "name": "stdout",
          "text": [
            "create <__main__.SaturationBrightnessBlock object at 0x7f29069ce250> 0.574[s]\n",
            "create <__main__.HistoricalFeatureBlock object at 0x7f29069ce050> 0.022[s]\n"
          ]
        },
        {
          "output_type": "stream",
          "name": "stderr",
          "text": [
            "\r  0%|          | 0/47 [00:00<?, ?it/s]"
          ]
        },
        {
          "output_type": "stream",
          "name": "stdout",
          "text": [
            "create <__main__.RawBlock object at 0x7f29069cc7d0> 0.007[s]\n",
            "create <__main__.StringLength object at 0x7f29069cc790> 0.025[s]\n"
          ]
        },
        {
          "output_type": "stream",
          "name": "stderr",
          "text": [
            " 19%|█▉        | 9/47 [00:00<00:02, 15.68it/s]"
          ]
        },
        {
          "output_type": "stream",
          "name": "stdout",
          "text": [
            "create <__main__.SizeBlock object at 0x7f29069cc810> 0.551[s]\n",
            "create <__main__.TargetEncodingBlock object at 0x7f29069cc890> 0.015[s]\n",
            "create <__main__.PortfolioBlock object at 0x7f29069cc910> 0.004[s]\n",
            "create <__main__.PortfolioBlock object at 0x7f29069cc950> 0.005[s]\n",
            "create <__main__.ToVecBlock object at 0x7f29069cc990> 0.017[s]\n",
            "create <__main__.ToVecBlock object at 0x7f29069cc9d0> 0.016[s]\n",
            "create <__main__.ToVecBlock object at 0x7f29069cca10> 0.016[s]\n",
            "create <__main__.ToVecBlock object at 0x7f29069cca50> 0.016[s]\n",
            "create <__main__.ToVecBlock object at 0x7f29069cca90> 0.012[s]\n",
            "create <__main__.ToVecBlock object at 0x7f29069ccb10> 0.012[s]\n",
            "create <__main__.ToVecBlock object at 0x7f29069ccb50> 0.011[s]\n"
          ]
        },
        {
          "output_type": "stream",
          "name": "stderr",
          "text": [
            " 40%|████      | 19/47 [00:00<00:01, 27.58it/s]"
          ]
        },
        {
          "output_type": "stream",
          "name": "stdout",
          "text": [
            "create <__main__.ToVecBlock object at 0x7f29069ccb90> 0.012[s]\n",
            "create <__main__.ToVecBlock object at 0x7f29069ccbd0> 0.011[s]\n",
            "create <__main__.ToVecBlock object at 0x7f29069ccad0> 0.009[s]\n",
            "create <__main__.ToVecBlock object at 0x7f29069ccc10> 0.009[s]\n",
            "create <__main__.ToVecBlock object at 0x7f29069ccc50> 0.009[s]\n",
            "create <__main__.ToVecBlock object at 0x7f29069ccc90> 0.010[s]\n",
            "create <__main__.ToVecBlock object at 0x7f29069cccd0> 0.010[s]\n",
            "create <__main__.ToVecBlock object at 0x7f29069ccd10> 0.009[s]\n",
            "create <__main__.ToVecBlock object at 0x7f29069ccd50> 0.009[s]\n"
          ]
        },
        {
          "output_type": "stream",
          "name": "stderr",
          "text": [
            "\r 51%|█████     | 24/47 [00:01<00:00, 29.71it/s]"
          ]
        },
        {
          "output_type": "stream",
          "name": "stdout",
          "text": [
            "create <__main__.ToVecBlock object at 0x7f29069ccd90> 0.017[s]\n",
            "create <__main__.ToVecBlock object at 0x7f29069ccdd0> 0.018[s]\n",
            "create <__main__.ToVecBlock object at 0x7f29069cce10> 0.018[s]\n",
            "create <__main__.ToVecBlock object at 0x7f29069cce50> 0.018[s]\n",
            "create <__main__.ToVecBlock object at 0x7f29069cce90> 0.014[s]\n",
            "create <__main__.ToVecBlock object at 0x7f29069cced0> 0.015[s]\n"
          ]
        },
        {
          "output_type": "stream",
          "name": "stderr",
          "text": [
            " 68%|██████▊   | 32/47 [00:01<00:00, 26.50it/s]"
          ]
        },
        {
          "output_type": "stream",
          "name": "stdout",
          "text": [
            "create <__main__.ToVecBlock object at 0x7f29069ccf10> 0.014[s]\n",
            "create <__main__.ToVecBlock object at 0x7f29069ccf50> 0.013[s]\n",
            "create <__main__.ToVecBlock object at 0x7f29069ccf90> 0.017[s]\n",
            "create <__main__.ToVecBlock object at 0x7f29069ccfd0> 0.017[s]\n",
            "create <__main__.ToVecBlock object at 0x7f290673b050> 0.018[s]\n"
          ]
        },
        {
          "output_type": "stream",
          "name": "stderr",
          "text": [
            "\r 77%|███████▋  | 36/47 [00:01<00:00, 23.81it/s]"
          ]
        },
        {
          "output_type": "stream",
          "name": "stdout",
          "text": [
            "create <__main__.ToVecBlock object at 0x7f290673b090> 0.017[s]\n",
            "create <__main__.ToVecBlock object at 0x7f290673b0d0> 0.019[s]\n",
            "create <__main__.ToVecBlock object at 0x7f290673b110> 0.017[s]\n",
            "create <__main__.ToVecBlock object at 0x7f290673b150> 0.018[s]\n"
          ]
        },
        {
          "output_type": "stream",
          "name": "stderr",
          "text": [
            "\r 83%|████████▎ | 39/47 [00:01<00:00, 22.14it/s]"
          ]
        },
        {
          "output_type": "stream",
          "name": "stdout",
          "text": [
            "create <__main__.ToVecBlock object at 0x7f290673b190> 0.018[s]\n",
            "create <__main__.MaxColorsBlock object at 0x7f29069cc8d0> 0.014[s]\n",
            "create <__main__.MeanColorsBlock object at 0x7f29069dc590> 0.014[s]\n"
          ]
        },
        {
          "output_type": "stream",
          "name": "stderr",
          "text": [
            "\r 89%|████████▉ | 42/47 [00:02<00:00, 15.87it/s]"
          ]
        },
        {
          "output_type": "stream",
          "name": "stdout",
          "text": [
            "create <__main__.StdColorsBlock object at 0x7f2906f04f50> 0.149[s]\n",
            "create <__main__.StdColorsBlock object at 0x7f29069dc710> 0.127[s]\n",
            "create <__main__.RelativeLuminanceBlock object at 0x7f2906f1d750> 0.012[s]\n"
          ]
        },
        {
          "output_type": "stream",
          "name": "stderr",
          "text": [
            "100%|██████████| 47/47 [00:02<00:00, 20.47it/s]"
          ]
        },
        {
          "output_type": "stream",
          "name": "stdout",
          "text": [
            "create <__main__.RelativeLuminanceBlock object at 0x7f2906f1d7d0> 0.013[s]\n",
            "create <__main__.RelativeLuminanceBlock object at 0x7f29069ce1d0> 0.011[s]\n",
            "create <__main__.SaturationBrightnessBlock object at 0x7f29069ce250> 0.012[s]\n",
            "create <__main__.HistoricalFeatureBlock object at 0x7f29069ce050> 0.020[s]\n"
          ]
        },
        {
          "output_type": "stream",
          "name": "stderr",
          "text": [
            "\n"
          ]
        }
      ]
    },
    {
      "cell_type": "code",
      "metadata": {
        "id": "zJ0nsiBlEqMJ"
      },
      "source": [
        "# 他の列と閾値以下の相関を持つ列名を取得する関数\n",
        "def corr_column(input_df, threshold):\n",
        "    df_corr = input_df.corr()\n",
        "    df_corr = abs(df_corr)\n",
        "    columns = df_corr.columns\n",
        "\n",
        "    # 対角線の値を0にする\n",
        "    for i in range(0, len(columns)):\n",
        "        df_corr.iloc[i, i] = 0\n",
        "\n",
        "    while True:\n",
        "        columns = df_corr.columns\n",
        "        max_corr = 0.0\n",
        "        query_column = None\n",
        "        target_column = None\n",
        "\n",
        "        df_max_column_value = df_corr.max()\n",
        "        max_corr = df_max_column_value.max()\n",
        "        query_column = df_max_column_value.idxmax()\n",
        "        target_column = df_corr[query_column].idxmax()\n",
        "\n",
        "        if max_corr < threshold:\n",
        "            # しきい値を超えるものがなかったため終了\n",
        "            break\n",
        "        else:\n",
        "            # しきい値を超えるものがあった場合\n",
        "            delete_column = None\n",
        "            saved_column = None\n",
        "\n",
        "            # その他との相関の絶対値が大きい方を除去\n",
        "            if sum(df_corr[query_column]) <= sum(df_corr[target_column]):\n",
        "                delete_column = target_column\n",
        "                saved_column = query_column\n",
        "            else:\n",
        "                delete_column = query_column\n",
        "                saved_column = target_column\n",
        "\n",
        "            # 除去すべき特徴を相関行列から消す（行、列）\n",
        "            df_corr.drop([delete_column], axis=0, inplace=True)\n",
        "            df_corr.drop([delete_column], axis=1, inplace=True)\n",
        "\n",
        "    return list(df_corr)"
      ],
      "execution_count": 56,
      "outputs": []
    },
    {
      "cell_type": "code",
      "metadata": {
        "id": "FSc5RrGDFPEf"
      },
      "source": [
        "# 閾値以下の相関を持つ列+カテゴリ列を抽出\n",
        "low_corr_column = corr_column(train, 0.98) + list(train.select_dtypes('object'))"
      ],
      "execution_count": 57,
      "outputs": []
    },
    {
      "cell_type": "code",
      "source": [
        "low_corr_column"
      ],
      "metadata": {
        "id": "xAazQz9hDAtf"
      },
      "execution_count": null,
      "outputs": []
    },
    {
      "cell_type": "code",
      "metadata": {
        "id": "T-ctAOQwx7R9"
      },
      "source": [
        "def postprocess(input_df):\n",
        "    output_df = input_df[low_corr_column].copy()\n",
        "    # 行ごとにnullの数を特徴量化\n",
        "    output_df['num_null'] = output_df.isnull().sum(axis=1)\n",
        "    return output_df"
      ],
      "execution_count": 61,
      "outputs": []
    },
    {
      "cell_type": "code",
      "metadata": {
        "id": "dz4VDJYhRolT"
      },
      "source": [
        "train_postprocessed = postprocess(train)\n",
        "test_postprocessed = postprocess(test)"
      ],
      "execution_count": 62,
      "outputs": []
    },
    {
      "cell_type": "code",
      "metadata": {
        "id": "5qbZmnqqOgef"
      },
      "source": [
        "assert len(test_postprocessed) == len(test_raw)"
      ],
      "execution_count": 63,
      "outputs": []
    },
    {
      "cell_type": "markdown",
      "metadata": {
        "id": "SIlh2fbeVXwN"
      },
      "source": [
        "# Functions for TabNet"
      ]
    },
    {
      "cell_type": "code",
      "metadata": {
        "id": "A5LFddN6UttI"
      },
      "source": [
        "# SEED固定\n",
        "def seed_everything(seed_value):\n",
        "    random.seed(seed_value)\n",
        "    np.random.seed(seed_value)\n",
        "    torch.manual_seed(seed_value)\n",
        "    os.environ['PYTHONHASHSEED'] = str(seed_value)\n",
        "    \n",
        "    if torch.cuda.is_available(): \n",
        "        torch.cuda.manual_seed(seed_value)\n",
        "        torch.cuda.manual_seed_all(seed_value)\n",
        "        torch.backends.cudnn.deterministic = True\n",
        "        torch.backends.cudnn.benchmark = False\n",
        "        \n",
        "seed_everything(SEED)"
      ],
      "execution_count": 64,
      "outputs": []
    },
    {
      "cell_type": "markdown",
      "source": [
        "# ここから書き換え\n",
        "* 必要なこと\n",
        "カテゴリ変数の設定と、そのカテゴリ数の設定（すべて数値処理しているが、一定以下のものはカテゴリ数にしておく）\n",
        "\n",
        "事前学習を行う\n",
        "\n",
        "実装自体は、lightGBMと同じように実装できるため使いやすい。  \n",
        "問題は特徴量を適当に増やして行くと、過学習しやすい点が注意が必要かも知れない。  \n",
        "➟自然言語系は入れても大丈夫そう？"
      ],
      "metadata": {
        "id": "jM8PzYz1DRJ5"
      }
    },
    {
      "cell_type": "code",
      "metadata": {
        "id": "FMzGz_53Uuw_"
      },
      "source": [
        "# preprocess\n",
        "def tabnet_preprocess(input_df, n_as_cat):\n",
        "    \"\"\"\n",
        "    Args:\n",
        "        input_df: train_test\n",
        "        n_as_cat: unique数がこの数以下のnumericはcategoryとして扱う\n",
        "\n",
        "    \"\"\"\n",
        "    output_df = input_df.copy()\n",
        "    nunique = output_df.nunique()\n",
        "    types = output_df.dtypes\n",
        "    categorical_columns = []\n",
        "    categorical_dims =  {}\n",
        "\n",
        "    for i, col in enumerate(output_df.columns):\n",
        "        if (types[col] == 'object')|(nunique[col] < n_as_cat):\n",
        "            print(i, col, output_df[col].nunique())\n",
        "            enc = LabelEncoder()\n",
        "            output_df[col] = output_df[col].fillna(\"<missing>\").astype('str')\n",
        "            output_df[col] = enc.fit_transform(output_df[col].values)\n",
        "            categorical_columns.append(col)\n",
        "            categorical_dims[col] = output_df[col].nunique()\n",
        "        else:\n",
        "            train_indices = train_raw.index\n",
        "            output_df.fillna(input_df.loc[train_indices, col].mean(), inplace=True)\n",
        "\n",
        "    return output_df, categorical_columns, categorical_dims"
      ],
      "execution_count": 65,
      "outputs": []
    },
    {
      "cell_type": "code",
      "metadata": {
        "id": "gohSKJeWHEuT"
      },
      "source": [
        "# 学習・予測\n",
        "def run_tabnet(cv, X_train, y_train, X_test,  tabnet_params, fit_params, pretrain=True):\n",
        "  \"\"\"\n",
        "  Args:\n",
        "    cv(list): バリデーションのリスト\n",
        "    X_train(np.ndarray): 学習データ\n",
        "    y_train(np.ndarray): 正解ラベル\n",
        "    X_test(np.ndarray): 評価データ\n",
        "    pretrain(bool): 事前学習をするかどうか\n",
        "    tabnet_params: 学習パラメータ\n",
        "    fit_params: パラメータ\n",
        "    他はpytorch-tabnetのパラメータのうち、変更することがありそうなもの\n",
        "  \"\"\"\n",
        "\n",
        "  oof = np.zeros((len(X_train),))\n",
        "  test_preds_all = np.zeros((len(X_test),))\n",
        "  models = []\n",
        "  pretrainer = None\n",
        "\n",
        "  if pretrain:\n",
        "      pretrainer = TabNetPretrainer(**tabnet_params)\n",
        "      print('★'*20, 'START PRETRAINING', '★'*20)\n",
        "      pretrainer.fit(X_train=X_train,\n",
        "                      eval_set=[X_train],\n",
        "                      max_epochs=fit_params[\"max_epochs\"],\n",
        "                      patience=fit_params[\"patience\"],\n",
        "                      batch_size=fit_params[\"batch_size\"],\n",
        "                      virtual_batch_size=fit_params[\"virtual_batch_size\"],\n",
        "                      num_workers=fit_params[\"num_workers\"],\n",
        "                      pretraining_ratio=fit_params[\"pretraining_ratio\"])\n",
        "      print('★'*20, 'FINISH PRETRAINING', '★'*20)\n",
        "\n",
        "  for fold, (tr_idx, va_idx) in enumerate(cv):\n",
        "      print()\n",
        "      print('FOLD: ', fold)\n",
        "\n",
        "      x_tr, y_tr = X_train[tr_idx], y_train[tr_idx].reshape(-1, 1)\n",
        "      x_va, y_va = X_train[va_idx], y_train[va_idx].reshape(-1, 1)\n",
        "      \n",
        "      model = TabNetRegressor(**tabnet_params)\n",
        "      model.fit(X_train=x_tr,\n",
        "                y_train=y_tr,\n",
        "                eval_set=[(x_tr, y_tr),(x_va, y_va)],\n",
        "                eval_name=['train', 'valid'],\n",
        "                eval_metric=fit_params[\"eval_metric\"],\n",
        "                loss_fn=fit_params[\"loss_fn\"],\n",
        "                max_epochs=fit_params[\"max_epochs\"],\n",
        "                patience=fit_params[\"patience\"],\n",
        "                batch_size=fit_params[\"batch_size\"],\n",
        "                virtual_batch_size=fit_params[\"virtual_batch_size\"],\n",
        "                num_workers=fit_params[\"num_workers\"],\n",
        "                from_unsupervised=pretrainer)\n",
        "\n",
        "      models.append(model)\n",
        "      oof[va_idx] = model.predict(x_va).ravel()\n",
        "      pred = model.predict(X_test).ravel()\n",
        "      test_preds_all += pred / len(cv)\n",
        "\n",
        "  score = mean_squared_error(y_train, oof) ** .5\n",
        "  print('Whole RMSLE: {:.4f}'.format(score))\n",
        "\n",
        "  return models, oof, test_preds_all"
      ],
      "execution_count": 83,
      "outputs": []
    },
    {
      "cell_type": "code",
      "metadata": {
        "id": "QEB6yZ2RHOm0"
      },
      "source": [
        "# 引数次第で正規化（TabNetは不要だがやった方が良いことも）してndarray（X_train, y_train, X_test）を返す\n",
        "def get_tabnet_dateset(input_df, rankgauss=False, seed=0):\n",
        "    \"\"\"\n",
        "    Args:\n",
        "        input_df(pd.DataFrame): 前処理後のtrain_test\n",
        "        rankgauss(bool): Trueだと数値列にrankgaussかける\n",
        "        seed(int): seed\n",
        "    Requirements: 以下の変数が外側で定義されていないと動かない\n",
        "        - train_raw / test_rawという名前のtrainとtestの長さを保ったpd.DataFrame（切り分けに使用）\n",
        "        - num_colsという名前の数値列名を格納したリスト（rankgaussをかける列の判別に使用）\n",
        "        - train_rawに含まれるtargetの列名をTARGET_COLとして定義（y_trainの取得に使用）\n",
        "    \"\"\"\n",
        "    if rankgauss:\n",
        "        transformer = QuantileTransformer(n_quantiles=100, random_state=seed, output_distribution='normal')\n",
        "\n",
        "        # pytorch-tabnetでカテゴリ変数として扱うもの以外を正規化\n",
        "        # いったんすべてRankGaussをかけて数値列だけ入れ替える\n",
        "        df_scaled = pd.DataFrame(transformer.fit_transform(input_df))\n",
        "        df_scaled.columns = input_df.columns\n",
        "\n",
        "        for c in list(df_scaled):\n",
        "            if c not in num_cols:\n",
        "                df_scaled[c] = input_df[c]\n",
        "\n",
        "        X_train = df_scaled[:len(train_raw)].reset_index(drop=True).values\n",
        "        X_test = df_scaled[len(train_raw):].reset_index(drop=True).values\n",
        "        y_train = train_raw[TARGET_COL].values\n",
        "         \n",
        "    else:\n",
        "        X_train = input_df[:len(train_raw)].reset_index(drop=True).values\n",
        "        X_test = input_df[len(train_raw):].reset_index(drop=True).values\n",
        "        y_train = train_raw[TARGET_COL].values\n",
        "\n",
        "    return X_train, X_test, y_train"
      ],
      "execution_count": 77,
      "outputs": []
    },
    {
      "cell_type": "code",
      "metadata": {
        "id": "4tRcGbDVH1qk"
      },
      "source": [
        "# importanceの可視化\n",
        "def visualize_tabnet_importance(models, feat_train_df):\n",
        "    feature_importance_df = pd.DataFrame()\n",
        "    for i, model in enumerate(models):\n",
        "        _df = pd.DataFrame()\n",
        "        _df['feature_importance'] = model.feature_importances_\n",
        "        _df['column'] = feat_train_df.columns\n",
        "        _df['fold'] = i + 1\n",
        "        feature_importance_df = pd.concat([feature_importance_df, _df], \n",
        "                                          axis=0, ignore_index=True)\n",
        "\n",
        "    order = feature_importance_df.groupby('column')\\\n",
        "        .sum()[['feature_importance']]\\\n",
        "        .sort_values('feature_importance', ascending=False).index[:50]\n",
        "\n",
        "    fig, ax = plt.subplots(figsize=(max(6, len(order) * .25),10))\n",
        "    sns.boxenplot(data=feature_importance_df, \n",
        "                  y='feature_importance', \n",
        "                  x='column', \n",
        "                  order=order, \n",
        "                  ax=ax, \n",
        "                  palette='viridis', \n",
        "                  #orient='h'\n",
        "                  )\n",
        "    ax.tick_params(axis='x', rotation=90)\n",
        "    ax.set_title('TabNet Importance')\n",
        "    ax.grid()\n",
        "    fig.tight_layout()\n",
        "    return fig, ax"
      ],
      "execution_count": 116,
      "outputs": []
    },
    {
      "cell_type": "code",
      "metadata": {
        "id": "jcGB8BmeH3gk"
      },
      "source": [
        "# maskの可視化\n",
        "def visualize_mask(models_tabnet, feat_train_df):\n",
        "    masks_list = []\n",
        "    for model in models_tabnet:\n",
        "        _, masks = model.explain(X_test)\n",
        "        masks_list.append(masks)\n",
        "\n",
        "    masks_dict = {}\n",
        "    for i in range(len(masks_list[0])):\n",
        "        masks_dict[i] = np.zeros(masks_list[0][0].shape)\n",
        "\n",
        "    for masks in masks_list:\n",
        "        for i in range(len(masks)):\n",
        "            masks_dict[i] += masks[i] / len(masks_list)\n",
        "\n",
        "    h = (len(masks_dict) + 2) // 3\n",
        "    fig, axes = plt.subplots(h, 3, figsize=(20, h*3), sharey=True, sharex='col')\n",
        "\n",
        "    for i in range(len(masks_dict)):\n",
        "        if h == 1:\n",
        "            sns.heatmap(masks_dict[i], cmap='viridis', xticklabels=feat_train_df.columns, ax=axes[i], cbar=False)\n",
        "            axes[i].set_title(f'mask {i}')\n",
        "            axes[i].yaxis.set_visible(False)\n",
        "        else:\n",
        "            sns.heatmap(masks_dict[i], cmap='viridis', xticklabels=feat_train_df.columns, ax=axes[i//3][i%3], cbar=False)\n",
        "            axes[i//3][i%3].set_title(f'mask {i}')\n",
        "            axes[i//3][i%3].yaxis.set_visible(False)\n",
        "\n",
        "    return fig"
      ],
      "execution_count": 79,
      "outputs": []
    },
    {
      "cell_type": "code",
      "metadata": {
        "id": "XyL16wdtInti"
      },
      "source": [
        "# RMSE\n",
        "class RMSELoss(nn.Module):\n",
        "    def __init__(self, eps=1e-6):\n",
        "        super().__init__()\n",
        "        self.mse = nn.MSELoss()\n",
        "        self.eps = eps\n",
        "\n",
        "    def forward(self, yhat, y):\n",
        "        loss = torch.sqrt(self.mse(yhat, y) + self.eps)\n",
        "        return torch.mean(loss)"
      ],
      "execution_count": 80,
      "outputs": []
    },
    {
      "cell_type": "markdown",
      "metadata": {
        "id": "RW-WpdJ5H-Rq"
      },
      "source": [
        "# Process② ndarrayの作成"
      ]
    },
    {
      "cell_type": "code",
      "metadata": {
        "id": "jIfc2rhoPZRA"
      },
      "source": [
        "train_test = pd.concat([train_postprocessed, test_postprocessed], ignore_index=True)"
      ],
      "execution_count": 81,
      "outputs": []
    },
    {
      "cell_type": "code",
      "metadata": {
        "colab": {
          "base_uri": "https://localhost:8080/"
        },
        "id": "q8mkSU9fiVZx",
        "outputId": "7adeef07-5059-4f83-b3e0-cc9f510b5dc2"
      },
      "source": [
        "df_tabnet, categorical_columns, categorical_dims = tabnet_preprocess(train_test, n_as_cat=10)"
      ],
      "execution_count": 82,
      "outputs": [
        {
          "output_type": "stream",
          "name": "stdout",
          "text": [
            "2 maker_null_count 7\n",
            "850 contrast_0.5 4\n",
            "852 contrast_0.25 4\n",
            "854 contrast_0.75 4\n"
          ]
        }
      ]
    },
    {
      "cell_type": "code",
      "metadata": {
        "id": "FBWXGhuzivQi"
      },
      "source": [
        "features = [ col for col in df_tabnet.columns if col != TARGET_COL] \n",
        "cat_idxs = [ i for i, f in enumerate(features) if f in categorical_columns]\n",
        "cat_dims = [ categorical_dims[f] for i, f in enumerate(features) if f in categorical_columns]\n",
        "cat_emb_dim = [min(10, (x + 1) // 2) for x in cat_dims]\n",
        "num_cols = [col for col in features if col not in categorical_columns]"
      ],
      "execution_count": 84,
      "outputs": []
    },
    {
      "cell_type": "code",
      "metadata": {
        "id": "DzQe0wlwIYTC"
      },
      "source": [
        "X_train, X_test, y_train = get_tabnet_dateset(df_tabnet, rankgauss=False, seed=SEED)\n",
        "y_train = np.log1p(y_train)"
      ],
      "execution_count": 85,
      "outputs": []
    },
    {
      "cell_type": "code",
      "metadata": {
        "id": "33ws3NKohxfn"
      },
      "source": [
        "assert len(X_test) == len(test_raw)"
      ],
      "execution_count": 86,
      "outputs": []
    },
    {
      "cell_type": "markdown",
      "metadata": {
        "id": "tE5pK1Z4kObo"
      },
      "source": [
        "# Training"
      ]
    },
    {
      "cell_type": "code",
      "metadata": {
        "id": "r6PyV2KaImjW"
      },
      "source": [
        "optimizer_params=dict(lr=2e-2, weight_decay=1e-5)\n",
        "scheduler_fn=torch.optim.lr_scheduler.ReduceLROnPlateau\n",
        "scheduler_params=dict(mode=\"min\",\n",
        "                    patience=5,\n",
        "                    min_lr=1e-5,\n",
        "                    factor=0.9\n",
        "                    )"
      ],
      "execution_count": null,
      "outputs": []
    },
    {
      "cell_type": "code",
      "metadata": {
        "colab": {
          "base_uri": "https://localhost:8080/"
        },
        "id": "uQaFoEL-IvxE",
        "outputId": "46d3234c-4b68-440c-e475-7024f7f5e738"
      },
      "source": [
        "tabnet_params = {\n",
        "    \"n_d\": 8,\n",
        "    \"n_a\":8,\n",
        "    \"n_steps\":5,\n",
        "    \"gamma\":0.9,\n",
        "    \"cat_idxs\":cat_idxs,\n",
        "    \"cat_dims\":cat_dims,\n",
        "    \"cat_emb_dim\":cat_emb_dim,\n",
        "    \"n_independent\":2,\n",
        "    \"n_shared\":2,\n",
        "    \"seed\":0,\n",
        "    \"optimizer_fn\":torch.optim.Adam,\n",
        "    \"optimizer_params\":dict(lr=2e-2, weight_decay=1e-5),\n",
        "    \"mask_type\":'entmax',\n",
        "    \"lambda_sparse\":1e-3,\n",
        "    \"scheduler_fn\":torch.optim.lr_scheduler.ReduceLROnPlateau,\n",
        "    \"scheduler_params\":dict(mode=\"min\",\n",
        "                    patience=5,\n",
        "                    min_lr=1e-5,\n",
        "                    factor=0.9\n",
        "                    ),\n",
        "    \"verbose\":10,    \n",
        "}\n",
        "\n",
        "fit_params = {\n",
        "    \"eval_metric\":['rmse'],\n",
        "    \"loss_fn\":RMSELoss(),\n",
        "    \"max_epochs\": 200,\n",
        "    \"patience\":50,\n",
        "    \"batch_size\":1024,\n",
        "    \"virtual_batch_size\":128,\n",
        "    \"num_workers\":0,\n",
        "    \"pretraining_ratio\":0.5\n",
        "}\n",
        "\n",
        "models_tabnet, oof_tabnet, pred_tabnet = run_tabnet(\n",
        "                                                    cv=cv, \n",
        "                                                    X_train=X_train, \n",
        "                                                    y_train=y_train, \n",
        "                                                    X_test=X_test,\n",
        "                                                    tabnet_params=tabnet_params,\n",
        "                                                    fit_params= fit_params,\n",
        "                                                    pretrain=True,\n",
        "                                                    )"
      ],
      "execution_count": 89,
      "outputs": [
        {
          "output_type": "stream",
          "name": "stdout",
          "text": [
            "Device used : cuda\n",
            "★★★★★★★★★★★★★★★★★★★★ START PRETRAINING ★★★★★★★★★★★★★★★★★★★★\n",
            "epoch 0  | loss: 37.61486| val_0_unsup_loss: 4.15795 |  0:00:02s\n",
            "epoch 10 | loss: 2.33872 | val_0_unsup_loss: 2.15405 |  0:00:22s\n",
            "epoch 20 | loss: 2.15886 | val_0_unsup_loss: 2.0326  |  0:00:43s\n",
            "epoch 30 | loss: 2.12492 | val_0_unsup_loss: 1.97723 |  0:01:03s\n",
            "epoch 40 | loss: 2.01678 | val_0_unsup_loss: 1.94028 |  0:01:24s\n",
            "epoch 50 | loss: 2.63908 | val_0_unsup_loss: 1.95452 |  0:01:44s\n",
            "epoch 60 | loss: 2.09701 | val_0_unsup_loss: 1.88878 |  0:02:04s\n",
            "epoch 70 | loss: 1.90432 | val_0_unsup_loss: 1.81796 |  0:02:25s\n",
            "epoch 80 | loss: 2.21735 | val_0_unsup_loss: 1.91312 |  0:02:45s\n",
            "epoch 90 | loss: 2.36817 | val_0_unsup_loss: 1.83155 |  0:03:05s\n",
            "epoch 100| loss: 1.95172 | val_0_unsup_loss: 2.00892 |  0:03:26s\n",
            "epoch 110| loss: 2.02993 | val_0_unsup_loss: 1.83522 |  0:03:46s\n",
            "epoch 120| loss: 2.03918 | val_0_unsup_loss: 1.63672 |  0:04:06s\n",
            "epoch 130| loss: 2.00242 | val_0_unsup_loss: 1.52298 |  0:04:26s\n",
            "epoch 140| loss: 2.14861 | val_0_unsup_loss: 1.93011 |  0:04:47s\n",
            "epoch 150| loss: 1.99381 | val_0_unsup_loss: 1.42337 |  0:05:07s\n",
            "epoch 160| loss: 1.64391 | val_0_unsup_loss: 1.44099 |  0:05:27s\n",
            "epoch 170| loss: 1.29912 | val_0_unsup_loss: 1.44586 |  0:05:47s\n",
            "epoch 180| loss: 1.71377 | val_0_unsup_loss: 1.47805 |  0:06:08s\n",
            "epoch 190| loss: 1.24129 | val_0_unsup_loss: 1.49285 |  0:06:28s\n",
            "Stop training because you reached max_epochs = 200 with best_epoch = 164 and best_val_0_unsup_loss = 1.33409\n",
            "Best weights from best epoch are automatically used!\n",
            "★★★★★★★★★★★★★★★★★★★★ FINISH PRETRAINING ★★★★★★★★★★★★★★★★★★★★\n",
            "\n",
            "FOLD:  0\n",
            "Device used : cuda\n",
            "Loading weights from unsupervised pretraining\n",
            "epoch 0  | loss: 3.74456 | train_rmse: 2.0655  | valid_rmse: 2.12092 |  0:00:01s\n",
            "epoch 10 | loss: 1.09338 | train_rmse: 1.08347 | valid_rmse: 1.13031 |  0:00:13s\n",
            "epoch 20 | loss: 1.04877 | train_rmse: 1.04324 | valid_rmse: 1.12473 |  0:00:26s\n",
            "epoch 30 | loss: 1.01524 | train_rmse: 1.01579 | valid_rmse: 1.13048 |  0:00:38s\n",
            "epoch 40 | loss: 0.97853 | train_rmse: 0.97016 | valid_rmse: 1.1478  |  0:00:50s\n",
            "epoch 50 | loss: 0.93115 | train_rmse: 0.90114 | valid_rmse: 1.0999  |  0:01:03s\n",
            "epoch 60 | loss: 0.89842 | train_rmse: 0.85899 | valid_rmse: 1.12032 |  0:01:15s\n",
            "epoch 70 | loss: 0.88885 | train_rmse: 0.83603 | valid_rmse: 1.11717 |  0:01:27s\n",
            "epoch 80 | loss: 0.854   | train_rmse: 0.81172 | valid_rmse: 1.14707 |  0:01:40s\n",
            "epoch 90 | loss: 0.828   | train_rmse: 0.77497 | valid_rmse: 1.12822 |  0:01:52s\n",
            "\n",
            "Early stopping occurred at epoch 91 with best_epoch = 41 and best_valid_rmse = 1.09856\n",
            "Best weights from best epoch are automatically used!\n",
            "\n",
            "FOLD:  1\n",
            "Device used : cuda\n",
            "Loading weights from unsupervised pretraining\n",
            "epoch 0  | loss: 3.78563 | train_rmse: 1.87493 | valid_rmse: 1.85848 |  0:00:01s\n",
            "epoch 10 | loss: 1.10406 | train_rmse: 1.11155 | valid_rmse: 1.14619 |  0:00:13s\n",
            "epoch 20 | loss: 1.04655 | train_rmse: 1.058   | valid_rmse: 1.12463 |  0:00:26s\n",
            "epoch 30 | loss: 1.00591 | train_rmse: 1.00166 | valid_rmse: 1.1271  |  0:00:38s\n",
            "epoch 40 | loss: 0.96381 | train_rmse: 0.94904 | valid_rmse: 1.12852 |  0:00:50s\n",
            "epoch 50 | loss: 0.90679 | train_rmse: 0.92395 | valid_rmse: 1.14699 |  0:01:03s\n",
            "epoch 60 | loss: 0.89159 | train_rmse: 0.86219 | valid_rmse: 1.11772 |  0:01:15s\n",
            "epoch 70 | loss: 0.88946 | train_rmse: 0.86669 | valid_rmse: 1.15101 |  0:01:27s\n",
            "\n",
            "Early stopping occurred at epoch 74 with best_epoch = 24 and best_valid_rmse = 1.10136\n",
            "Best weights from best epoch are automatically used!\n",
            "\n",
            "FOLD:  2\n",
            "Device used : cuda\n",
            "Loading weights from unsupervised pretraining\n",
            "epoch 0  | loss: 3.73413 | train_rmse: 2.33362 | valid_rmse: 2.29417 |  0:00:01s\n",
            "epoch 10 | loss: 1.10831 | train_rmse: 1.11674 | valid_rmse: 1.15572 |  0:00:13s\n",
            "epoch 20 | loss: 1.05143 | train_rmse: 1.04354 | valid_rmse: 1.13256 |  0:00:26s\n",
            "epoch 30 | loss: 0.98963 | train_rmse: 1.03351 | valid_rmse: 1.19115 |  0:00:38s\n",
            "epoch 40 | loss: 0.94464 | train_rmse: 0.93516 | valid_rmse: 1.12443 |  0:00:50s\n",
            "epoch 50 | loss: 0.92588 | train_rmse: 0.89954 | valid_rmse: 1.12747 |  0:01:03s\n",
            "epoch 60 | loss: 0.88613 | train_rmse: 0.86559 | valid_rmse: 1.12046 |  0:01:15s\n",
            "epoch 70 | loss: 0.87978 | train_rmse: 0.82337 | valid_rmse: 1.11817 |  0:01:28s\n",
            "epoch 80 | loss: 0.85721 | train_rmse: 0.82318 | valid_rmse: 1.15031 |  0:01:40s\n",
            "epoch 90 | loss: 0.83303 | train_rmse: 0.78359 | valid_rmse: 1.12982 |  0:01:52s\n",
            "epoch 100| loss: 0.81196 | train_rmse: 0.77455 | valid_rmse: 1.13346 |  0:02:05s\n",
            "\n",
            "Early stopping occurred at epoch 101 with best_epoch = 51 and best_valid_rmse = 1.104\n",
            "Best weights from best epoch are automatically used!\n",
            "\n",
            "FOLD:  3\n",
            "Device used : cuda\n",
            "Loading weights from unsupervised pretraining\n",
            "epoch 0  | loss: 3.72968 | train_rmse: 2.34515 | valid_rmse: 2.3305  |  0:00:01s\n",
            "epoch 10 | loss: 1.10326 | train_rmse: 1.08251 | valid_rmse: 1.13845 |  0:00:13s\n",
            "epoch 20 | loss: 1.05338 | train_rmse: 1.03719 | valid_rmse: 1.12493 |  0:00:25s\n",
            "epoch 30 | loss: 1.00785 | train_rmse: 0.98996 | valid_rmse: 1.12196 |  0:00:38s\n",
            "epoch 40 | loss: 0.96854 | train_rmse: 0.94818 | valid_rmse: 1.11246 |  0:00:50s\n",
            "epoch 50 | loss: 0.92698 | train_rmse: 0.89355 | valid_rmse: 1.12906 |  0:01:02s\n",
            "epoch 60 | loss: 0.89397 | train_rmse: 0.86346 | valid_rmse: 1.1599  |  0:01:15s\n",
            "epoch 70 | loss: 0.86375 | train_rmse: 0.81572 | valid_rmse: 1.16602 |  0:01:27s\n",
            "epoch 80 | loss: 0.85769 | train_rmse: 0.79656 | valid_rmse: 1.14239 |  0:01:39s\n",
            "\n",
            "Early stopping occurred at epoch 88 with best_epoch = 38 and best_valid_rmse = 1.10943\n",
            "Best weights from best epoch are automatically used!\n",
            "\n",
            "FOLD:  4\n",
            "Device used : cuda\n",
            "Loading weights from unsupervised pretraining\n",
            "epoch 0  | loss: 3.7105  | train_rmse: 2.77563 | valid_rmse: 2.73219 |  0:00:01s\n",
            "epoch 10 | loss: 1.10628 | train_rmse: 1.14541 | valid_rmse: 1.22371 |  0:00:13s\n",
            "epoch 20 | loss: 1.05614 | train_rmse: 1.08029 | valid_rmse: 1.17324 |  0:00:26s\n",
            "epoch 30 | loss: 1.00745 | train_rmse: 0.98228 | valid_rmse: 1.13205 |  0:00:38s\n",
            "epoch 40 | loss: 0.97707 | train_rmse: 0.95404 | valid_rmse: 1.15139 |  0:00:50s\n",
            "epoch 50 | loss: 0.93676 | train_rmse: 0.92057 | valid_rmse: 1.18212 |  0:01:03s\n",
            "epoch 60 | loss: 0.91243 | train_rmse: 0.88744 | valid_rmse: 1.16777 |  0:01:15s\n",
            "epoch 70 | loss: 0.88933 | train_rmse: 0.85803 | valid_rmse: 1.14508 |  0:01:27s\n",
            "epoch 80 | loss: 0.85823 | train_rmse: 0.8385  | valid_rmse: 1.18329 |  0:01:40s\n",
            "\n",
            "Early stopping occurred at epoch 84 with best_epoch = 34 and best_valid_rmse = 1.12624\n",
            "Best weights from best epoch are automatically used!\n",
            "Whole RMSLE: 1.1080\n"
          ]
        }
      ]
    },
    {
      "cell_type": "code",
      "source": [
        "!nvidia-smi"
      ],
      "metadata": {
        "colab": {
          "base_uri": "https://localhost:8080/"
        },
        "id": "3WXfOy1IMmtq",
        "outputId": "24937798-7d64-4e6b-93ac-25297a271fee"
      },
      "execution_count": 88,
      "outputs": [
        {
          "output_type": "stream",
          "name": "stdout",
          "text": [
            "Sun Dec 19 05:38:07 2021       \n",
            "+-----------------------------------------------------------------------------+\n",
            "| NVIDIA-SMI 495.44       Driver Version: 460.32.03    CUDA Version: 11.2     |\n",
            "|-------------------------------+----------------------+----------------------+\n",
            "| GPU  Name        Persistence-M| Bus-Id        Disp.A | Volatile Uncorr. ECC |\n",
            "| Fan  Temp  Perf  Pwr:Usage/Cap|         Memory-Usage | GPU-Util  Compute M. |\n",
            "|                               |                      |               MIG M. |\n",
            "|===============================+======================+======================|\n",
            "|   0  Tesla V100-SXM2...  Off  | 00000000:00:04.0 Off |                    0 |\n",
            "| N/A   35C    P0    39W / 300W |   1913MiB / 16160MiB |      0%      Default |\n",
            "|                               |                      |                  N/A |\n",
            "+-------------------------------+----------------------+----------------------+\n",
            "                                                                               \n",
            "+-----------------------------------------------------------------------------+\n",
            "| Processes:                                                                  |\n",
            "|  GPU   GI   CI        PID   Type   Process name                  GPU Memory |\n",
            "|        ID   ID                                                   Usage      |\n",
            "|=============================================================================|\n",
            "|  No running processes found                                                 |\n",
            "+-----------------------------------------------------------------------------+\n"
          ]
        }
      ]
    },
    {
      "cell_type": "markdown",
      "metadata": {
        "id": "qvgtkz_FptNP"
      },
      "source": [
        "# Loss&Importance"
      ]
    },
    {
      "cell_type": "code",
      "metadata": {
        "colab": {
          "base_uri": "https://localhost:8080/",
          "height": 729
        },
        "id": "fwWIvnIAymrj",
        "outputId": "d1cd9c67-5083-4ca0-f1f1-64b241b401b0"
      },
      "source": [
        "fig_tabnet, _ = visualize_tabnet_importance(models_tabnet, df_tabnet)"
      ],
      "execution_count": 117,
      "outputs": [
        {
          "output_type": "display_data",
          "data": {
            "image/png": "[encoded data removed]",
            "text/plain": [
              "<Figure size 900x720 with 1 Axes>"
            ]
          },
          "metadata": {}
        }
      ]
    },
    {
      "cell_type": "code",
      "source": [
        "explain_matrix, masks = models_tabnet[0].explain(X_test)"
      ],
      "metadata": {
        "id": "_mh_8xOjU_Z9"
      },
      "execution_count": 95,
      "outputs": []
    },
    {
      "cell_type": "code",
      "source": [
        "plt.figure(figsize=(16,100))\n",
        "plt.imshow(masks[1][:100])"
      ],
      "metadata": {
        "colab": {
          "base_uri": "https://localhost:8080/",
          "height": 171
        },
        "id": "qjTg512mVhre",
        "outputId": "892cd736-5a41-439b-e07f-f7dde6d30adf"
      },
      "execution_count": 105,
      "outputs": [
        {
          "output_type": "execute_result",
          "data": {
            "text/plain": [
              "<matplotlib.image.AxesImage at 0x7f28b3bd4a10>"
            ]
          },
          "metadata": {},
          "execution_count": 105
        },
        {
          "output_type": "display_data",
          "data": {
            "image/png": "[encoded data removed]",
            "text/plain": [
              "<Figure size 1152x7200 with 1 Axes>"
            ]
          },
          "metadata": {}
        }
      ]
    },
    {
      "cell_type": "code",
      "metadata": {
        "id": "QaxtCeZzy_mO",
        "colab": {
          "base_uri": "https://localhost:8080/",
          "height": 821
        },
        "outputId": "9aa28823-8791-44ff-e02b-5c60734d8d59"
      },
      "source": [
        "# # mask。特徴が多いと意味が分からない\n",
        "mask_tabnet = visualize_mask(models_tabnet, df_tabnet)"
      ],
      "execution_count": 92,
      "outputs": [
        {
          "output_type": "stream",
          "name": "stdout",
          "text": [
            "Error in callback <function install_repl_displayhook.<locals>.post_execute at 0x7f2a6b27b950> (for post_execute):\n"
          ]
        },
        {
          "output_type": "error",
          "ename": "KeyboardInterrupt",
          "evalue": "ignored",
          "traceback": [
            "\u001b[0;31m---------------------------------------------------------------------------\u001b[0m",
            "\u001b[0;31mKeyboardInterrupt\u001b[0m                         Traceback (most recent call last)",
            "\u001b[0;32m/usr/local/lib/python3.7/dist-packages/matplotlib/pyplot.py\u001b[0m in \u001b[0;36mpost_execute\u001b[0;34m()\u001b[0m\n\u001b[1;32m    107\u001b[0m             \u001b[0;32mdef\u001b[0m \u001b[0mpost_execute\u001b[0m\u001b[0;34m(\u001b[0m\u001b[0;34m)\u001b[0m\u001b[0;34m:\u001b[0m\u001b[0;34m\u001b[0m\u001b[0;34m\u001b[0m\u001b[0m\n\u001b[1;32m    108\u001b[0m                 \u001b[0;32mif\u001b[0m \u001b[0mmatplotlib\u001b[0m\u001b[0;34m.\u001b[0m\u001b[0mis_interactive\u001b[0m\u001b[0;34m(\u001b[0m\u001b[0;34m)\u001b[0m\u001b[0;34m:\u001b[0m\u001b[0;34m\u001b[0m\u001b[0;34m\u001b[0m\u001b[0m\n\u001b[0;32m--> 109\u001b[0;31m                     \u001b[0mdraw_all\u001b[0m\u001b[0;34m(\u001b[0m\u001b[0;34m)\u001b[0m\u001b[0;34m\u001b[0m\u001b[0;34m\u001b[0m\u001b[0m\n\u001b[0m\u001b[1;32m    110\u001b[0m \u001b[0;34m\u001b[0m\u001b[0m\n\u001b[1;32m    111\u001b[0m             \u001b[0;31m# IPython >= 2\u001b[0m\u001b[0;34m\u001b[0m\u001b[0;34m\u001b[0m\u001b[0;34m\u001b[0m\u001b[0m\n",
            "\u001b[0;32m/usr/local/lib/python3.7/dist-packages/matplotlib/_pylab_helpers.py\u001b[0m in \u001b[0;36mdraw_all\u001b[0;34m(cls, force)\u001b[0m\n\u001b[1;32m    125\u001b[0m         \u001b[0;32mfor\u001b[0m \u001b[0mf_mgr\u001b[0m \u001b[0;32min\u001b[0m \u001b[0mcls\u001b[0m\u001b[0;34m.\u001b[0m\u001b[0mget_all_fig_managers\u001b[0m\u001b[0;34m(\u001b[0m\u001b[0;34m)\u001b[0m\u001b[0;34m:\u001b[0m\u001b[0;34m\u001b[0m\u001b[0;34m\u001b[0m\u001b[0m\n\u001b[1;32m    126\u001b[0m             \u001b[0;32mif\u001b[0m \u001b[0mforce\u001b[0m \u001b[0;32mor\u001b[0m \u001b[0mf_mgr\u001b[0m\u001b[0;34m.\u001b[0m\u001b[0mcanvas\u001b[0m\u001b[0;34m.\u001b[0m\u001b[0mfigure\u001b[0m\u001b[0;34m.\u001b[0m\u001b[0mstale\u001b[0m\u001b[0;34m:\u001b[0m\u001b[0;34m\u001b[0m\u001b[0;34m\u001b[0m\u001b[0m\n\u001b[0;32m--> 127\u001b[0;31m                 \u001b[0mf_mgr\u001b[0m\u001b[0;34m.\u001b[0m\u001b[0mcanvas\u001b[0m\u001b[0;34m.\u001b[0m\u001b[0mdraw_idle\u001b[0m\u001b[0;34m(\u001b[0m\u001b[0;34m)\u001b[0m\u001b[0;34m\u001b[0m\u001b[0;34m\u001b[0m\u001b[0m\n\u001b[0m\u001b[1;32m    128\u001b[0m \u001b[0;34m\u001b[0m\u001b[0m\n\u001b[1;32m    129\u001b[0m \u001b[0matexit\u001b[0m\u001b[0;34m.\u001b[0m\u001b[0mregister\u001b[0m\u001b[0;34m(\u001b[0m\u001b[0mGcf\u001b[0m\u001b[0;34m.\u001b[0m\u001b[0mdestroy_all\u001b[0m\u001b[0;34m)\u001b[0m\u001b[0;34m\u001b[0m\u001b[0;34m\u001b[0m\u001b[0m\n",
            "\u001b[0;32m/usr/local/lib/python3.7/dist-packages/matplotlib/backend_bases.py\u001b[0m in \u001b[0;36mdraw_idle\u001b[0;34m(self, *args, **kwargs)\u001b[0m\n\u001b[1;32m   1945\u001b[0m         \u001b[0;32mif\u001b[0m \u001b[0;32mnot\u001b[0m \u001b[0mself\u001b[0m\u001b[0;34m.\u001b[0m\u001b[0m_is_idle_drawing\u001b[0m\u001b[0;34m:\u001b[0m\u001b[0;34m\u001b[0m\u001b[0;34m\u001b[0m\u001b[0m\n\u001b[1;32m   1946\u001b[0m             \u001b[0;32mwith\u001b[0m \u001b[0mself\u001b[0m\u001b[0;34m.\u001b[0m\u001b[0m_idle_draw_cntx\u001b[0m\u001b[0;34m(\u001b[0m\u001b[0;34m)\u001b[0m\u001b[0;34m:\u001b[0m\u001b[0;34m\u001b[0m\u001b[0;34m\u001b[0m\u001b[0m\n\u001b[0;32m-> 1947\u001b[0;31m                 \u001b[0mself\u001b[0m\u001b[0;34m.\u001b[0m\u001b[0mdraw\u001b[0m\u001b[0;34m(\u001b[0m\u001b[0;34m*\u001b[0m\u001b[0margs\u001b[0m\u001b[0;34m,\u001b[0m \u001b[0;34m**\u001b[0m\u001b[0mkwargs\u001b[0m\u001b[0;34m)\u001b[0m\u001b[0;34m\u001b[0m\u001b[0;34m\u001b[0m\u001b[0m\n\u001b[0m\u001b[1;32m   1948\u001b[0m \u001b[0;34m\u001b[0m\u001b[0m\n\u001b[1;32m   1949\u001b[0m     \u001b[0;34m@\u001b[0m\u001b[0mcbook\u001b[0m\u001b[0;34m.\u001b[0m\u001b[0mdeprecated\u001b[0m\u001b[0;34m(\u001b[0m\u001b[0;34m\"3.2\"\u001b[0m\u001b[0;34m)\u001b[0m\u001b[0;34m\u001b[0m\u001b[0;34m\u001b[0m\u001b[0m\n",
            "\u001b[0;32m/usr/local/lib/python3.7/dist-packages/matplotlib/backends/backend_agg.py\u001b[0m in \u001b[0;36mdraw\u001b[0;34m(self)\u001b[0m\n\u001b[1;32m    391\u001b[0m              (self.toolbar._wait_cursor_for_draw_cm() if self.toolbar\n\u001b[1;32m    392\u001b[0m               else nullcontext()):\n\u001b[0;32m--> 393\u001b[0;31m             \u001b[0mself\u001b[0m\u001b[0;34m.\u001b[0m\u001b[0mfigure\u001b[0m\u001b[0;34m.\u001b[0m\u001b[0mdraw\u001b[0m\u001b[0;34m(\u001b[0m\u001b[0mself\u001b[0m\u001b[0;34m.\u001b[0m\u001b[0mrenderer\u001b[0m\u001b[0;34m)\u001b[0m\u001b[0;34m\u001b[0m\u001b[0;34m\u001b[0m\u001b[0m\n\u001b[0m\u001b[1;32m    394\u001b[0m             \u001b[0;31m# A GUI class may be need to update a window using this draw, so\u001b[0m\u001b[0;34m\u001b[0m\u001b[0;34m\u001b[0m\u001b[0;34m\u001b[0m\u001b[0m\n\u001b[1;32m    395\u001b[0m             \u001b[0;31m# don't forget to call the superclass.\u001b[0m\u001b[0;34m\u001b[0m\u001b[0;34m\u001b[0m\u001b[0;34m\u001b[0m\u001b[0m\n",
            "\u001b[0;32m/usr/local/lib/python3.7/dist-packages/matplotlib/artist.py\u001b[0m in \u001b[0;36mdraw_wrapper\u001b[0;34m(artist, renderer, *args, **kwargs)\u001b[0m\n\u001b[1;32m     36\u001b[0m                 \u001b[0mrenderer\u001b[0m\u001b[0;34m.\u001b[0m\u001b[0mstart_filter\u001b[0m\u001b[0;34m(\u001b[0m\u001b[0;34m)\u001b[0m\u001b[0;34m\u001b[0m\u001b[0;34m\u001b[0m\u001b[0m\n\u001b[1;32m     37\u001b[0m \u001b[0;34m\u001b[0m\u001b[0m\n\u001b[0;32m---> 38\u001b[0;31m             \u001b[0;32mreturn\u001b[0m \u001b[0mdraw\u001b[0m\u001b[0;34m(\u001b[0m\u001b[0martist\u001b[0m\u001b[0;34m,\u001b[0m \u001b[0mrenderer\u001b[0m\u001b[0;34m,\u001b[0m \u001b[0;34m*\u001b[0m\u001b[0margs\u001b[0m\u001b[0;34m,\u001b[0m \u001b[0;34m**\u001b[0m\u001b[0mkwargs\u001b[0m\u001b[0;34m)\u001b[0m\u001b[0;34m\u001b[0m\u001b[0;34m\u001b[0m\u001b[0m\n\u001b[0m\u001b[1;32m     39\u001b[0m         \u001b[0;32mfinally\u001b[0m\u001b[0;34m:\u001b[0m\u001b[0;34m\u001b[0m\u001b[0;34m\u001b[0m\u001b[0m\n\u001b[1;32m     40\u001b[0m             \u001b[0;32mif\u001b[0m \u001b[0martist\u001b[0m\u001b[0;34m.\u001b[0m\u001b[0mget_agg_filter\u001b[0m\u001b[0;34m(\u001b[0m\u001b[0;34m)\u001b[0m \u001b[0;32mis\u001b[0m \u001b[0;32mnot\u001b[0m \u001b[0;32mNone\u001b[0m\u001b[0;34m:\u001b[0m\u001b[0;34m\u001b[0m\u001b[0;34m\u001b[0m\u001b[0m\n",
            "\u001b[0;32m/usr/local/lib/python3.7/dist-packages/matplotlib/figure.py\u001b[0m in \u001b[0;36mdraw\u001b[0;34m(self, renderer)\u001b[0m\n\u001b[1;32m   1734\u001b[0m             \u001b[0mself\u001b[0m\u001b[0;34m.\u001b[0m\u001b[0mpatch\u001b[0m\u001b[0;34m.\u001b[0m\u001b[0mdraw\u001b[0m\u001b[0;34m(\u001b[0m\u001b[0mrenderer\u001b[0m\u001b[0;34m)\u001b[0m\u001b[0;34m\u001b[0m\u001b[0;34m\u001b[0m\u001b[0m\n\u001b[1;32m   1735\u001b[0m             mimage._draw_list_compositing_images(\n\u001b[0;32m-> 1736\u001b[0;31m                 renderer, self, artists, self.suppressComposite)\n\u001b[0m\u001b[1;32m   1737\u001b[0m \u001b[0;34m\u001b[0m\u001b[0m\n\u001b[1;32m   1738\u001b[0m             \u001b[0mrenderer\u001b[0m\u001b[0;34m.\u001b[0m\u001b[0mclose_group\u001b[0m\u001b[0;34m(\u001b[0m\u001b[0;34m'figure'\u001b[0m\u001b[0;34m)\u001b[0m\u001b[0;34m\u001b[0m\u001b[0;34m\u001b[0m\u001b[0m\n",
            "\u001b[0;32m/usr/local/lib/python3.7/dist-packages/matplotlib/image.py\u001b[0m in \u001b[0;36m_draw_list_compositing_images\u001b[0;34m(renderer, parent, artists, suppress_composite)\u001b[0m\n\u001b[1;32m    135\u001b[0m     \u001b[0;32mif\u001b[0m \u001b[0mnot_composite\u001b[0m \u001b[0;32mor\u001b[0m \u001b[0;32mnot\u001b[0m \u001b[0mhas_images\u001b[0m\u001b[0;34m:\u001b[0m\u001b[0;34m\u001b[0m\u001b[0;34m\u001b[0m\u001b[0m\n\u001b[1;32m    136\u001b[0m         \u001b[0;32mfor\u001b[0m \u001b[0ma\u001b[0m \u001b[0;32min\u001b[0m \u001b[0martists\u001b[0m\u001b[0;34m:\u001b[0m\u001b[0;34m\u001b[0m\u001b[0;34m\u001b[0m\u001b[0m\n\u001b[0;32m--> 137\u001b[0;31m             \u001b[0ma\u001b[0m\u001b[0;34m.\u001b[0m\u001b[0mdraw\u001b[0m\u001b[0;34m(\u001b[0m\u001b[0mrenderer\u001b[0m\u001b[0;34m)\u001b[0m\u001b[0;34m\u001b[0m\u001b[0;34m\u001b[0m\u001b[0m\n\u001b[0m\u001b[1;32m    138\u001b[0m     \u001b[0;32melse\u001b[0m\u001b[0;34m:\u001b[0m\u001b[0;34m\u001b[0m\u001b[0;34m\u001b[0m\u001b[0m\n\u001b[1;32m    139\u001b[0m         \u001b[0;31m# Composite any adjacent images together\u001b[0m\u001b[0;34m\u001b[0m\u001b[0;34m\u001b[0m\u001b[0;34m\u001b[0m\u001b[0m\n",
            "\u001b[0;32m/usr/local/lib/python3.7/dist-packages/matplotlib/artist.py\u001b[0m in \u001b[0;36mdraw_wrapper\u001b[0;34m(artist, renderer, *args, **kwargs)\u001b[0m\n\u001b[1;32m     36\u001b[0m                 \u001b[0mrenderer\u001b[0m\u001b[0;34m.\u001b[0m\u001b[0mstart_filter\u001b[0m\u001b[0;34m(\u001b[0m\u001b[0;34m)\u001b[0m\u001b[0;34m\u001b[0m\u001b[0;34m\u001b[0m\u001b[0m\n\u001b[1;32m     37\u001b[0m \u001b[0;34m\u001b[0m\u001b[0m\n\u001b[0;32m---> 38\u001b[0;31m             \u001b[0;32mreturn\u001b[0m \u001b[0mdraw\u001b[0m\u001b[0;34m(\u001b[0m\u001b[0martist\u001b[0m\u001b[0;34m,\u001b[0m \u001b[0mrenderer\u001b[0m\u001b[0;34m,\u001b[0m \u001b[0;34m*\u001b[0m\u001b[0margs\u001b[0m\u001b[0;34m,\u001b[0m \u001b[0;34m**\u001b[0m\u001b[0mkwargs\u001b[0m\u001b[0;34m)\u001b[0m\u001b[0;34m\u001b[0m\u001b[0;34m\u001b[0m\u001b[0m\n\u001b[0m\u001b[1;32m     39\u001b[0m         \u001b[0;32mfinally\u001b[0m\u001b[0;34m:\u001b[0m\u001b[0;34m\u001b[0m\u001b[0;34m\u001b[0m\u001b[0m\n\u001b[1;32m     40\u001b[0m             \u001b[0;32mif\u001b[0m \u001b[0martist\u001b[0m\u001b[0;34m.\u001b[0m\u001b[0mget_agg_filter\u001b[0m\u001b[0;34m(\u001b[0m\u001b[0;34m)\u001b[0m \u001b[0;32mis\u001b[0m \u001b[0;32mnot\u001b[0m \u001b[0;32mNone\u001b[0m\u001b[0;34m:\u001b[0m\u001b[0;34m\u001b[0m\u001b[0;34m\u001b[0m\u001b[0m\n",
            "\u001b[0;32m/usr/local/lib/python3.7/dist-packages/matplotlib/axes/_base.py\u001b[0m in \u001b[0;36mdraw\u001b[0;34m(self, renderer, inframe)\u001b[0m\n\u001b[1;32m   2628\u001b[0m             \u001b[0mrenderer\u001b[0m\u001b[0;34m.\u001b[0m\u001b[0mstop_rasterizing\u001b[0m\u001b[0;34m(\u001b[0m\u001b[0;34m)\u001b[0m\u001b[0;34m\u001b[0m\u001b[0;34m\u001b[0m\u001b[0m\n\u001b[1;32m   2629\u001b[0m \u001b[0;34m\u001b[0m\u001b[0m\n\u001b[0;32m-> 2630\u001b[0;31m         \u001b[0mmimage\u001b[0m\u001b[0;34m.\u001b[0m\u001b[0m_draw_list_compositing_images\u001b[0m\u001b[0;34m(\u001b[0m\u001b[0mrenderer\u001b[0m\u001b[0;34m,\u001b[0m \u001b[0mself\u001b[0m\u001b[0;34m,\u001b[0m \u001b[0martists\u001b[0m\u001b[0;34m)\u001b[0m\u001b[0;34m\u001b[0m\u001b[0;34m\u001b[0m\u001b[0m\n\u001b[0m\u001b[1;32m   2631\u001b[0m \u001b[0;34m\u001b[0m\u001b[0m\n\u001b[1;32m   2632\u001b[0m         \u001b[0mrenderer\u001b[0m\u001b[0;34m.\u001b[0m\u001b[0mclose_group\u001b[0m\u001b[0;34m(\u001b[0m\u001b[0;34m'axes'\u001b[0m\u001b[0;34m)\u001b[0m\u001b[0;34m\u001b[0m\u001b[0;34m\u001b[0m\u001b[0m\n",
            "\u001b[0;32m/usr/local/lib/python3.7/dist-packages/matplotlib/image.py\u001b[0m in \u001b[0;36m_draw_list_compositing_images\u001b[0;34m(renderer, parent, artists, suppress_composite)\u001b[0m\n\u001b[1;32m    135\u001b[0m     \u001b[0;32mif\u001b[0m \u001b[0mnot_composite\u001b[0m \u001b[0;32mor\u001b[0m \u001b[0;32mnot\u001b[0m \u001b[0mhas_images\u001b[0m\u001b[0;34m:\u001b[0m\u001b[0;34m\u001b[0m\u001b[0;34m\u001b[0m\u001b[0m\n\u001b[1;32m    136\u001b[0m         \u001b[0;32mfor\u001b[0m \u001b[0ma\u001b[0m \u001b[0;32min\u001b[0m \u001b[0martists\u001b[0m\u001b[0;34m:\u001b[0m\u001b[0;34m\u001b[0m\u001b[0;34m\u001b[0m\u001b[0m\n\u001b[0;32m--> 137\u001b[0;31m             \u001b[0ma\u001b[0m\u001b[0;34m.\u001b[0m\u001b[0mdraw\u001b[0m\u001b[0;34m(\u001b[0m\u001b[0mrenderer\u001b[0m\u001b[0;34m)\u001b[0m\u001b[0;34m\u001b[0m\u001b[0;34m\u001b[0m\u001b[0m\n\u001b[0m\u001b[1;32m    138\u001b[0m     \u001b[0;32melse\u001b[0m\u001b[0;34m:\u001b[0m\u001b[0;34m\u001b[0m\u001b[0;34m\u001b[0m\u001b[0m\n\u001b[1;32m    139\u001b[0m         \u001b[0;31m# Composite any adjacent images together\u001b[0m\u001b[0;34m\u001b[0m\u001b[0;34m\u001b[0m\u001b[0;34m\u001b[0m\u001b[0m\n",
            "\u001b[0;32m/usr/local/lib/python3.7/dist-packages/matplotlib/artist.py\u001b[0m in \u001b[0;36mdraw_wrapper\u001b[0;34m(artist, renderer, *args, **kwargs)\u001b[0m\n\u001b[1;32m     36\u001b[0m                 \u001b[0mrenderer\u001b[0m\u001b[0;34m.\u001b[0m\u001b[0mstart_filter\u001b[0m\u001b[0;34m(\u001b[0m\u001b[0;34m)\u001b[0m\u001b[0;34m\u001b[0m\u001b[0;34m\u001b[0m\u001b[0m\n\u001b[1;32m     37\u001b[0m \u001b[0;34m\u001b[0m\u001b[0m\n\u001b[0;32m---> 38\u001b[0;31m             \u001b[0;32mreturn\u001b[0m \u001b[0mdraw\u001b[0m\u001b[0;34m(\u001b[0m\u001b[0martist\u001b[0m\u001b[0;34m,\u001b[0m \u001b[0mrenderer\u001b[0m\u001b[0;34m,\u001b[0m \u001b[0;34m*\u001b[0m\u001b[0margs\u001b[0m\u001b[0;34m,\u001b[0m \u001b[0;34m**\u001b[0m\u001b[0mkwargs\u001b[0m\u001b[0;34m)\u001b[0m\u001b[0;34m\u001b[0m\u001b[0;34m\u001b[0m\u001b[0m\n\u001b[0m\u001b[1;32m     39\u001b[0m         \u001b[0;32mfinally\u001b[0m\u001b[0;34m:\u001b[0m\u001b[0;34m\u001b[0m\u001b[0;34m\u001b[0m\u001b[0m\n\u001b[1;32m     40\u001b[0m             \u001b[0;32mif\u001b[0m \u001b[0martist\u001b[0m\u001b[0;34m.\u001b[0m\u001b[0mget_agg_filter\u001b[0m\u001b[0;34m(\u001b[0m\u001b[0;34m)\u001b[0m \u001b[0;32mis\u001b[0m \u001b[0;32mnot\u001b[0m \u001b[0;32mNone\u001b[0m\u001b[0;34m:\u001b[0m\u001b[0;34m\u001b[0m\u001b[0;34m\u001b[0m\u001b[0m\n",
            "\u001b[0;32m/usr/local/lib/python3.7/dist-packages/matplotlib/axis.py\u001b[0m in \u001b[0;36mdraw\u001b[0;34m(self, renderer, *args, **kwargs)\u001b[0m\n\u001b[1;32m   1227\u001b[0m         \u001b[0mticks_to_draw\u001b[0m \u001b[0;34m=\u001b[0m \u001b[0mself\u001b[0m\u001b[0;34m.\u001b[0m\u001b[0m_update_ticks\u001b[0m\u001b[0;34m(\u001b[0m\u001b[0;34m)\u001b[0m\u001b[0;34m\u001b[0m\u001b[0;34m\u001b[0m\u001b[0m\n\u001b[1;32m   1228\u001b[0m         ticklabelBoxes, ticklabelBoxes2 = self._get_tick_bboxes(ticks_to_draw,\n\u001b[0;32m-> 1229\u001b[0;31m                                                                 renderer)\n\u001b[0m\u001b[1;32m   1230\u001b[0m \u001b[0;34m\u001b[0m\u001b[0m\n\u001b[1;32m   1231\u001b[0m         \u001b[0;32mfor\u001b[0m \u001b[0mtick\u001b[0m \u001b[0;32min\u001b[0m \u001b[0mticks_to_draw\u001b[0m\u001b[0;34m:\u001b[0m\u001b[0;34m\u001b[0m\u001b[0;34m\u001b[0m\u001b[0m\n",
            "\u001b[0;32m/usr/local/lib/python3.7/dist-packages/matplotlib/axis.py\u001b[0m in \u001b[0;36m_get_tick_bboxes\u001b[0;34m(self, ticks, renderer)\u001b[0m\n\u001b[1;32m   1172\u001b[0m         \u001b[0;34m\"\"\"Return lists of bboxes for ticks' label1's and label2's.\"\"\"\u001b[0m\u001b[0;34m\u001b[0m\u001b[0;34m\u001b[0m\u001b[0m\n\u001b[1;32m   1173\u001b[0m         return ([tick.label1.get_window_extent(renderer)\n\u001b[0;32m-> 1174\u001b[0;31m                  for tick in ticks if tick.label1.get_visible()],\n\u001b[0m\u001b[1;32m   1175\u001b[0m                 [tick.label2.get_window_extent(renderer)\n\u001b[1;32m   1176\u001b[0m                  for tick in ticks if tick.label2.get_visible()])\n",
            "\u001b[0;32m/usr/local/lib/python3.7/dist-packages/matplotlib/axis.py\u001b[0m in \u001b[0;36m<listcomp>\u001b[0;34m(.0)\u001b[0m\n\u001b[1;32m   1172\u001b[0m         \u001b[0;34m\"\"\"Return lists of bboxes for ticks' label1's and label2's.\"\"\"\u001b[0m\u001b[0;34m\u001b[0m\u001b[0;34m\u001b[0m\u001b[0m\n\u001b[1;32m   1173\u001b[0m         return ([tick.label1.get_window_extent(renderer)\n\u001b[0;32m-> 1174\u001b[0;31m                  for tick in ticks if tick.label1.get_visible()],\n\u001b[0m\u001b[1;32m   1175\u001b[0m                 [tick.label2.get_window_extent(renderer)\n\u001b[1;32m   1176\u001b[0m                  for tick in ticks if tick.label2.get_visible()])\n",
            "\u001b[0;32m/usr/local/lib/python3.7/dist-packages/matplotlib/text.py\u001b[0m in \u001b[0;36mget_window_extent\u001b[0;34m(self, renderer, dpi)\u001b[0m\n\u001b[1;32m    906\u001b[0m         \u001b[0mx\u001b[0m\u001b[0;34m,\u001b[0m \u001b[0my\u001b[0m \u001b[0;34m=\u001b[0m \u001b[0mself\u001b[0m\u001b[0;34m.\u001b[0m\u001b[0mget_unitless_position\u001b[0m\u001b[0;34m(\u001b[0m\u001b[0;34m)\u001b[0m\u001b[0;34m\u001b[0m\u001b[0;34m\u001b[0m\u001b[0m\n\u001b[1;32m    907\u001b[0m         \u001b[0mx\u001b[0m\u001b[0;34m,\u001b[0m \u001b[0my\u001b[0m \u001b[0;34m=\u001b[0m \u001b[0mself\u001b[0m\u001b[0;34m.\u001b[0m\u001b[0mget_transform\u001b[0m\u001b[0;34m(\u001b[0m\u001b[0;34m)\u001b[0m\u001b[0;34m.\u001b[0m\u001b[0mtransform\u001b[0m\u001b[0;34m(\u001b[0m\u001b[0;34m(\u001b[0m\u001b[0mx\u001b[0m\u001b[0;34m,\u001b[0m \u001b[0my\u001b[0m\u001b[0;34m)\u001b[0m\u001b[0;34m)\u001b[0m\u001b[0;34m\u001b[0m\u001b[0;34m\u001b[0m\u001b[0m\n\u001b[0;32m--> 908\u001b[0;31m         \u001b[0mbbox\u001b[0m \u001b[0;34m=\u001b[0m \u001b[0mbbox\u001b[0m\u001b[0;34m.\u001b[0m\u001b[0mtranslated\u001b[0m\u001b[0;34m(\u001b[0m\u001b[0mx\u001b[0m\u001b[0;34m,\u001b[0m \u001b[0my\u001b[0m\u001b[0;34m)\u001b[0m\u001b[0;34m\u001b[0m\u001b[0;34m\u001b[0m\u001b[0m\n\u001b[0m\u001b[1;32m    909\u001b[0m         \u001b[0;32mif\u001b[0m \u001b[0mdpi\u001b[0m \u001b[0;32mis\u001b[0m \u001b[0;32mnot\u001b[0m \u001b[0;32mNone\u001b[0m\u001b[0;34m:\u001b[0m\u001b[0;34m\u001b[0m\u001b[0;34m\u001b[0m\u001b[0m\n\u001b[1;32m    910\u001b[0m             \u001b[0mself\u001b[0m\u001b[0;34m.\u001b[0m\u001b[0mfigure\u001b[0m\u001b[0;34m.\u001b[0m\u001b[0mdpi\u001b[0m \u001b[0;34m=\u001b[0m \u001b[0mdpi_orig\u001b[0m\u001b[0;34m\u001b[0m\u001b[0;34m\u001b[0m\u001b[0m\n",
            "\u001b[0;32m/usr/local/lib/python3.7/dist-packages/matplotlib/transforms.py\u001b[0m in \u001b[0;36mtranslated\u001b[0;34m(self, tx, ty)\u001b[0m\n\u001b[1;32m    669\u001b[0m     \u001b[0;32mdef\u001b[0m \u001b[0mtranslated\u001b[0m\u001b[0;34m(\u001b[0m\u001b[0mself\u001b[0m\u001b[0;34m,\u001b[0m \u001b[0mtx\u001b[0m\u001b[0;34m,\u001b[0m \u001b[0mty\u001b[0m\u001b[0;34m)\u001b[0m\u001b[0;34m:\u001b[0m\u001b[0;34m\u001b[0m\u001b[0;34m\u001b[0m\u001b[0m\n\u001b[1;32m    670\u001b[0m         \u001b[0;34m\"\"\"Construct a `Bbox` by translating this one by *tx* and *ty*.\"\"\"\u001b[0m\u001b[0;34m\u001b[0m\u001b[0;34m\u001b[0m\u001b[0m\n\u001b[0;32m--> 671\u001b[0;31m         \u001b[0;32mreturn\u001b[0m \u001b[0mBbox\u001b[0m\u001b[0;34m(\u001b[0m\u001b[0mself\u001b[0m\u001b[0;34m.\u001b[0m\u001b[0m_points\u001b[0m \u001b[0;34m+\u001b[0m \u001b[0;34m(\u001b[0m\u001b[0mtx\u001b[0m\u001b[0;34m,\u001b[0m \u001b[0mty\u001b[0m\u001b[0;34m)\u001b[0m\u001b[0;34m)\u001b[0m\u001b[0;34m\u001b[0m\u001b[0;34m\u001b[0m\u001b[0m\n\u001b[0m\u001b[1;32m    672\u001b[0m \u001b[0;34m\u001b[0m\u001b[0m\n\u001b[1;32m    673\u001b[0m     \u001b[0;32mdef\u001b[0m \u001b[0mcorners\u001b[0m\u001b[0;34m(\u001b[0m\u001b[0mself\u001b[0m\u001b[0;34m)\u001b[0m\u001b[0;34m:\u001b[0m\u001b[0;34m\u001b[0m\u001b[0;34m\u001b[0m\u001b[0m\n",
            "\u001b[0;32m/usr/local/lib/python3.7/dist-packages/matplotlib/transforms.py\u001b[0m in \u001b[0;36m__init__\u001b[0;34m(self, points, **kwargs)\u001b[0m\n\u001b[1;32m    749\u001b[0m         \u001b[0;31m# default or has been mutated; we store the orig points to\u001b[0m\u001b[0;34m\u001b[0m\u001b[0;34m\u001b[0m\u001b[0;34m\u001b[0m\u001b[0m\n\u001b[1;32m    750\u001b[0m         \u001b[0;31m# support the mutated methods\u001b[0m\u001b[0;34m\u001b[0m\u001b[0;34m\u001b[0m\u001b[0;34m\u001b[0m\u001b[0m\n\u001b[0;32m--> 751\u001b[0;31m         \u001b[0mself\u001b[0m\u001b[0;34m.\u001b[0m\u001b[0m_points_orig\u001b[0m \u001b[0;34m=\u001b[0m \u001b[0mself\u001b[0m\u001b[0;34m.\u001b[0m\u001b[0m_points\u001b[0m\u001b[0;34m.\u001b[0m\u001b[0mcopy\u001b[0m\u001b[0;34m(\u001b[0m\u001b[0;34m)\u001b[0m\u001b[0;34m\u001b[0m\u001b[0;34m\u001b[0m\u001b[0m\n\u001b[0m\u001b[1;32m    752\u001b[0m     \u001b[0;32mif\u001b[0m \u001b[0mDEBUG\u001b[0m\u001b[0;34m:\u001b[0m\u001b[0;34m\u001b[0m\u001b[0;34m\u001b[0m\u001b[0m\n\u001b[1;32m    753\u001b[0m         \u001b[0m___init__\u001b[0m \u001b[0;34m=\u001b[0m \u001b[0m__init__\u001b[0m\u001b[0;34m\u001b[0m\u001b[0;34m\u001b[0m\u001b[0m\n",
            "\u001b[0;31mKeyboardInterrupt\u001b[0m: "
          ]
        },
        {
          "output_type": "stream",
          "name": "stdout",
          "text": [
            "Error in callback <function flush_figures at 0x7f2a6b283440> (for post_execute):\n"
          ]
        },
        {
          "output_type": "error",
          "ename": "KeyboardInterrupt",
          "evalue": "ignored",
          "traceback": [
            "\u001b[0;31m---------------------------------------------------------------------------\u001b[0m",
            "\u001b[0;31mKeyboardInterrupt\u001b[0m                         Traceback (most recent call last)",
            "\u001b[0;32m/usr/local/lib/python3.7/dist-packages/ipykernel/pylab/backend_inline.py\u001b[0m in \u001b[0;36mflush_figures\u001b[0;34m()\u001b[0m\n\u001b[1;32m    115\u001b[0m         \u001b[0;31m# ignore the tracking, just draw and close all figures\u001b[0m\u001b[0;34m\u001b[0m\u001b[0;34m\u001b[0m\u001b[0;34m\u001b[0m\u001b[0m\n\u001b[1;32m    116\u001b[0m         \u001b[0;32mtry\u001b[0m\u001b[0;34m:\u001b[0m\u001b[0;34m\u001b[0m\u001b[0;34m\u001b[0m\u001b[0m\n\u001b[0;32m--> 117\u001b[0;31m             \u001b[0;32mreturn\u001b[0m \u001b[0mshow\u001b[0m\u001b[0;34m(\u001b[0m\u001b[0;32mTrue\u001b[0m\u001b[0;34m)\u001b[0m\u001b[0;34m\u001b[0m\u001b[0;34m\u001b[0m\u001b[0m\n\u001b[0m\u001b[1;32m    118\u001b[0m         \u001b[0;32mexcept\u001b[0m \u001b[0mException\u001b[0m \u001b[0;32mas\u001b[0m \u001b[0me\u001b[0m\u001b[0;34m:\u001b[0m\u001b[0;34m\u001b[0m\u001b[0;34m\u001b[0m\u001b[0m\n\u001b[1;32m    119\u001b[0m             \u001b[0;31m# safely show traceback if in IPython, else raise\u001b[0m\u001b[0;34m\u001b[0m\u001b[0;34m\u001b[0m\u001b[0;34m\u001b[0m\u001b[0m\n",
            "\u001b[0;32m/usr/local/lib/python3.7/dist-packages/ipykernel/pylab/backend_inline.py\u001b[0m in \u001b[0;36mshow\u001b[0;34m(close, block)\u001b[0m\n\u001b[1;32m     37\u001b[0m             display(\n\u001b[1;32m     38\u001b[0m                 \u001b[0mfigure_manager\u001b[0m\u001b[0;34m.\u001b[0m\u001b[0mcanvas\u001b[0m\u001b[0;34m.\u001b[0m\u001b[0mfigure\u001b[0m\u001b[0;34m,\u001b[0m\u001b[0;34m\u001b[0m\u001b[0;34m\u001b[0m\u001b[0m\n\u001b[0;32m---> 39\u001b[0;31m                 \u001b[0mmetadata\u001b[0m\u001b[0;34m=\u001b[0m\u001b[0m_fetch_figure_metadata\u001b[0m\u001b[0;34m(\u001b[0m\u001b[0mfigure_manager\u001b[0m\u001b[0;34m.\u001b[0m\u001b[0mcanvas\u001b[0m\u001b[0;34m.\u001b[0m\u001b[0mfigure\u001b[0m\u001b[0;34m)\u001b[0m\u001b[0;34m\u001b[0m\u001b[0;34m\u001b[0m\u001b[0m\n\u001b[0m\u001b[1;32m     40\u001b[0m             )\n\u001b[1;32m     41\u001b[0m     \u001b[0;32mfinally\u001b[0m\u001b[0;34m:\u001b[0m\u001b[0;34m\u001b[0m\u001b[0;34m\u001b[0m\u001b[0m\n",
            "\u001b[0;32m/usr/local/lib/python3.7/dist-packages/IPython/core/display.py\u001b[0m in \u001b[0;36mdisplay\u001b[0;34m(*objs, **kwargs)\u001b[0m\n\u001b[1;32m    304\u001b[0m             \u001b[0mpublish_display_data\u001b[0m\u001b[0;34m(\u001b[0m\u001b[0mdata\u001b[0m\u001b[0;34m=\u001b[0m\u001b[0mobj\u001b[0m\u001b[0;34m,\u001b[0m \u001b[0mmetadata\u001b[0m\u001b[0;34m=\u001b[0m\u001b[0mmetadata\u001b[0m\u001b[0;34m,\u001b[0m \u001b[0;34m**\u001b[0m\u001b[0mkwargs\u001b[0m\u001b[0;34m)\u001b[0m\u001b[0;34m\u001b[0m\u001b[0;34m\u001b[0m\u001b[0m\n\u001b[1;32m    305\u001b[0m         \u001b[0;32melse\u001b[0m\u001b[0;34m:\u001b[0m\u001b[0;34m\u001b[0m\u001b[0;34m\u001b[0m\u001b[0m\n\u001b[0;32m--> 306\u001b[0;31m             \u001b[0mformat_dict\u001b[0m\u001b[0;34m,\u001b[0m \u001b[0mmd_dict\u001b[0m \u001b[0;34m=\u001b[0m \u001b[0mformat\u001b[0m\u001b[0;34m(\u001b[0m\u001b[0mobj\u001b[0m\u001b[0;34m,\u001b[0m \u001b[0minclude\u001b[0m\u001b[0;34m=\u001b[0m\u001b[0minclude\u001b[0m\u001b[0;34m,\u001b[0m \u001b[0mexclude\u001b[0m\u001b[0;34m=\u001b[0m\u001b[0mexclude\u001b[0m\u001b[0;34m)\u001b[0m\u001b[0;34m\u001b[0m\u001b[0;34m\u001b[0m\u001b[0m\n\u001b[0m\u001b[1;32m    307\u001b[0m             \u001b[0;32mif\u001b[0m \u001b[0;32mnot\u001b[0m \u001b[0mformat_dict\u001b[0m\u001b[0;34m:\u001b[0m\u001b[0;34m\u001b[0m\u001b[0;34m\u001b[0m\u001b[0m\n\u001b[1;32m    308\u001b[0m                 \u001b[0;31m# nothing to display (e.g. _ipython_display_ took over)\u001b[0m\u001b[0;34m\u001b[0m\u001b[0;34m\u001b[0m\u001b[0;34m\u001b[0m\u001b[0m\n",
            "\u001b[0;32m/usr/local/lib/python3.7/dist-packages/IPython/core/formatters.py\u001b[0m in \u001b[0;36mformat\u001b[0;34m(self, obj, include, exclude)\u001b[0m\n\u001b[1;32m    171\u001b[0m             \u001b[0mmd\u001b[0m \u001b[0;34m=\u001b[0m \u001b[0;32mNone\u001b[0m\u001b[0;34m\u001b[0m\u001b[0;34m\u001b[0m\u001b[0m\n\u001b[1;32m    172\u001b[0m             \u001b[0;32mtry\u001b[0m\u001b[0;34m:\u001b[0m\u001b[0;34m\u001b[0m\u001b[0;34m\u001b[0m\u001b[0m\n\u001b[0;32m--> 173\u001b[0;31m                 \u001b[0mdata\u001b[0m \u001b[0;34m=\u001b[0m \u001b[0mformatter\u001b[0m\u001b[0;34m(\u001b[0m\u001b[0mobj\u001b[0m\u001b[0;34m)\u001b[0m\u001b[0;34m\u001b[0m\u001b[0;34m\u001b[0m\u001b[0m\n\u001b[0m\u001b[1;32m    174\u001b[0m             \u001b[0;32mexcept\u001b[0m\u001b[0;34m:\u001b[0m\u001b[0;34m\u001b[0m\u001b[0;34m\u001b[0m\u001b[0m\n\u001b[1;32m    175\u001b[0m                 \u001b[0;31m# FIXME: log the exception\u001b[0m\u001b[0;34m\u001b[0m\u001b[0;34m\u001b[0m\u001b[0;34m\u001b[0m\u001b[0m\n",
            "\u001b[0;32m<decorator-gen-2>\u001b[0m in \u001b[0;36m__call__\u001b[0;34m(self, obj)\u001b[0m\n",
            "\u001b[0;32m/usr/local/lib/python3.7/dist-packages/IPython/core/formatters.py\u001b[0m in \u001b[0;36mcatch_format_error\u001b[0;34m(method, self, *args, **kwargs)\u001b[0m\n\u001b[1;32m    215\u001b[0m     \u001b[0;34m\"\"\"show traceback on failed format call\"\"\"\u001b[0m\u001b[0;34m\u001b[0m\u001b[0;34m\u001b[0m\u001b[0m\n\u001b[1;32m    216\u001b[0m     \u001b[0;32mtry\u001b[0m\u001b[0;34m:\u001b[0m\u001b[0;34m\u001b[0m\u001b[0;34m\u001b[0m\u001b[0m\n\u001b[0;32m--> 217\u001b[0;31m         \u001b[0mr\u001b[0m \u001b[0;34m=\u001b[0m \u001b[0mmethod\u001b[0m\u001b[0;34m(\u001b[0m\u001b[0mself\u001b[0m\u001b[0;34m,\u001b[0m \u001b[0;34m*\u001b[0m\u001b[0margs\u001b[0m\u001b[0;34m,\u001b[0m \u001b[0;34m**\u001b[0m\u001b[0mkwargs\u001b[0m\u001b[0;34m)\u001b[0m\u001b[0;34m\u001b[0m\u001b[0;34m\u001b[0m\u001b[0m\n\u001b[0m\u001b[1;32m    218\u001b[0m     \u001b[0;32mexcept\u001b[0m \u001b[0mNotImplementedError\u001b[0m\u001b[0;34m:\u001b[0m\u001b[0;34m\u001b[0m\u001b[0;34m\u001b[0m\u001b[0m\n\u001b[1;32m    219\u001b[0m         \u001b[0;31m# don't warn on NotImplementedErrors\u001b[0m\u001b[0;34m\u001b[0m\u001b[0;34m\u001b[0m\u001b[0;34m\u001b[0m\u001b[0m\n",
            "\u001b[0;32m/usr/local/lib/python3.7/dist-packages/IPython/core/formatters.py\u001b[0m in \u001b[0;36m__call__\u001b[0;34m(self, obj)\u001b[0m\n\u001b[1;32m    332\u001b[0m                 \u001b[0;32mpass\u001b[0m\u001b[0;34m\u001b[0m\u001b[0;34m\u001b[0m\u001b[0m\n\u001b[1;32m    333\u001b[0m             \u001b[0;32melse\u001b[0m\u001b[0;34m:\u001b[0m\u001b[0;34m\u001b[0m\u001b[0;34m\u001b[0m\u001b[0m\n\u001b[0;32m--> 334\u001b[0;31m                 \u001b[0;32mreturn\u001b[0m \u001b[0mprinter\u001b[0m\u001b[0;34m(\u001b[0m\u001b[0mobj\u001b[0m\u001b[0;34m)\u001b[0m\u001b[0;34m\u001b[0m\u001b[0;34m\u001b[0m\u001b[0m\n\u001b[0m\u001b[1;32m    335\u001b[0m             \u001b[0;31m# Finally look for special method names\u001b[0m\u001b[0;34m\u001b[0m\u001b[0;34m\u001b[0m\u001b[0;34m\u001b[0m\u001b[0m\n\u001b[1;32m    336\u001b[0m             \u001b[0mmethod\u001b[0m \u001b[0;34m=\u001b[0m \u001b[0mget_real_method\u001b[0m\u001b[0;34m(\u001b[0m\u001b[0mobj\u001b[0m\u001b[0;34m,\u001b[0m \u001b[0mself\u001b[0m\u001b[0;34m.\u001b[0m\u001b[0mprint_method\u001b[0m\u001b[0;34m)\u001b[0m\u001b[0;34m\u001b[0m\u001b[0;34m\u001b[0m\u001b[0m\n",
            "\u001b[0;32m/usr/local/lib/python3.7/dist-packages/IPython/core/pylabtools.py\u001b[0m in \u001b[0;36m<lambda>\u001b[0;34m(fig)\u001b[0m\n\u001b[1;32m    239\u001b[0m \u001b[0;34m\u001b[0m\u001b[0m\n\u001b[1;32m    240\u001b[0m     \u001b[0;32mif\u001b[0m \u001b[0;34m'png'\u001b[0m \u001b[0;32min\u001b[0m \u001b[0mformats\u001b[0m\u001b[0;34m:\u001b[0m\u001b[0;34m\u001b[0m\u001b[0;34m\u001b[0m\u001b[0m\n\u001b[0;32m--> 241\u001b[0;31m         \u001b[0mpng_formatter\u001b[0m\u001b[0;34m.\u001b[0m\u001b[0mfor_type\u001b[0m\u001b[0;34m(\u001b[0m\u001b[0mFigure\u001b[0m\u001b[0;34m,\u001b[0m \u001b[0;32mlambda\u001b[0m \u001b[0mfig\u001b[0m\u001b[0;34m:\u001b[0m \u001b[0mprint_figure\u001b[0m\u001b[0;34m(\u001b[0m\u001b[0mfig\u001b[0m\u001b[0;34m,\u001b[0m \u001b[0;34m'png'\u001b[0m\u001b[0;34m,\u001b[0m \u001b[0;34m**\u001b[0m\u001b[0mkwargs\u001b[0m\u001b[0;34m)\u001b[0m\u001b[0;34m)\u001b[0m\u001b[0;34m\u001b[0m\u001b[0;34m\u001b[0m\u001b[0m\n\u001b[0m\u001b[1;32m    242\u001b[0m     \u001b[0;32mif\u001b[0m \u001b[0;34m'retina'\u001b[0m \u001b[0;32min\u001b[0m \u001b[0mformats\u001b[0m \u001b[0;32mor\u001b[0m \u001b[0;34m'png2x'\u001b[0m \u001b[0;32min\u001b[0m \u001b[0mformats\u001b[0m\u001b[0;34m:\u001b[0m\u001b[0;34m\u001b[0m\u001b[0;34m\u001b[0m\u001b[0m\n\u001b[1;32m    243\u001b[0m         \u001b[0mpng_formatter\u001b[0m\u001b[0;34m.\u001b[0m\u001b[0mfor_type\u001b[0m\u001b[0;34m(\u001b[0m\u001b[0mFigure\u001b[0m\u001b[0;34m,\u001b[0m \u001b[0;32mlambda\u001b[0m \u001b[0mfig\u001b[0m\u001b[0;34m:\u001b[0m \u001b[0mretina_figure\u001b[0m\u001b[0;34m(\u001b[0m\u001b[0mfig\u001b[0m\u001b[0;34m,\u001b[0m \u001b[0;34m**\u001b[0m\u001b[0mkwargs\u001b[0m\u001b[0;34m)\u001b[0m\u001b[0;34m)\u001b[0m\u001b[0;34m\u001b[0m\u001b[0;34m\u001b[0m\u001b[0m\n",
            "\u001b[0;32m/usr/local/lib/python3.7/dist-packages/IPython/core/pylabtools.py\u001b[0m in \u001b[0;36mprint_figure\u001b[0;34m(fig, fmt, bbox_inches, **kwargs)\u001b[0m\n\u001b[1;32m    123\u001b[0m \u001b[0;34m\u001b[0m\u001b[0m\n\u001b[1;32m    124\u001b[0m     \u001b[0mbytes_io\u001b[0m \u001b[0;34m=\u001b[0m \u001b[0mBytesIO\u001b[0m\u001b[0;34m(\u001b[0m\u001b[0;34m)\u001b[0m\u001b[0;34m\u001b[0m\u001b[0;34m\u001b[0m\u001b[0m\n\u001b[0;32m--> 125\u001b[0;31m     \u001b[0mfig\u001b[0m\u001b[0;34m.\u001b[0m\u001b[0mcanvas\u001b[0m\u001b[0;34m.\u001b[0m\u001b[0mprint_figure\u001b[0m\u001b[0;34m(\u001b[0m\u001b[0mbytes_io\u001b[0m\u001b[0;34m,\u001b[0m \u001b[0;34m**\u001b[0m\u001b[0mkw\u001b[0m\u001b[0;34m)\u001b[0m\u001b[0;34m\u001b[0m\u001b[0;34m\u001b[0m\u001b[0m\n\u001b[0m\u001b[1;32m    126\u001b[0m     \u001b[0mdata\u001b[0m \u001b[0;34m=\u001b[0m \u001b[0mbytes_io\u001b[0m\u001b[0;34m.\u001b[0m\u001b[0mgetvalue\u001b[0m\u001b[0;34m(\u001b[0m\u001b[0;34m)\u001b[0m\u001b[0;34m\u001b[0m\u001b[0;34m\u001b[0m\u001b[0m\n\u001b[1;32m    127\u001b[0m     \u001b[0;32mif\u001b[0m \u001b[0mfmt\u001b[0m \u001b[0;34m==\u001b[0m \u001b[0;34m'svg'\u001b[0m\u001b[0;34m:\u001b[0m\u001b[0;34m\u001b[0m\u001b[0;34m\u001b[0m\u001b[0m\n",
            "\u001b[0;32m/usr/local/lib/python3.7/dist-packages/matplotlib/backend_bases.py\u001b[0m in \u001b[0;36mprint_figure\u001b[0;34m(self, filename, dpi, facecolor, edgecolor, orientation, format, bbox_inches, **kwargs)\u001b[0m\n\u001b[1;32m   2101\u001b[0m                     \u001b[0mbbox_artists\u001b[0m \u001b[0;34m=\u001b[0m \u001b[0mkwargs\u001b[0m\u001b[0;34m.\u001b[0m\u001b[0mpop\u001b[0m\u001b[0;34m(\u001b[0m\u001b[0;34m\"bbox_extra_artists\"\u001b[0m\u001b[0;34m,\u001b[0m \u001b[0;32mNone\u001b[0m\u001b[0;34m)\u001b[0m\u001b[0;34m\u001b[0m\u001b[0;34m\u001b[0m\u001b[0m\n\u001b[1;32m   2102\u001b[0m                     bbox_inches = self.figure.get_tightbbox(renderer,\n\u001b[0;32m-> 2103\u001b[0;31m                             bbox_extra_artists=bbox_artists)\n\u001b[0m\u001b[1;32m   2104\u001b[0m                     \u001b[0mpad\u001b[0m \u001b[0;34m=\u001b[0m \u001b[0mkwargs\u001b[0m\u001b[0;34m.\u001b[0m\u001b[0mpop\u001b[0m\u001b[0;34m(\u001b[0m\u001b[0;34m\"pad_inches\"\u001b[0m\u001b[0;34m,\u001b[0m \u001b[0;32mNone\u001b[0m\u001b[0;34m)\u001b[0m\u001b[0;34m\u001b[0m\u001b[0;34m\u001b[0m\u001b[0m\n\u001b[1;32m   2105\u001b[0m                     \u001b[0;32mif\u001b[0m \u001b[0mpad\u001b[0m \u001b[0;32mis\u001b[0m \u001b[0;32mNone\u001b[0m\u001b[0;34m:\u001b[0m\u001b[0;34m\u001b[0m\u001b[0;34m\u001b[0m\u001b[0m\n",
            "\u001b[0;32m/usr/local/lib/python3.7/dist-packages/matplotlib/figure.py\u001b[0m in \u001b[0;36mget_tightbbox\u001b[0;34m(self, renderer, bbox_extra_artists)\u001b[0m\n\u001b[1;32m   2383\u001b[0m \u001b[0;34m\u001b[0m\u001b[0m\n\u001b[1;32m   2384\u001b[0m         \u001b[0;32mfor\u001b[0m \u001b[0ma\u001b[0m \u001b[0;32min\u001b[0m \u001b[0martists\u001b[0m\u001b[0;34m:\u001b[0m\u001b[0;34m\u001b[0m\u001b[0;34m\u001b[0m\u001b[0m\n\u001b[0;32m-> 2385\u001b[0;31m             \u001b[0mbbox\u001b[0m \u001b[0;34m=\u001b[0m \u001b[0ma\u001b[0m\u001b[0;34m.\u001b[0m\u001b[0mget_tightbbox\u001b[0m\u001b[0;34m(\u001b[0m\u001b[0mrenderer\u001b[0m\u001b[0;34m)\u001b[0m\u001b[0;34m\u001b[0m\u001b[0;34m\u001b[0m\u001b[0m\n\u001b[0m\u001b[1;32m   2386\u001b[0m             \u001b[0;32mif\u001b[0m \u001b[0mbbox\u001b[0m \u001b[0;32mis\u001b[0m \u001b[0;32mnot\u001b[0m \u001b[0;32mNone\u001b[0m \u001b[0;32mand\u001b[0m \u001b[0;34m(\u001b[0m\u001b[0mbbox\u001b[0m\u001b[0;34m.\u001b[0m\u001b[0mwidth\u001b[0m \u001b[0;34m!=\u001b[0m \u001b[0;36m0\u001b[0m \u001b[0;32mor\u001b[0m \u001b[0mbbox\u001b[0m\u001b[0;34m.\u001b[0m\u001b[0mheight\u001b[0m \u001b[0;34m!=\u001b[0m \u001b[0;36m0\u001b[0m\u001b[0;34m)\u001b[0m\u001b[0;34m:\u001b[0m\u001b[0;34m\u001b[0m\u001b[0;34m\u001b[0m\u001b[0m\n\u001b[1;32m   2387\u001b[0m                 \u001b[0mbb\u001b[0m\u001b[0;34m.\u001b[0m\u001b[0mappend\u001b[0m\u001b[0;34m(\u001b[0m\u001b[0mbbox\u001b[0m\u001b[0;34m)\u001b[0m\u001b[0;34m\u001b[0m\u001b[0;34m\u001b[0m\u001b[0m\n",
            "\u001b[0;32m/usr/local/lib/python3.7/dist-packages/matplotlib/axes/_base.py\u001b[0m in \u001b[0;36mget_tightbbox\u001b[0;34m(self, renderer, call_axes_locator, bbox_extra_artists)\u001b[0m\n\u001b[1;32m   4321\u001b[0m \u001b[0;34m\u001b[0m\u001b[0m\n\u001b[1;32m   4322\u001b[0m         \u001b[0;32mif\u001b[0m \u001b[0mself\u001b[0m\u001b[0;34m.\u001b[0m\u001b[0maxison\u001b[0m\u001b[0;34m:\u001b[0m\u001b[0;34m\u001b[0m\u001b[0;34m\u001b[0m\u001b[0m\n\u001b[0;32m-> 4323\u001b[0;31m             \u001b[0mbb_xaxis\u001b[0m \u001b[0;34m=\u001b[0m \u001b[0mself\u001b[0m\u001b[0;34m.\u001b[0m\u001b[0mxaxis\u001b[0m\u001b[0;34m.\u001b[0m\u001b[0mget_tightbbox\u001b[0m\u001b[0;34m(\u001b[0m\u001b[0mrenderer\u001b[0m\u001b[0;34m)\u001b[0m\u001b[0;34m\u001b[0m\u001b[0;34m\u001b[0m\u001b[0m\n\u001b[0m\u001b[1;32m   4324\u001b[0m             \u001b[0;32mif\u001b[0m \u001b[0mbb_xaxis\u001b[0m\u001b[0;34m:\u001b[0m\u001b[0;34m\u001b[0m\u001b[0;34m\u001b[0m\u001b[0m\n\u001b[1;32m   4325\u001b[0m                 \u001b[0mbb\u001b[0m\u001b[0;34m.\u001b[0m\u001b[0mappend\u001b[0m\u001b[0;34m(\u001b[0m\u001b[0mbb_xaxis\u001b[0m\u001b[0;34m)\u001b[0m\u001b[0;34m\u001b[0m\u001b[0;34m\u001b[0m\u001b[0m\n",
            "\u001b[0;32m/usr/local/lib/python3.7/dist-packages/matplotlib/axis.py\u001b[0m in \u001b[0;36mget_tightbbox\u001b[0;34m(self, renderer)\u001b[0m\n\u001b[1;32m   1186\u001b[0m         \u001b[0mticks_to_draw\u001b[0m \u001b[0;34m=\u001b[0m \u001b[0mself\u001b[0m\u001b[0;34m.\u001b[0m\u001b[0m_update_ticks\u001b[0m\u001b[0;34m(\u001b[0m\u001b[0;34m)\u001b[0m\u001b[0;34m\u001b[0m\u001b[0;34m\u001b[0m\u001b[0m\n\u001b[1;32m   1187\u001b[0m \u001b[0;34m\u001b[0m\u001b[0m\n\u001b[0;32m-> 1188\u001b[0;31m         \u001b[0mself\u001b[0m\u001b[0;34m.\u001b[0m\u001b[0m_update_label_position\u001b[0m\u001b[0;34m(\u001b[0m\u001b[0mrenderer\u001b[0m\u001b[0;34m)\u001b[0m\u001b[0;34m\u001b[0m\u001b[0;34m\u001b[0m\u001b[0m\n\u001b[0m\u001b[1;32m   1189\u001b[0m \u001b[0;34m\u001b[0m\u001b[0m\n\u001b[1;32m   1190\u001b[0m         \u001b[0;31m# go back to just this axis's tick labels\u001b[0m\u001b[0;34m\u001b[0m\u001b[0;34m\u001b[0m\u001b[0;34m\u001b[0m\u001b[0m\n",
            "\u001b[0;32m/usr/local/lib/python3.7/dist-packages/matplotlib/axis.py\u001b[0m in \u001b[0;36m_update_label_position\u001b[0;34m(self, renderer)\u001b[0m\n\u001b[1;32m   2019\u001b[0m         \u001b[0;31m# get bounding boxes for this axis and any siblings\u001b[0m\u001b[0;34m\u001b[0m\u001b[0;34m\u001b[0m\u001b[0;34m\u001b[0m\u001b[0m\n\u001b[1;32m   2020\u001b[0m         \u001b[0;31m# that have been set by `fig.align_xlabels()`\u001b[0m\u001b[0;34m\u001b[0m\u001b[0;34m\u001b[0m\u001b[0;34m\u001b[0m\u001b[0m\n\u001b[0;32m-> 2021\u001b[0;31m         \u001b[0mbboxes\u001b[0m\u001b[0;34m,\u001b[0m \u001b[0mbboxes2\u001b[0m \u001b[0;34m=\u001b[0m \u001b[0mself\u001b[0m\u001b[0;34m.\u001b[0m\u001b[0m_get_tick_boxes_siblings\u001b[0m\u001b[0;34m(\u001b[0m\u001b[0mrenderer\u001b[0m\u001b[0;34m=\u001b[0m\u001b[0mrenderer\u001b[0m\u001b[0;34m)\u001b[0m\u001b[0;34m\u001b[0m\u001b[0;34m\u001b[0m\u001b[0m\n\u001b[0m\u001b[1;32m   2022\u001b[0m \u001b[0;34m\u001b[0m\u001b[0m\n\u001b[1;32m   2023\u001b[0m         \u001b[0mx\u001b[0m\u001b[0;34m,\u001b[0m \u001b[0my\u001b[0m \u001b[0;34m=\u001b[0m \u001b[0mself\u001b[0m\u001b[0;34m.\u001b[0m\u001b[0mlabel\u001b[0m\u001b[0;34m.\u001b[0m\u001b[0mget_position\u001b[0m\u001b[0;34m(\u001b[0m\u001b[0;34m)\u001b[0m\u001b[0;34m\u001b[0m\u001b[0;34m\u001b[0m\u001b[0m\n",
            "\u001b[0;32m/usr/local/lib/python3.7/dist-packages/matplotlib/axis.py\u001b[0m in \u001b[0;36m_get_tick_boxes_siblings\u001b[0;34m(self, renderer)\u001b[0m\n\u001b[1;32m   2004\u001b[0m         \u001b[0;32mfor\u001b[0m \u001b[0mnn\u001b[0m\u001b[0;34m,\u001b[0m \u001b[0maxx\u001b[0m \u001b[0;32min\u001b[0m \u001b[0menumerate\u001b[0m\u001b[0;34m(\u001b[0m\u001b[0mgrp\u001b[0m\u001b[0;34m.\u001b[0m\u001b[0mget_siblings\u001b[0m\u001b[0;34m(\u001b[0m\u001b[0mself\u001b[0m\u001b[0;34m.\u001b[0m\u001b[0maxes\u001b[0m\u001b[0;34m)\u001b[0m\u001b[0;34m)\u001b[0m\u001b[0;34m:\u001b[0m\u001b[0;34m\u001b[0m\u001b[0;34m\u001b[0m\u001b[0m\n\u001b[1;32m   2005\u001b[0m             \u001b[0mticks_to_draw\u001b[0m \u001b[0;34m=\u001b[0m \u001b[0maxx\u001b[0m\u001b[0;34m.\u001b[0m\u001b[0mxaxis\u001b[0m\u001b[0;34m.\u001b[0m\u001b[0m_update_ticks\u001b[0m\u001b[0;34m(\u001b[0m\u001b[0;34m)\u001b[0m\u001b[0;34m\u001b[0m\u001b[0;34m\u001b[0m\u001b[0m\n\u001b[0;32m-> 2006\u001b[0;31m             \u001b[0mtlb\u001b[0m\u001b[0;34m,\u001b[0m \u001b[0mtlb2\u001b[0m \u001b[0;34m=\u001b[0m \u001b[0maxx\u001b[0m\u001b[0;34m.\u001b[0m\u001b[0mxaxis\u001b[0m\u001b[0;34m.\u001b[0m\u001b[0m_get_tick_bboxes\u001b[0m\u001b[0;34m(\u001b[0m\u001b[0mticks_to_draw\u001b[0m\u001b[0;34m,\u001b[0m \u001b[0mrenderer\u001b[0m\u001b[0;34m)\u001b[0m\u001b[0;34m\u001b[0m\u001b[0;34m\u001b[0m\u001b[0m\n\u001b[0m\u001b[1;32m   2007\u001b[0m             \u001b[0mbboxes\u001b[0m\u001b[0;34m.\u001b[0m\u001b[0mextend\u001b[0m\u001b[0;34m(\u001b[0m\u001b[0mtlb\u001b[0m\u001b[0;34m)\u001b[0m\u001b[0;34m\u001b[0m\u001b[0;34m\u001b[0m\u001b[0m\n\u001b[1;32m   2008\u001b[0m             \u001b[0mbboxes2\u001b[0m\u001b[0;34m.\u001b[0m\u001b[0mextend\u001b[0m\u001b[0;34m(\u001b[0m\u001b[0mtlb2\u001b[0m\u001b[0;34m)\u001b[0m\u001b[0;34m\u001b[0m\u001b[0;34m\u001b[0m\u001b[0m\n",
            "\u001b[0;32m/usr/local/lib/python3.7/dist-packages/matplotlib/axis.py\u001b[0m in \u001b[0;36m_get_tick_bboxes\u001b[0;34m(self, ticks, renderer)\u001b[0m\n\u001b[1;32m   1172\u001b[0m         \u001b[0;34m\"\"\"Return lists of bboxes for ticks' label1's and label2's.\"\"\"\u001b[0m\u001b[0;34m\u001b[0m\u001b[0;34m\u001b[0m\u001b[0m\n\u001b[1;32m   1173\u001b[0m         return ([tick.label1.get_window_extent(renderer)\n\u001b[0;32m-> 1174\u001b[0;31m                  for tick in ticks if tick.label1.get_visible()],\n\u001b[0m\u001b[1;32m   1175\u001b[0m                 [tick.label2.get_window_extent(renderer)\n\u001b[1;32m   1176\u001b[0m                  for tick in ticks if tick.label2.get_visible()])\n",
            "\u001b[0;32m/usr/local/lib/python3.7/dist-packages/matplotlib/axis.py\u001b[0m in \u001b[0;36m<listcomp>\u001b[0;34m(.0)\u001b[0m\n\u001b[1;32m   1172\u001b[0m         \u001b[0;34m\"\"\"Return lists of bboxes for ticks' label1's and label2's.\"\"\"\u001b[0m\u001b[0;34m\u001b[0m\u001b[0;34m\u001b[0m\u001b[0m\n\u001b[1;32m   1173\u001b[0m         return ([tick.label1.get_window_extent(renderer)\n\u001b[0;32m-> 1174\u001b[0;31m                  for tick in ticks if tick.label1.get_visible()],\n\u001b[0m\u001b[1;32m   1175\u001b[0m                 [tick.label2.get_window_extent(renderer)\n\u001b[1;32m   1176\u001b[0m                  for tick in ticks if tick.label2.get_visible()])\n",
            "\u001b[0;32m/usr/local/lib/python3.7/dist-packages/matplotlib/text.py\u001b[0m in \u001b[0;36mget_window_extent\u001b[0;34m(self, renderer, dpi)\u001b[0m\n\u001b[1;32m    903\u001b[0m             \u001b[0;32mraise\u001b[0m \u001b[0mRuntimeError\u001b[0m\u001b[0;34m(\u001b[0m\u001b[0;34m'Cannot get window extent w/o renderer'\u001b[0m\u001b[0;34m)\u001b[0m\u001b[0;34m\u001b[0m\u001b[0;34m\u001b[0m\u001b[0m\n\u001b[1;32m    904\u001b[0m \u001b[0;34m\u001b[0m\u001b[0m\n\u001b[0;32m--> 905\u001b[0;31m         \u001b[0mbbox\u001b[0m\u001b[0;34m,\u001b[0m \u001b[0minfo\u001b[0m\u001b[0;34m,\u001b[0m \u001b[0mdescent\u001b[0m \u001b[0;34m=\u001b[0m \u001b[0mself\u001b[0m\u001b[0;34m.\u001b[0m\u001b[0m_get_layout\u001b[0m\u001b[0;34m(\u001b[0m\u001b[0mself\u001b[0m\u001b[0;34m.\u001b[0m\u001b[0m_renderer\u001b[0m\u001b[0;34m)\u001b[0m\u001b[0;34m\u001b[0m\u001b[0;34m\u001b[0m\u001b[0m\n\u001b[0m\u001b[1;32m    906\u001b[0m         \u001b[0mx\u001b[0m\u001b[0;34m,\u001b[0m \u001b[0my\u001b[0m \u001b[0;34m=\u001b[0m \u001b[0mself\u001b[0m\u001b[0;34m.\u001b[0m\u001b[0mget_unitless_position\u001b[0m\u001b[0;34m(\u001b[0m\u001b[0;34m)\u001b[0m\u001b[0;34m\u001b[0m\u001b[0;34m\u001b[0m\u001b[0m\n\u001b[1;32m    907\u001b[0m         \u001b[0mx\u001b[0m\u001b[0;34m,\u001b[0m \u001b[0my\u001b[0m \u001b[0;34m=\u001b[0m \u001b[0mself\u001b[0m\u001b[0;34m.\u001b[0m\u001b[0mget_transform\u001b[0m\u001b[0;34m(\u001b[0m\u001b[0;34m)\u001b[0m\u001b[0;34m.\u001b[0m\u001b[0mtransform\u001b[0m\u001b[0;34m(\u001b[0m\u001b[0;34m(\u001b[0m\u001b[0mx\u001b[0m\u001b[0;34m,\u001b[0m \u001b[0my\u001b[0m\u001b[0;34m)\u001b[0m\u001b[0;34m)\u001b[0m\u001b[0;34m\u001b[0m\u001b[0;34m\u001b[0m\u001b[0m\n",
            "\u001b[0;32m/usr/local/lib/python3.7/dist-packages/matplotlib/text.py\u001b[0m in \u001b[0;36m_get_layout\u001b[0;34m(self, renderer)\u001b[0m\n\u001b[1;32m    298\u001b[0m             \u001b[0;32mif\u001b[0m \u001b[0mclean_line\u001b[0m\u001b[0;34m:\u001b[0m\u001b[0;34m\u001b[0m\u001b[0;34m\u001b[0m\u001b[0m\n\u001b[1;32m    299\u001b[0m                 w, h, d = renderer.get_text_width_height_descent(\n\u001b[0;32m--> 300\u001b[0;31m                     clean_line, self._fontproperties, ismath=ismath)\n\u001b[0m\u001b[1;32m    301\u001b[0m             \u001b[0;32melse\u001b[0m\u001b[0;34m:\u001b[0m\u001b[0;34m\u001b[0m\u001b[0;34m\u001b[0m\u001b[0m\n\u001b[1;32m    302\u001b[0m                 \u001b[0mw\u001b[0m \u001b[0;34m=\u001b[0m \u001b[0mh\u001b[0m \u001b[0;34m=\u001b[0m \u001b[0md\u001b[0m \u001b[0;34m=\u001b[0m \u001b[0;36m0\u001b[0m\u001b[0;34m\u001b[0m\u001b[0;34m\u001b[0m\u001b[0m\n",
            "\u001b[0;32m/usr/local/lib/python3.7/dist-packages/matplotlib/backends/backend_agg.py\u001b[0m in \u001b[0;36mget_text_width_height_descent\u001b[0;34m(self, s, prop, ismath)\u001b[0m\n\u001b[1;32m    212\u001b[0m         \u001b[0mflags\u001b[0m \u001b[0;34m=\u001b[0m \u001b[0mget_hinting_flag\u001b[0m\u001b[0;34m(\u001b[0m\u001b[0;34m)\u001b[0m\u001b[0;34m\u001b[0m\u001b[0;34m\u001b[0m\u001b[0m\n\u001b[1;32m    213\u001b[0m         \u001b[0mfont\u001b[0m \u001b[0;34m=\u001b[0m \u001b[0mself\u001b[0m\u001b[0;34m.\u001b[0m\u001b[0m_get_agg_font\u001b[0m\u001b[0;34m(\u001b[0m\u001b[0mprop\u001b[0m\u001b[0;34m)\u001b[0m\u001b[0;34m\u001b[0m\u001b[0;34m\u001b[0m\u001b[0m\n\u001b[0;32m--> 214\u001b[0;31m         \u001b[0mfont\u001b[0m\u001b[0;34m.\u001b[0m\u001b[0mset_text\u001b[0m\u001b[0;34m(\u001b[0m\u001b[0ms\u001b[0m\u001b[0;34m,\u001b[0m \u001b[0;36m0.0\u001b[0m\u001b[0;34m,\u001b[0m \u001b[0mflags\u001b[0m\u001b[0;34m=\u001b[0m\u001b[0mflags\u001b[0m\u001b[0;34m)\u001b[0m\u001b[0;34m\u001b[0m\u001b[0;34m\u001b[0m\u001b[0m\n\u001b[0m\u001b[1;32m    215\u001b[0m         \u001b[0mw\u001b[0m\u001b[0;34m,\u001b[0m \u001b[0mh\u001b[0m \u001b[0;34m=\u001b[0m \u001b[0mfont\u001b[0m\u001b[0;34m.\u001b[0m\u001b[0mget_width_height\u001b[0m\u001b[0;34m(\u001b[0m\u001b[0;34m)\u001b[0m  \u001b[0;31m# width and height of unrotated string\u001b[0m\u001b[0;34m\u001b[0m\u001b[0;34m\u001b[0m\u001b[0m\n\u001b[1;32m    216\u001b[0m         \u001b[0md\u001b[0m \u001b[0;34m=\u001b[0m \u001b[0mfont\u001b[0m\u001b[0;34m.\u001b[0m\u001b[0mget_descent\u001b[0m\u001b[0;34m(\u001b[0m\u001b[0;34m)\u001b[0m\u001b[0;34m\u001b[0m\u001b[0;34m\u001b[0m\u001b[0m\n",
            "\u001b[0;31mKeyboardInterrupt\u001b[0m: "
          ]
        }
      ]
    },
    {
      "cell_type": "code",
      "metadata": {
        "id": "W7Q06xoGsfna",
        "colab": {
          "base_uri": "https://localhost:8080/",
          "height": 483
        },
        "outputId": "276e3e27-5f40-4f74-bb55-7944822b4cca"
      },
      "source": [
        "fig, ax = plt.subplots(figsize=(8, 8))\n",
        "sns.histplot(y_train, label='y_train', kde=True ,stat=\"density\", common_norm=False, color='orange', alpha=0.3)\n",
        "sns.histplot(oof_tabnet, label='oof_train', kde=True, stat=\"density\", common_norm=False, alpha=0.3)\n",
        "ax.legend()\n",
        "ax.grid()"
      ],
      "execution_count": null,
      "outputs": [
        {
          "output_type": "display_data",
          "data": {
            "image/png": "[encoded data removed]",
            "text/plain": [
              "<Figure size 576x576 with 1 Axes>"
            ]
          },
          "metadata": {
            "tags": []
          }
        }
      ]
    },
    {
      "cell_type": "markdown",
      "metadata": {
        "id": "3co9AZJ4qdZZ"
      },
      "source": [
        "# Submission"
      ]
    },
    {
      "cell_type": "code",
      "metadata": {
        "id": "hw2vkdfVqc7X"
      },
      "source": [
        "# oof出力\n",
        "pd.DataFrame({'oof_tabnet': oof_tabnet}).to_csv(f'../output/{NOTEBOOK_NAME}_oof.csv', index=False)\n",
        "\n",
        "# submission出力\n",
        "sub = pd.read_csv(os.path.join(DATA_DIR, 'atmacup10__sample_submission.csv'))\n",
        "sub['likes'] = np.expm1(pred_tabnet)\n",
        "sub.loc[sub.likes <= 0,\"likes\"] = 0\n",
        "sub.to_csv(f'../output/{NOTEBOOK_NAME}_sub.csv',index=False)"
      ],
      "execution_count": null,
      "outputs": []
    },
    {
      "cell_type": "code",
      "metadata": {
        "id": "Epf6NN5KZsl8"
      },
      "source": [
        ""
      ],
      "execution_count": null,
      "outputs": []
    }
  ]
}